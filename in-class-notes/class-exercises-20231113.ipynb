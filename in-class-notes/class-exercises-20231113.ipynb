{
 "cells": [
  {
   "cell_type": "markdown",
   "metadata": {},
   "source": [
    "# Class notes for Nov 13, 2023\n",
    "\n",
    "Reflecting the activities in class using the Omeka S API "
   ]
  },
  {
   "cell_type": "code",
   "execution_count": 1,
   "metadata": {},
   "outputs": [],
   "source": [
    "import json\n",
    "import requests"
   ]
  },
  {
   "cell_type": "markdown",
   "metadata": {},
   "source": [
    "This is the helper function to query `secrets.json`:"
   ]
  },
  {
   "cell_type": "code",
   "execution_count": 2,
   "metadata": {},
   "outputs": [],
   "source": [
    "def get_credential(json_file, key, sub_key):\n",
    "   try:\n",
    "       with open(json_file) as f:\n",
    "           data = json.load(f)\n",
    "           return data[key][sub_key]\n",
    "   except Exception as e:\n",
    "       print(\"Error: \", e)"
   ]
  },
  {
   "cell_type": "code",
   "execution_count": 3,
   "metadata": {},
   "outputs": [],
   "source": [
    "baseURL = 'http://jajohnst.projectst.si.umich.edu/omekas/api/' # modify this for your own site\n",
    "key_identity = get_credential('../secrets.json', 'omeka', 'key_identity')\n",
    "key_credential = get_credential('../secrets.json', 'omeka', 'key_credential')"
   ]
  },
  {
   "cell_type": "markdown",
   "metadata": {},
   "source": [
    "Create a dictionary for those credentials:"
   ]
  },
  {
   "cell_type": "code",
   "execution_count": 4,
   "metadata": {},
   "outputs": [],
   "source": [
    "omeka_credentials = {\n",
    "    'key_identity': key_identity,\n",
    "    'key_credential': key_credential\n",
    "}"
   ]
  },
  {
   "cell_type": "markdown",
   "metadata": {},
   "source": [
    "## Make a request to get item information\n",
    "\n",
    "For a specific item, with the endpoint for `items` and ID `587`:"
   ]
  },
  {
   "cell_type": "code",
   "execution_count": 5,
   "metadata": {},
   "outputs": [],
   "source": [
    "resource_type = 'items'\n",
    "item_ID = 587"
   ]
  },
  {
   "cell_type": "code",
   "execution_count": 6,
   "metadata": {},
   "outputs": [],
   "source": [
    "item_request = requests.get(baseURL + resource_type + '/' + str(item_ID), params=omeka_credentials)"
   ]
  },
  {
   "cell_type": "code",
   "execution_count": 7,
   "metadata": {},
   "outputs": [
    {
     "data": {
      "text/plain": [
       "200"
      ]
     },
     "execution_count": 7,
     "metadata": {},
     "output_type": "execute_result"
    }
   ],
   "source": [
    "item_request.status_code"
   ]
  },
  {
   "cell_type": "markdown",
   "metadata": {},
   "source": [
    "### Looking into the response data"
   ]
  },
  {
   "cell_type": "code",
   "execution_count": 8,
   "metadata": {},
   "outputs": [],
   "source": [
    "item_data = item_request.json()"
   ]
  },
  {
   "cell_type": "code",
   "execution_count": 9,
   "metadata": {},
   "outputs": [
    {
     "data": {
      "text/plain": [
       "587"
      ]
     },
     "execution_count": 9,
     "metadata": {},
     "output_type": "execute_result"
    }
   ],
   "source": [
    "item_data['o:id']"
   ]
  },
  {
   "cell_type": "code",
   "execution_count": 10,
   "metadata": {},
   "outputs": [
    {
     "data": {
      "text/plain": [
       "'Main public library building, Detroit, Michigan. Cass Gilbert, architect. Postcard by Albertype Co., 1921-1930. Prints & Photographs Division'"
      ]
     },
     "execution_count": 10,
     "metadata": {},
     "output_type": "execute_result"
    }
   ],
   "source": [
    "item_data['o:title']"
   ]
  },
  {
   "cell_type": "code",
   "execution_count": 11,
   "metadata": {},
   "outputs": [
    {
     "name": "stdout",
     "output_type": "stream",
     "text": [
      "@context :  http://jajohnst.projectst.si.umich.edu/omekas/api-context\n",
      "@id :  http://jajohnst.projectst.si.umich.edu/omekas/api/items/587\n",
      "@type :  ['o:Item', 'dctype:Image']\n",
      "o:id :  587\n",
      "o:is_public :  True\n",
      "o:owner :  {'@id': 'http://jajohnst.projectst.si.umich.edu/omekas/api/users/2', 'o:id': 2}\n",
      "o:resource_class :  {'@id': 'http://jajohnst.projectst.si.umich.edu/omekas/api/resource_classes/26', 'o:id': 26}\n",
      "o:resource_template :  None\n",
      "o:thumbnail :  None\n",
      "o:title :  Main public library building, Detroit, Michigan. Cass Gilbert, architect. Postcard by Albertype Co., 1921-1930. Prints & Photographs Division\n",
      "thumbnail_display_urls :  {'large': 'http://jajohnst.projectst.si.umich.edu/omekas/files/large/52d9101c9e01f8841edea69d21d2f802c009d16c.jpg', 'medium': 'http://jajohnst.projectst.si.umich.edu/omekas/files/medium/52d9101c9e01f8841edea69d21d2f802c009d16c.jpg', 'square': 'http://jajohnst.projectst.si.umich.edu/omekas/files/square/52d9101c9e01f8841edea69d21d2f802c009d16c.jpg'}\n",
      "o:created :  {'@value': '2022-12-04T21:03:11+00:00', '@type': 'http://www.w3.org/2001/XMLSchema#dateTime'}\n",
      "o:modified :  {'@value': '2022-12-04T21:03:11+00:00', '@type': 'http://www.w3.org/2001/XMLSchema#dateTime'}\n",
      "o:media :  [{'@id': 'http://jajohnst.projectst.si.umich.edu/omekas/api/media/603', 'o:id': 603}]\n",
      "o:item_set :  [{'@id': 'http://jajohnst.projectst.si.umich.edu/omekas/api/item_sets/1', 'o:id': 1}, {'@id': 'http://jajohnst.projectst.si.umich.edu/omekas/api/item_sets/146', 'o:id': 146}]\n",
      "o:site :  [{'@id': 'http://jajohnst.projectst.si.umich.edu/omekas/api/sites/1', 'o:id': 1}, {'@id': 'http://jajohnst.projectst.si.umich.edu/omekas/api/sites/2', 'o:id': 2}]\n",
      "dcterms:title :  [{'type': 'literal', 'property_id': 1, 'property_label': 'Title', 'is_public': True, '@value': 'Main public library building, Detroit, Michigan. Cass Gilbert, architect. Postcard by Albertype Co., 1921-1930. Prints & Photographs Division'}]\n",
      "dcterms:description :  [{'type': 'literal', 'property_id': 4, 'property_label': 'Description', 'is_public': True, '@value': 'Photograph shows view of Carnegie library in Detroit, Michigan.'}, {'type': 'literal', 'property_id': 4, 'property_label': 'Description', 'is_public': True, '@value': 'Title from item.| Includes advertisement for Berry Brothers, varnishes and paint specialties.| Library designed by Cass Gilbert.| Accession box no. PR 06 CN 037 c2'}]\n",
      "foaf:img :  [{'type': 'literal', 'property_id': 154, 'property_label': 'image', 'is_public': True, '@value': '/static/portals/free-to-use/public-domain/libraries/libraries-15.jpg'}]\n",
      "dcterms:identifier :  [{'type': 'literal', 'property_id': 10, 'property_label': 'Identifier', 'is_public': True, '@value': '/resource/ds.06560/'}, {'type': 'literal', 'property_id': 10, 'property_label': 'Identifier', 'is_public': True, '@value': 'http://www.loc.gov/item/2014647618/'}]\n",
      "dcterms:rights :  [{'type': 'literal', 'property_id': 15, 'property_label': 'Rights', 'is_public': True, '@value': 'No known restrictions on publication.'}]\n",
      "mods:recordContentSource :  [{'type': 'literal', 'property_id': 252, 'property_label': 'Record Content Source', 'is_public': True, '@value': 'Library of Congress Prints and Photographs Division Washington, D.C. 20540 USA http://hdl.loc.gov/loc.pnp/pp.print'}]\n",
      "dcterms:creator :  [{'type': 'literal', 'property_id': 2, 'property_label': 'Creator', 'is_public': True, '@value': 'Gilbert, Cass, 1859-1934, architect'}]\n",
      "dcterms:subject :  [{'type': 'literal', 'property_id': 3, 'property_label': 'Subject', 'is_public': True, '@value': 'Detroit Public Library--Buildings--1920-1930; Berry Brothers--Public relations--1920-1930; Carnegie libraries--Michigan--Detroit--1920-1930; Public libraries--Michigan--Detroit--1920-1930; Michigan--Detroit'}]\n",
      "mods:physicalForm :  [{'type': 'literal', 'property_id': 278, 'property_label': 'Physical Form', 'is_public': True, '@value': '1 photograph : hand-colored collotype ; sheet 14 x 21 cm.'}]\n",
      "dcterms:alternative :  [{'type': 'literal', 'property_id': 17, 'property_label': 'Alternative Title', 'is_public': True, '@value': 'Main public library building - Detroit'}]\n",
      "mods:subjectComplex :  [{'type': 'literal', 'property_id': 189, 'property_label': 'Subject - Complex', 'is_public': True, '@value': 'Detroit Public Library--Buildings--1920-1930; Berry Brothers--Public relations--1920-1930; Carnegie libraries--Michigan--Detroit--1920-1930; Public libraries--Michigan--Detroit--1920-1930; Michigan--Detroit'}]\n"
     ]
    }
   ],
   "source": [
    "for key, val in item_data.items():\n",
    "    print(key,': ',val)"
   ]
  },
  {
   "cell_type": "code",
   "execution_count": 12,
   "metadata": {},
   "outputs": [],
   "source": [
    "dctitle = item_data.get('dcterms:title')"
   ]
  },
  {
   "cell_type": "code",
   "execution_count": 13,
   "metadata": {},
   "outputs": [
    {
     "data": {
      "text/plain": [
       "[{'type': 'literal',\n",
       "  'property_id': 1,\n",
       "  'property_label': 'Title',\n",
       "  'is_public': True,\n",
       "  '@value': 'Main public library building, Detroit, Michigan. Cass Gilbert, architect. Postcard by Albertype Co., 1921-1930. Prints & Photographs Division'}]"
      ]
     },
     "execution_count": 13,
     "metadata": {},
     "output_type": "execute_result"
    }
   ],
   "source": [
    "dctitle"
   ]
  },
  {
   "cell_type": "code",
   "execution_count": 14,
   "metadata": {},
   "outputs": [
    {
     "data": {
      "text/plain": [
       "'Main public library building, Detroit, Michigan. Cass Gilbert, architect. Postcard by Albertype Co., 1921-1930. Prints & Photographs Division'"
      ]
     },
     "execution_count": 14,
     "metadata": {},
     "output_type": "execute_result"
    }
   ],
   "source": [
    "dctitle[0]['@value']"
   ]
  },
  {
   "cell_type": "code",
   "execution_count": 15,
   "metadata": {},
   "outputs": [
    {
     "data": {
      "text/plain": [
       "'Main public library building, Detroit, Michigan. Cass Gilbert, architect. Postcard by Albertype Co., 1921-1930. Prints & Photographs Division'"
      ]
     },
     "execution_count": 15,
     "metadata": {},
     "output_type": "execute_result"
    }
   ],
   "source": [
    "item_data['dcterms:title'][0]['@value']"
   ]
  },
  {
   "cell_type": "markdown",
   "metadata": {},
   "source": [
    "## Making a change to information in the Omeka site\n",
    "\n",
    "Using the API, you can also make requests that add, change, update, or delete information in the Omeka site's database.\n",
    "\n",
    "Here, for example, is the case of adding a new `item_set`:"
   ]
  },
  {
   "cell_type": "code",
   "execution_count": 16,
   "metadata": {},
   "outputs": [],
   "source": [
    "# get new keys\n",
    "\n",
    "key_credential = get_credential('../secrets.json', 'omeka-si676-2023', 'key_credential')\n",
    "key_identity = get_credential('../secrets.json', 'omeka-si676-2023', 'key_identity')"
   ]
  },
  {
   "cell_type": "code",
   "execution_count": 17,
   "metadata": {},
   "outputs": [],
   "source": [
    "item_set_create = requests.post(baseURL + 'item_sets/', params={'key_credential': key_credential, 'key_identity': key_identity}, \n",
    "data='''{\n",
    "    \"dcterms:title\" : [\n",
    "        {\n",
    "            \"type\" : \"literal\",\n",
    "            \"property_label\" : \"Title\",\n",
    "            \"@value\" : \"NewItemSetfromAPI Python test\",\n",
    "            \"property_id\" : 1\n",
    "        }\n",
    "    ]\n",
    "}''')"
   ]
  },
  {
   "cell_type": "code",
   "execution_count": 18,
   "metadata": {},
   "outputs": [
    {
     "data": {
      "text/plain": [
       "'http://jajohnst.projectst.si.umich.edu/omekas/api/item_sets?key_credential=hv8DgOtPiD9LrOFumjvoSfxoo9idXTdU&key_identity=rnHJtGWeGV3BmWnRM2WUyZBdBBKMLBWK'"
      ]
     },
     "execution_count": 18,
     "metadata": {},
     "output_type": "execute_result"
    }
   ],
   "source": [
    "item_set_create.url"
   ]
  },
  {
   "cell_type": "code",
   "execution_count": 19,
   "metadata": {},
   "outputs": [
    {
     "data": {
      "text/plain": [
       "415"
      ]
     },
     "execution_count": 19,
     "metadata": {},
     "output_type": "execute_result"
    }
   ],
   "source": [
    "item_set_create.status_code"
   ]
  },
  {
   "cell_type": "code",
   "execution_count": 20,
   "metadata": {},
   "outputs": [
    {
     "data": {
      "text/plain": [
       "{'Date': 'Tue, 14 Nov 2023 14:21:59 GMT', 'Server': 'Apache', 'Omeka-S-Version': '3.2.3', 'Keep-Alive': 'timeout=5, max=99', 'Connection': 'Keep-Alive', 'Transfer-Encoding': 'chunked', 'Content-Type': 'application/json; charset=utf-8'}"
      ]
     },
     "execution_count": 20,
     "metadata": {},
     "output_type": "execute_result"
    }
   ],
   "source": [
    "item_set_create.headers"
   ]
  },
  {
   "cell_type": "code",
   "execution_count": 21,
   "metadata": {},
   "outputs": [
    {
     "data": {
      "text/plain": [
       "{'errors': {'error': 'Invalid Content-Type header. Expecting \"application/json\", got \"none\".'}}"
      ]
     },
     "execution_count": 21,
     "metadata": {},
     "output_type": "execute_result"
    }
   ],
   "source": [
    "item_set_create.json()"
   ]
  },
  {
   "cell_type": "code",
   "execution_count": 22,
   "metadata": {},
   "outputs": [],
   "source": [
    "# add specific content type header\n",
    "headers = {'Content-Type':'application/json'}\n",
    "\n",
    "# rerun post request with headers\n",
    "item_set_create = requests.post(baseURL + 'item_sets/', headers=headers, params={'key_credential': key_credential, 'key_identity': key_identity}, \n",
    "data='''{\n",
    "    \"dcterms:title\" : [\n",
    "        {\n",
    "            \"type\" : \"literal\",\n",
    "            \"property_label\" : \"Title\",\n",
    "            \"@value\" : \"NewItemSetfromAPI Python test\",\n",
    "            \"property_id\" : 1\n",
    "        }\n",
    "    ]\n",
    "}''')"
   ]
  },
  {
   "cell_type": "code",
   "execution_count": 23,
   "metadata": {},
   "outputs": [
    {
     "data": {
      "text/plain": [
       "200"
      ]
     },
     "execution_count": 23,
     "metadata": {},
     "output_type": "execute_result"
    }
   ],
   "source": [
    "item_set_create.status_code"
   ]
  },
  {
   "cell_type": "code",
   "execution_count": 24,
   "metadata": {},
   "outputs": [
    {
     "data": {
      "text/plain": [
       "{'@context': 'http://jajohnst.projectst.si.umich.edu/omekas/api-context',\n",
       " '@id': 'http://jajohnst.projectst.si.umich.edu/omekas/api/item_sets/675',\n",
       " '@type': 'o:ItemSet',\n",
       " 'o:id': 675,\n",
       " 'o:is_public': True,\n",
       " 'o:owner': {'@id': 'http://jajohnst.projectst.si.umich.edu/omekas/api/users/1',\n",
       "  'o:id': 1},\n",
       " 'o:resource_class': None,\n",
       " 'o:resource_template': None,\n",
       " 'o:thumbnail': None,\n",
       " 'o:title': 'NewItemSetfromAPI Python test',\n",
       " 'thumbnail_display_urls': {'large': None, 'medium': None, 'square': None},\n",
       " 'o:created': {'@value': '2023-11-14T14:23:32+00:00',\n",
       "  '@type': 'http://www.w3.org/2001/XMLSchema#dateTime'},\n",
       " 'o:modified': {'@value': '2023-11-14T14:23:32+00:00',\n",
       "  '@type': 'http://www.w3.org/2001/XMLSchema#dateTime'},\n",
       " 'o:is_open': False,\n",
       " 'o:items': {'@id': 'http://jajohnst.projectst.si.umich.edu/omekas/api/items?item_set_id=675'},\n",
       " 'dcterms:title': [{'type': 'literal',\n",
       "   'property_id': 1,\n",
       "   'property_label': 'Title',\n",
       "   'is_public': True,\n",
       "   '@value': 'NewItemSetfromAPI Python test'}]}"
      ]
     },
     "execution_count": 24,
     "metadata": {},
     "output_type": "execute_result"
    }
   ],
   "source": [
    "item_set_create.json()"
   ]
  },
  {
   "cell_type": "markdown",
   "metadata": {},
   "source": [
    "### Create multiple from a list\n",
    "\n",
    "The point of using the API is to automate batch operations. So,\n",
    "for example, if you want to create multiple resources, it can do that very quickly. \n",
    "Adapting the above example: "
   ]
  },
  {
   "cell_type": "code",
   "execution_count": 25,
   "metadata": {},
   "outputs": [],
   "source": [
    "# create list of things to create\n",
    "new_item_set_names = ['Another Item Set from the REST API', 'Spam, Spam, Spam', 'A Set to Remember', 'That\\'s all folks']"
   ]
  },
  {
   "cell_type": "code",
   "execution_count": 28,
   "metadata": {},
   "outputs": [
    {
     "name": "stdout",
     "output_type": "stream",
     "text": [
      "Requested new item set creation: Another Item Set from the REST API\n",
      "Requested new item set creation: Spam, Spam, Spam\n",
      "Requested new item set creation: A Set to Remember\n",
      "Requested new item set creation: That's all folks\n"
     ]
    }
   ],
   "source": [
    "# add specific content type header\n",
    "headers = {'Content-Type':'application/json'}\n",
    "resource_type = 'item_sets'\n",
    "\n",
    "# run the post request in a loop, with headers and a data in formatted string\n",
    "for set_name in new_item_set_names:\n",
    "    data = '{\"dcterms:title\" : [{\"type\" : \"literal\",\"property_label\" : \"Title\",\"@value\" : \"' + set_name + '\",\"property_id\" : 1}]}'\n",
    "    r = requests.post(baseURL + resource_type + '/', headers=headers, params={'key_credential': key_credential, 'key_identity': key_identity}, data=data)\n",
    "    print('Requested new item set creation:', set_name)"
   ]
  },
  {
   "cell_type": "markdown",
   "metadata": {},
   "source": [
    "# Success!\n",
    "\n",
    "![Screenshot of the sets created, as viewed in the Omeka S Admin View](../assets/omeka-api-sets-created.jpg \"Screenshot of the sets created in Omeka S Admin view\")"
   ]
  }
 ],
 "metadata": {
  "kernelspec": {
   "display_name": "base",
   "language": "python",
   "name": "python3"
  },
  "language_info": {
   "codemirror_mode": {
    "name": "ipython",
    "version": 3
   },
   "file_extension": ".py",
   "mimetype": "text/x-python",
   "name": "python",
   "nbconvert_exporter": "python",
   "pygments_lexer": "ipython3",
   "version": "3.9.18"
  }
 },
 "nbformat": 4,
 "nbformat_minor": 2
}
