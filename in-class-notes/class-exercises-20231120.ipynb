{
 "cells": [
  {
   "cell_type": "markdown",
   "metadata": {},
   "source": [
    "# Class activities November 20, 2023\n",
    "\n",
    "Notes on: \n",
    "\n",
    "* process of extracting recrods from loc.gov (review)\n",
    "* creation of CSV for import\n"
   ]
  },
  {
   "cell_type": "markdown",
   "metadata": {},
   "source": [
    "## loc.gov JSON API\n",
    "\n",
    "Querying the API"
   ]
  },
  {
   "cell_type": "code",
   "execution_count": 1,
   "metadata": {},
   "outputs": [],
   "source": [
    "import requests \n",
    "import json "
   ]
  },
  {
   "cell_type": "code",
   "execution_count": 2,
   "metadata": {},
   "outputs": [],
   "source": [
    "endpoint = 'https://www.loc.gov/free-to-use/libraries/'"
   ]
  },
  {
   "cell_type": "code",
   "execution_count": 3,
   "metadata": {},
   "outputs": [],
   "source": [
    "r = requests.get(endpoint, params={ 'fo':'json' })"
   ]
  },
  {
   "cell_type": "code",
   "execution_count": 4,
   "metadata": {},
   "outputs": [
    {
     "data": {
      "text/plain": [
       "200"
      ]
     },
     "execution_count": 4,
     "metadata": {},
     "output_type": "execute_result"
    }
   ],
   "source": [
    "r.status_code"
   ]
  },
  {
   "cell_type": "code",
   "execution_count": 5,
   "metadata": {},
   "outputs": [],
   "source": [
    "libraries_set = r.json()"
   ]
  },
  {
   "cell_type": "code",
   "execution_count": 6,
   "metadata": {},
   "outputs": [],
   "source": [
    "with open('library-set-json.json', 'w') as f:\n",
    "    json.dump(libraries_set, f, indent=2)"
   ]
  },
  {
   "cell_type": "markdown",
   "metadata": {},
   "source": [
    "Look for the elements in the file where you can find the list of items in the set... "
   ]
  },
  {
   "cell_type": "markdown",
   "metadata": {},
   "source": [
    "To see the initial elements:"
   ]
  },
  {
   "cell_type": "code",
   "execution_count": 7,
   "metadata": {},
   "outputs": [
    {
     "name": "stdout",
     "output_type": "stream",
     "text": [
      "breadcrumbs\n",
      "content\n",
      "content_is_post\n",
      "description\n",
      "expert_resources\n",
      "next\n",
      "next_sibling\n",
      "options\n",
      "pages\n",
      "portal\n",
      "previous\n",
      "previous_sibling\n",
      "site_type\n",
      "timestamp\n",
      "title\n",
      "type\n"
     ]
    }
   ],
   "source": [
    "for item in libraries_set:\n",
    "    print(item)"
   ]
  },
  {
   "cell_type": "markdown",
   "metadata": {},
   "source": [
    "Then, individual elements can be referenced by name like keys in a dictionary. Thus:"
   ]
  },
  {
   "cell_type": "code",
   "execution_count": 8,
   "metadata": {},
   "outputs": [
    {
     "name": "stdout",
     "output_type": "stream",
     "text": [
      "{'image': '/static/portals/free-to-use/public-domain/libraries/libraries-1.jpg', 'link': '/resource/cph.3f05183/', 'title': 'For greater knowledge, on more subjects, use your library more often. Illinois WPA Arts Project, 1936-1941. Prints & Photographs Division'}\n",
      "{'image': '/static/portals/free-to-use/public-domain/libraries/libraries-2.jpg', 'link': '/resource/highsm.20336/', 'title': 'Noyes Library for Young Children. Kensington, Maryland. Photo by Carol M. Highsmith,  2011. Prints & Photographs Division'}\n",
      "{'image': '/static/portals/free-to-use/public-domain/libraries/libraries-3.jpg', 'link': '/resource/fsa.8d24709/', 'title': 'Bethune-Cookman College. Students in the library reading room, Daytona Beach, Florida. Gordon Parks, 1943. Prints & Photographs Division'}\n",
      "{'image': '/static/portals/free-to-use/public-domain/libraries/libraries-4.jpg', 'link': '/resource/highsm.36052/', 'title': 'Public library in Antonito,  Colorado, near the New Mexico border. Photo by Carol M. Highsmith, 2015. Prints & Photographs Division'}\n",
      "{'image': '/static/portals/free-to-use/public-domain/libraries/libraries-5.jpg', 'link': '/resource/highsm.51772/', 'title': 'Library and Innovation Center in New Castle, Delaware, defines itself as \"a community learning and resource hub.\" Photo by Carol M. Highsmith, 2018. Prints & Photographs Division\\n'}\n",
      "{'image': '/static/portals/free-to-use/public-domain/libraries/libraries-6.jpg', 'link': '/resource/cph.3b43255/', 'title': 'Silence. Lithograph by Mabel Dwight, 1939. Prints & Photographs Division'}\n",
      "{'image': '/static/portals/free-to-use/public-domain/libraries/libraries-7.jpg', 'link': '/resource/highsm.20483/', 'title': 'Patterson Park Branch of the Enoch Pratt Free Library System. Photo by Carol M. Highsmith, 2011. Prints & Photographs Division'}\n",
      "{'image': '/static/portals/free-to-use/public-domain/libraries/libraries-8.jpg', 'link': '/resource/highsm.29207/', 'title': 'The easily identifiable J. Erik Jonsson Central Library, Dallas, Texas. Photo by Carol M. Highsmith, 2014. Prints & Photographs Division'}\n",
      "{'image': '/static/portals/free-to-use/public-domain/libraries/libraries-9.jpg', 'link': '/resource/fsa.8b32222/', 'title': 'Public library in the southwestern section of Mississippi, in the piney woods. Photo by Dorothea Lange, 1937. Prints & Photographs Division'}\n",
      "{'image': '/static/portals/free-to-use/public-domain/libraries/libraries-10.jpg', 'link': '/resource/highsm.64003/', 'title': '\"Bookmobile\" bus belonging to the Perry County Public Library in Hazard, Kentucky. Photo by Carol M. Highsmith, 2020. Prints & Photographs Division\\n'}\n",
      "{'image': '/static/portals/free-to-use/public-domain/libraries/libraries-11.jpg', 'link': '/resource/ppmsca.15412/', 'title': \"Creating the first fully developed children's department in 1899 is one of the historic milestones claimed by the Pittsburgh, Pennsylvania, Carnegie Library. Photo, 1900-1905. Prints & Photographs Division\\n\"}\n",
      "{'image': '/static/portals/free-to-use/public-domain/libraries/libraries-12.jpg', 'link': '/resource/highsm.49335/', 'title': 'Even a sculpted gila monster appears to be into reading near a Little Free Library in the Dunbar Spring neighborhood of Tucson, Arizona. Photo by Carol M. Highsmith, 2018. Prints & Photographs Division'}\n",
      "{'image': '/static/portals/free-to-use/public-domain/libraries/libraries-13.jpg', 'link': '/resource/highsm.20497/', 'title': 'Handley Library, Winchester, Virginia. Photo by Carol M. Highsmith, 2011. Prints & Photographs Division'}\n",
      "{'image': '/static/portals/free-to-use/public-domain/libraries/libraries-14.jpg', 'link': '/resource/npcc.28724/', 'title': 'Reading room for the blind, Library of Congress, Washington, DC. By National Photo Co., 1919 or 1920. Prints & Photographs Division'}\n",
      "{'image': '/static/portals/free-to-use/public-domain/libraries/libraries-15.jpg', 'link': '/resource/ds.06560/', 'title': 'Main public library building, Detroit, Michigan. Cass Gilbert, architect. Postcard by Albertype Co., 1921-1930. Prints & Photographs Division'}\n",
      "{'image': '/static/portals/free-to-use/public-domain/libraries/libraries-16.jpg', 'link': '/resource/hhh.hi0135.photos', 'title': \"Mother Marianne Library, Moloka'i Island, Kalaupapa, Kalawao County, Hawaii. Photo by Jack Boucher, 1991. Historic American Buildings Survey. Prints & Photographs Division\"}\n",
      "{'image': '/static/portals/free-to-use/public-domain/libraries/libraries-17.jpg', 'link': '/resource/cph.3f05168/', 'title': 'Curb service, 10,000 current books, convenient, free, time saving : Chicago Public Library, Randolph St. corridor. Illinois WPA Art Project, 1936-1941. Prints & Photographs Division\\n'}\n",
      "{'image': '/static/portals/free-to-use/public-domain/libraries/libraries-18.jpg', 'link': '/resource/ppmsca.15375/', 'title': 'Reading Room, Billings Memorial Library, University of Vermont, Burlington, Vermont. H.H. Richardson, architect. Photo, approx. 1890. Prints & Photographs Division'}\n",
      "{'image': '/static/portals/free-to-use/public-domain/libraries/libraries-19.jpg', 'link': '/resource/highsm.53335/', 'title': 'Library. Herbert Hoover Federal Building in Washington, D.C. Photo by Carol M. Highsmith, 2018. Prints & Photographs Division'}\n",
      "{'image': '/static/portals/free-to-use/public-domain/libraries/libraries-20.jpg', 'link': '/resource/hhh.ks0072.photos/?sp=2', 'title': 'Paola Free Library, Paola, Kansas. Photo by Dan Collins, 1984. Historic American Buildings Survey. Prints & Photographs Division'}\n",
      "{'image': '/static/portals/free-to-use/public-domain/libraries/libraries-21.jpg', 'link': '/resource/highsm.34640/', 'title': 'The Guernsey Branch Library, in Guernsey, Wyoming. Photo by Carol M. Highsmith, 2015. Prints & Photographs Division'}\n",
      "{'image': '/static/portals/free-to-use/public-domain/libraries/libraries-22.jpg', 'link': '/resource/ppmsca.17588/', 'title': 'Library of Congress when it was located in the U.S. Capitol. Copy of watercolor by William Bengough, 1897. Prints & Photographs Division'}\n",
      "{'image': '/static/portals/free-to-use/public-domain/libraries/libraries-23.jpg', 'link': '/resource/ppmsca.18016/', 'title': 'Library of Congress, Washington. By Detroit Publishing Co., 1902. Prints & Photographs Division'}\n",
      "{'image': '/static/portals/free-to-use/public-domain/libraries/libraries-24.jpg', 'link': '/resource/hhh.me0057.photos/?sp=1', 'title': 'Hubbard Free Library, Hallowell, Kennebec County, Maine. Copy of photo from approx. 1880. Historic American Buildings Survey. Prints & Photographs Division'}\n",
      "{'image': '/static/portals/free-to-use/public-domain/libraries/libraries-25.jpg', 'link': '/resource/highsm.41101/', 'title': 'Modernist stairway and bookstacks inside the Allen County Public Library, Fort Wayne, Indiana. Photo by Carol M. Highsmith, 2016. Prints & Photographs Division'}\n",
      "{'image': '/static/portals/free-to-use/public-domain/libraries/libraries-26.jpg', 'link': '/resource/det.4a17925/', 'title': 'Cossitt Library, Memphis, Tennessee. Photo by Detroit Publishing Co., 1906. Prints & Photographs Division'}\n",
      "{'image': '/static/portals/free-to-use/public-domain/libraries/libraries-27.jpg', 'link': '/resource/ppmsca.15426/', 'title': 'Main entrance. Boston Public Library. Massachusetts. 1895. Prints & Photographs Division'}\n",
      "{'image': '/static/portals/free-to-use/public-domain/libraries/libraries-28.jpg', 'link': '/resource/ppmscd.00084/', 'title': 'Interior view of library reading room with male and female students sitting at tables, reading, at the Tuskegee Institute, Alabama. Photo by Frances B. Johnston, approx. 1902. Prints & Photographs Division'}\n",
      "{'image': '/static/portals/free-to-use/public-domain/libraries/libraries-29.jpg', 'link': '/resource/highsm.18384/', 'title': 'George Peabody Library, Johns Hopkins University, Baltimore, Maryland. Photo by Carol M.  Highsmith, 2012. Prints & Photographs Division'}\n",
      "{'image': '/static/portals/free-to-use/public-domain/libraries/libraries-30.jpg', 'link': '/resource/g3851e.ct006252/', 'title': 'Map of Libraries, Washington, D.C. Library of Congress, 1926. Geography & Map Division'}\n",
      "{'image': '/static/portals/free-to-use/public-domain/libraries/libraries-31.jpg', 'link': '/resource/ppmsca.35590/', 'title': '\"Open Free to All\" is carved over the door of the Carnegie Public Library in Taunton, Massachusetts. Drawing by Albert R. Ross, approx. 1903. Prints & Photographs Division\\n'}\n",
      "{'image': '/static/portals/free-to-use/public-domain/libraries/libraries-32.jpg', 'link': '/resource/hhh.il0998.sheet/?sp=1', 'title': 'Paxton Carnegie Library, Paxton, Illinois. Drawing, 2011. Historic American Buildings Survey. Prints & Photographs Division'}\n",
      "{'image': '/static/portals/free-to-use/public-domain/libraries/libraries-33.jpg', 'link': '/resource/hhh.ok0012.sheet/?sp=8&q=hhh.ok0012', 'title': 'Carnegie Library, Guthrie, Oklahoma. Cross section drawing, 1973. Historic American Buildings Survey. Prints & Photographs Division'}\n",
      "{'image': '/static/portals/free-to-use/public-domain/libraries/libraries-34.jpg', 'link': '/resource/hhh.sc0767.photos/?sp=1', 'title': 'Carnegie Free Library, Union, South Carolina. Photo by Jack Boucher, 1987. Historic American Buildings Survey. Prints & Photographs Division'}\n",
      "{'image': '/static/portals/free-to-use/public-domain/libraries/libraries-35.jpg', 'link': '/resource/hhh.nj0089.photos/?sp=4', 'title': 'Princeton University, Library, Princeton, New Jersey. Photo by Jack Boucher, 1964. Historic American Buildings Survey. Prints & Photographs Division'}\n",
      "{'image': '/static/portals/free-to-use/public-domain/libraries/libraries-36.jpg', 'link': '/resource/highsm.31350/', 'title': 'Public library in Shepherdstown, West Virginia. Photo by Carol M. Highsmith, 2015. Prints & Photographs Division'}\n",
      "{'image': '/static/portals/free-to-use/public-domain/libraries/libraries-37.jpg', 'link': '/resource/hhh.ri0071.photos/?sp=8', 'title': 'Redwood Library, Newport, Rhode Island. Photo by Cervin Robinson, 1970. Historic American Buildings Survey. Prints & Photographs Division'}\n",
      "{'image': '/static/portals/free-to-use/public-domain/libraries/libraries-38.jpg', 'link': '/resource/highsm.48241/', 'title': 'Cook Memorial Library, the public library of Tamworth, New Hampshire. Photo by Carol M. Highsmith, 2017. Prints & Photographs Division'}\n",
      "{'image': '/static/portals/free-to-use/public-domain/libraries/libraries-39.jpg', 'link': '/resource/det.4a23603/', 'title': 'Little Rock Public Library, Little Rock, Arkansas. Photo by Detroit Publishing Co., approx. 1910. Prints & Photographs Division'}\n",
      "{'image': '/static/portals/free-to-use/public-domain/libraries/libraries-40.jpg', 'link': '/resource/highsm.04362/', 'title': 'Public Library, Salt Lake City, Utah. Photo by Carol M. Highsmith, 2007. Prints & Photographs Division'}\n",
      "{'image': '/static/portals/free-to-use/public-domain/libraries/libraries-41.jpg', 'link': '/resource/hhh.dc0121.photos/?sp=24', 'title': 'Riggs Library, Georgetown University, Washington, DC. Historic American Buildings Survey. 1969. Prints & Photographs Division'}\n",
      "{'image': '/static/portals/free-to-use/public-domain/libraries/libraries-42.jpg', 'link': '/resource/ppbd.00600/', 'title': \"The People's Library, set up by the Occupy Wall Street protest movement in Zuccotti Park, New York City. Photo by Teri Sierra, 2011. Prints & Photographs Division\\n\"}\n",
      "{'image': '/static/portals/free-to-use/public-domain/libraries/libraries-43.jpg', 'link': '/resource/fsa.8b14169/', 'title': 'Newspaper reading room of public library. Omaha, Nebraska. Photo by John Vachon, 1938. Prints & Photographs Division'}\n",
      "{'image': '/static/portals/free-to-use/public-domain/libraries/libraries-44.jpg', 'link': '/resource/highsm.32720/', 'title': 'Dusk view, Rawlings Public Library, Pueblo, Colorado. Photo by Carol M. Highsmith, 2015. Prints & Photographs Division'}\n",
      "{'image': '/static/portals/free-to-use/public-domain/libraries/libraries-45.jpg', 'link': '/resource/fsa.8c22565/', 'title': 'Library tent at the Farm Security Administration mobile camp for migratory farm workers, Odell, Oregon. Photo by Russell Lee, 1941. Prints & Photographs Division'}\n",
      "{'image': '/static/portals/free-to-use/public-domain/libraries/libraries-46.jpg', 'link': '/resource/mrg.00785/', 'title': 'Parmly Billings Library (Western Heritage Center), Billings, Montana. Photo by John Margolies, 2004. Prints & Photographs Division'}\n",
      "{'image': '/static/portals/free-to-use/public-domain/libraries/libraries-47.jpg', 'link': '/resource/hhh.ak0345.photos/?sp=2', 'title': 'Juneau Public Library, Juneau, Alaska. Photo by Jet Lowe, 1991. Historic American Buildings Survey. Prints & Photographs Division'}\n",
      "{'image': '/static/portals/free-to-use/public-domain/libraries/libraries-48.jpg', 'link': '/resource/highsm.43863/', 'title': 'Historic library in the North Carolina Capitol in Raleigh. Photo by Carol M. Highsmith, 2017. Prints & Photographs Division'}\n",
      "{'image': '/static/portals/free-to-use/public-domain/libraries/libraries-49.jpg', 'link': '/resource/highsm.42123/', 'title': \"An upright polar bear in Cincinnati, Ohio, not at the zoo, since it's stuffed, but at Cincinnati's main library. Photo by Carol M. Highsmith, 2016. Prints & Photographs Division\\n\"}\n",
      "{'image': '/static/portals/free-to-use/public-domain/libraries/libraries-50.jpg', 'link': '/resource/cph.3c18157/', 'title': 'Carnegie Library, Sheldon, Iowa. 1909. Prints & Photographs Division'}\n",
      "{'image': '/static/portals/free-to-use/public-domain/libraries/libraries-51.jpg', 'link': '/resource/ds.06507/', 'title': \"Buffalo, New York, Public library. Children's room. Photo by Levin C. Handy, approx. 1900. Prints & Photographs Division\\n\"}\n",
      "{'image': '/static/portals/free-to-use/public-domain/libraries/libraries-52.jpg', 'link': '/resource/highsm.24333/', 'title': 'Tower of the Central Library, Los Angeles, California. Photo by Carol M. Highsmith, 2013. Prints & Photographs Division'}\n",
      "{'image': '/static/portals/free-to-use/public-domain/libraries/libraries-53.jpg', 'link': '/resource/mrg.00788/', 'title': 'Library, Dickason Street, Columbus, Wisconsin. Photo by John Margolies, 2008. Prints & Photographs Division'}\n",
      "{'image': '/static/portals/free-to-use/public-domain/libraries/libraries-54.jpg', 'link': '/resource/highsm.20216/', 'title': 'Norfolk Library, Norfolk, Connecticut. Photo by Carol M. Highsmith, 2011. Prints & Photographs Division'}\n",
      "{'image': '/static/portals/free-to-use/public-domain/libraries/libraries-55.jpg', 'link': '/resource/cph.3b41963/', 'title': 'Carnegie Library, Cordele, Georgia. Photo, approx. 1916. Prints & Photographs Division'}\n",
      "{'image': '/static/portals/free-to-use/public-domain/libraries/libraries-56.jpg', 'link': '/resource/mrg.00432/', 'title': 'Nampa Public Library, Nampa, Idaho. Photo by John Margolies, 2004. Prints & Photographs Division'}\n",
      "{'image': '/static/portals/free-to-use/public-domain/libraries/libraries-57.jpg', 'link': '/resource/cph.3b39859/', 'title': 'Louisiana Industrial Institute and College Library with students reading, Ruston, Louisiana. Photo, 1900-1920. Prints & Photographs Division'}\n",
      "{'image': '/static/portals/free-to-use/public-domain/libraries/libraries-58.jpg', 'link': '/resource/highsm.60215/', 'title': 'The public library, with a creative book-themed facade, in Houston, Minnesota. Photo by Carol Highsmith, 2019. Prints & Photographs Division'}\n",
      "{'image': '/static/portals/free-to-use/public-domain/libraries/libraries-59.jpg', 'link': '/resource/ppmsca.15419/', 'title': 'Book room, Carnegie library, St. Joseph, Missouri. Photo, 1900-1905. Prints & Photographs Division'}\n",
      "{'image': '/static/portals/free-to-use/public-domain/libraries/libraries-60.jpg', 'link': '/resource/highsm.50410/', 'title': \"You wouldn't guess that this is a public library, but it is, in Skynomish, Washington. Photo by Carol M. Highsmith, 2018. Prints & Photographs Division\\n\"}\n",
      "{'image': '/static/portals/free-to-use/public-domain/libraries/libraries-61.jpg', 'link': '/resource/hhh.nv0134.photos', 'title': 'Library (C425), looking SW - Hawthorne Naval Ammunition Depot, Babbitt Housing Area, Hawthorne, Nevada. Photo by Joe C. Freeman, 1992. Historic American Buildings Survey. Prints & Photographs Division'}\n",
      "{'image': '/static/portals/free-to-use/public-domain/libraries/libraries-62.jpg', 'link': '/resource/highsm.18402', 'title': 'Interior of the Hutzler Reading room located in Gilman Hall, Johns Hopkins University, Baltimore, Maryland. Photo by Carol M. Highsmith, 2012. Prints & Photographs Division'}\n"
     ]
    }
   ],
   "source": [
    "for item in libraries_set['content']['set']['items']:\n",
    "    print(item)"
   ]
  },
  {
   "cell_type": "markdown",
   "metadata": {},
   "source": [
    "And, looking further, find the identifiers (called `link`):"
   ]
  },
  {
   "cell_type": "code",
   "execution_count": 9,
   "metadata": {},
   "outputs": [
    {
     "name": "stdout",
     "output_type": "stream",
     "text": [
      "/resource/cph.3f05183/\n",
      "/resource/highsm.20336/\n",
      "/resource/fsa.8d24709/\n",
      "/resource/highsm.36052/\n",
      "/resource/highsm.51772/\n",
      "/resource/cph.3b43255/\n",
      "/resource/highsm.20483/\n",
      "/resource/highsm.29207/\n",
      "/resource/fsa.8b32222/\n",
      "/resource/highsm.64003/\n",
      "/resource/ppmsca.15412/\n",
      "/resource/highsm.49335/\n",
      "/resource/highsm.20497/\n",
      "/resource/npcc.28724/\n",
      "/resource/ds.06560/\n",
      "/resource/hhh.hi0135.photos\n",
      "/resource/cph.3f05168/\n",
      "/resource/ppmsca.15375/\n",
      "/resource/highsm.53335/\n",
      "/resource/hhh.ks0072.photos/?sp=2\n",
      "/resource/highsm.34640/\n",
      "/resource/ppmsca.17588/\n",
      "/resource/ppmsca.18016/\n",
      "/resource/hhh.me0057.photos/?sp=1\n",
      "/resource/highsm.41101/\n",
      "/resource/det.4a17925/\n",
      "/resource/ppmsca.15426/\n",
      "/resource/ppmscd.00084/\n",
      "/resource/highsm.18384/\n",
      "/resource/g3851e.ct006252/\n",
      "/resource/ppmsca.35590/\n",
      "/resource/hhh.il0998.sheet/?sp=1\n",
      "/resource/hhh.ok0012.sheet/?sp=8&q=hhh.ok0012\n",
      "/resource/hhh.sc0767.photos/?sp=1\n",
      "/resource/hhh.nj0089.photos/?sp=4\n",
      "/resource/highsm.31350/\n",
      "/resource/hhh.ri0071.photos/?sp=8\n",
      "/resource/highsm.48241/\n",
      "/resource/det.4a23603/\n",
      "/resource/highsm.04362/\n",
      "/resource/hhh.dc0121.photos/?sp=24\n",
      "/resource/ppbd.00600/\n",
      "/resource/fsa.8b14169/\n",
      "/resource/highsm.32720/\n",
      "/resource/fsa.8c22565/\n",
      "/resource/mrg.00785/\n",
      "/resource/hhh.ak0345.photos/?sp=2\n",
      "/resource/highsm.43863/\n",
      "/resource/highsm.42123/\n",
      "/resource/cph.3c18157/\n",
      "/resource/ds.06507/\n",
      "/resource/highsm.24333/\n",
      "/resource/mrg.00788/\n",
      "/resource/highsm.20216/\n",
      "/resource/cph.3b41963/\n",
      "/resource/mrg.00432/\n",
      "/resource/cph.3b39859/\n",
      "/resource/highsm.60215/\n",
      "/resource/ppmsca.15419/\n",
      "/resource/highsm.50410/\n",
      "/resource/hhh.nv0134.photos\n",
      "/resource/highsm.18402\n"
     ]
    }
   ],
   "source": [
    "for item in libraries_set['content']['set']['items']:\n",
    "    print(item['link'])"
   ]
  },
  {
   "cell_type": "markdown",
   "metadata": {},
   "source": [
    "Finally, you can create valid URLs (which can then be looped back to individual API requests)...  "
   ]
  },
  {
   "cell_type": "code",
   "execution_count": 10,
   "metadata": {},
   "outputs": [
    {
     "name": "stdout",
     "output_type": "stream",
     "text": [
      "https://www.loc.gov/resource/cph.3f05183/\n",
      "https://www.loc.gov/resource/highsm.20336/\n",
      "https://www.loc.gov/resource/fsa.8d24709/\n",
      "https://www.loc.gov/resource/highsm.36052/\n",
      "https://www.loc.gov/resource/highsm.51772/\n",
      "https://www.loc.gov/resource/cph.3b43255/\n",
      "https://www.loc.gov/resource/highsm.20483/\n",
      "https://www.loc.gov/resource/highsm.29207/\n",
      "https://www.loc.gov/resource/fsa.8b32222/\n",
      "https://www.loc.gov/resource/highsm.64003/\n",
      "https://www.loc.gov/resource/ppmsca.15412/\n",
      "https://www.loc.gov/resource/highsm.49335/\n",
      "https://www.loc.gov/resource/highsm.20497/\n",
      "https://www.loc.gov/resource/npcc.28724/\n",
      "https://www.loc.gov/resource/ds.06560/\n",
      "https://www.loc.gov/resource/hhh.hi0135.photos\n",
      "https://www.loc.gov/resource/cph.3f05168/\n",
      "https://www.loc.gov/resource/ppmsca.15375/\n",
      "https://www.loc.gov/resource/highsm.53335/\n",
      "https://www.loc.gov/resource/hhh.ks0072.photos/?sp=2\n",
      "https://www.loc.gov/resource/highsm.34640/\n",
      "https://www.loc.gov/resource/ppmsca.17588/\n",
      "https://www.loc.gov/resource/ppmsca.18016/\n",
      "https://www.loc.gov/resource/hhh.me0057.photos/?sp=1\n",
      "https://www.loc.gov/resource/highsm.41101/\n",
      "https://www.loc.gov/resource/det.4a17925/\n",
      "https://www.loc.gov/resource/ppmsca.15426/\n",
      "https://www.loc.gov/resource/ppmscd.00084/\n",
      "https://www.loc.gov/resource/highsm.18384/\n",
      "https://www.loc.gov/resource/g3851e.ct006252/\n",
      "https://www.loc.gov/resource/ppmsca.35590/\n",
      "https://www.loc.gov/resource/hhh.il0998.sheet/?sp=1\n",
      "https://www.loc.gov/resource/hhh.ok0012.sheet/?sp=8&q=hhh.ok0012\n",
      "https://www.loc.gov/resource/hhh.sc0767.photos/?sp=1\n",
      "https://www.loc.gov/resource/hhh.nj0089.photos/?sp=4\n",
      "https://www.loc.gov/resource/highsm.31350/\n",
      "https://www.loc.gov/resource/hhh.ri0071.photos/?sp=8\n",
      "https://www.loc.gov/resource/highsm.48241/\n",
      "https://www.loc.gov/resource/det.4a23603/\n",
      "https://www.loc.gov/resource/highsm.04362/\n",
      "https://www.loc.gov/resource/hhh.dc0121.photos/?sp=24\n",
      "https://www.loc.gov/resource/ppbd.00600/\n",
      "https://www.loc.gov/resource/fsa.8b14169/\n",
      "https://www.loc.gov/resource/highsm.32720/\n",
      "https://www.loc.gov/resource/fsa.8c22565/\n",
      "https://www.loc.gov/resource/mrg.00785/\n",
      "https://www.loc.gov/resource/hhh.ak0345.photos/?sp=2\n",
      "https://www.loc.gov/resource/highsm.43863/\n",
      "https://www.loc.gov/resource/highsm.42123/\n",
      "https://www.loc.gov/resource/cph.3c18157/\n",
      "https://www.loc.gov/resource/ds.06507/\n",
      "https://www.loc.gov/resource/highsm.24333/\n",
      "https://www.loc.gov/resource/mrg.00788/\n",
      "https://www.loc.gov/resource/highsm.20216/\n",
      "https://www.loc.gov/resource/cph.3b41963/\n",
      "https://www.loc.gov/resource/mrg.00432/\n",
      "https://www.loc.gov/resource/cph.3b39859/\n",
      "https://www.loc.gov/resource/highsm.60215/\n",
      "https://www.loc.gov/resource/ppmsca.15419/\n",
      "https://www.loc.gov/resource/highsm.50410/\n",
      "https://www.loc.gov/resource/hhh.nv0134.photos\n",
      "https://www.loc.gov/resource/highsm.18402\n"
     ]
    }
   ],
   "source": [
    "endpoint = 'https://www.loc.gov'\n",
    "\n",
    "for item in libraries_set['content']['set']['items']:\n",
    "    url = endpoint + item['link']\n",
    "    print(url)"
   ]
  },
  {
   "cell_type": "markdown",
   "metadata": {},
   "source": [
    "Use the URLs to save JSON locally:"
   ]
  },
  {
   "cell_type": "code",
   "execution_count": 18,
   "metadata": {},
   "outputs": [
    {
     "name": "stdout",
     "output_type": "stream",
     "text": [
      "wrote item_metadata_cph.3f05183.json\n",
      "wrote item_metadata_highsm.20336.json\n",
      "wrote item_metadata_fsa.8d24709.json\n",
      "wrote item_metadata_highsm.36052.json\n",
      "wrote item_metadata_highsm.51772.json\n",
      "wrote item_metadata_cph.3b43255.json\n",
      "wrote item_metadata_highsm.20483.json\n",
      "wrote item_metadata_highsm.29207.json\n",
      "wrote item_metadata_fsa.8b32222.json\n",
      "wrote item_metadata_highsm.64003.json\n",
      "wrote item_metadata_ppmsca.15412.json\n",
      "wrote item_metadata_highsm.49335.json\n",
      "wrote item_metadata_highsm.20497.json\n",
      "wrote item_metadata_npcc.28724.json\n",
      "wrote item_metadata_ds.06560.json\n",
      "wrote item_metadata_hhh.hi0135.photos.json\n",
      "wrote item_metadata_cph.3f05168.json\n",
      "wrote item_metadata_ppmsca.15375.json\n",
      "wrote item_metadata_highsm.53335.json\n",
      "wrote item_metadata_hhh.ks0072.photos.json\n",
      "wrote item_metadata_highsm.34640.json\n",
      "error for ppmsca.17588\n",
      "wrote item_metadata_ppmsca.18016.json\n",
      "wrote item_metadata_hhh.me0057.photos.json\n",
      "wrote item_metadata_highsm.41101.json\n",
      "wrote item_metadata_det.4a17925.json\n",
      "wrote item_metadata_ppmsca.15426.json\n",
      "wrote item_metadata_ppmscd.00084.json\n",
      "wrote item_metadata_highsm.18384.json\n",
      "wrote item_metadata_g3851e.ct006252.json\n",
      "wrote item_metadata_ppmsca.35590.json\n",
      "wrote item_metadata_hhh.il0998.sheet.json\n",
      "wrote item_metadata_hhh.ok0012.sheet.json\n",
      "wrote item_metadata_hhh.sc0767.photos.json\n",
      "wrote item_metadata_hhh.nj0089.photos.json\n",
      "wrote item_metadata_highsm.31350.json\n",
      "wrote item_metadata_hhh.ri0071.photos.json\n",
      "wrote item_metadata_highsm.48241.json\n",
      "wrote item_metadata_det.4a23603.json\n",
      "wrote item_metadata_highsm.04362.json\n",
      "wrote item_metadata_hhh.dc0121.photos.json\n",
      "wrote item_metadata_ppbd.00600.json\n",
      "wrote item_metadata_fsa.8b14169.json\n",
      "wrote item_metadata_highsm.32720.json\n",
      "wrote item_metadata_fsa.8c22565.json\n",
      "wrote item_metadata_mrg.00785.json\n",
      "wrote item_metadata_hhh.ak0345.photos.json\n",
      "wrote item_metadata_highsm.43863.json\n",
      "wrote item_metadata_highsm.42123.json\n",
      "wrote item_metadata_cph.3c18157.json\n",
      "wrote item_metadata_ds.06507.json\n",
      "wrote item_metadata_highsm.24333.json\n",
      "wrote item_metadata_mrg.00788.json\n",
      "wrote item_metadata_highsm.20216.json\n",
      "wrote item_metadata_cph.3b41963.json\n",
      "wrote item_metadata_mrg.00432.json\n",
      "error for cph.3b39859\n",
      "wrote item_metadata_highsm.60215.json\n",
      "error for ppmsca.15419\n",
      "wrote item_metadata_highsm.50410.json\n",
      "wrote item_metadata_hhh.nv0134.photos.json\n",
      "wrote item_metadata_highsm.18402.json\n"
     ]
    }
   ],
   "source": [
    "endpoint = 'https://www.loc.gov'\n",
    "\n",
    "for item in libraries_set['content']['set']['items']:\n",
    "    url = endpoint + item['link']\n",
    "    id = item['link'].split('/')[2]\n",
    "    fname = 'item_metadata_' + id + '.json'\n",
    "    try:\n",
    "        r = requests.get(url, params={'fo':'json'})\n",
    "        with open(fname, 'w', encoding='utf-8') as f:\n",
    "            json.dump(r.json(), f, indent=2)\n",
    "        print('wrote', fname)\n",
    "    except:\n",
    "        print('error for',id)"
   ]
  },
  {
   "cell_type": "markdown",
   "metadata": {},
   "source": [
    "Most of the class was devoted to walking through the ETL workflow as it is outlined in the slides for Nov 20, \n",
    "then working through the full notebook and demonstrating the process of creating the item list CSV,\n",
    "then using the CSV Import module in python to ingest the items to your Omeka S install.   "
   ]
  }
 ],
 "metadata": {
  "kernelspec": {
   "display_name": "base",
   "language": "python",
   "name": "python3"
  },
  "language_info": {
   "codemirror_mode": {
    "name": "ipython",
    "version": 3
   },
   "file_extension": ".py",
   "mimetype": "text/x-python",
   "name": "python",
   "nbconvert_exporter": "python",
   "pygments_lexer": "ipython3",
   "version": "3.9.18"
  }
 },
 "nbformat": 4,
 "nbformat_minor": 2
}
