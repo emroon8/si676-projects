{
 "cells": [
  {
   "cell_type": "markdown",
   "metadata": {},
   "source": [
    "# Class demos October 23, 2023\n",
    "\n",
    "# Python and XML with ET\n",
    "\n",
    "Reference: https://github.com/morskyjezek/networked-services-labs-2023/blob/main/xml-intro-basic-functions-ET.ipynb"
   ]
  },
  {
   "cell_type": "code",
   "execution_count": 3,
   "metadata": {},
   "outputs": [],
   "source": [
    "import xml.etree.ElementTree as ET "
   ]
  },
  {
   "cell_type": "code",
   "execution_count": 5,
   "metadata": {},
   "outputs": [],
   "source": [
    "tree = ET.parse('../data/xml/superior-papers-demo.xml')"
   ]
  },
  {
   "cell_type": "code",
   "execution_count": 6,
   "metadata": {},
   "outputs": [
    {
     "data": {
      "text/plain": [
       "xml.etree.ElementTree.ElementTree"
      ]
     },
     "execution_count": 6,
     "metadata": {},
     "output_type": "execute_result"
    }
   ],
   "source": [
    "type(tree)"
   ]
  },
  {
   "cell_type": "code",
   "execution_count": 7,
   "metadata": {},
   "outputs": [],
   "source": [
    "root = tree.getroot()"
   ]
  },
  {
   "cell_type": "code",
   "execution_count": 8,
   "metadata": {},
   "outputs": [
    {
     "data": {
      "text/plain": [
       "'{http://ead3.archivists.org/schema/}ead'"
      ]
     },
     "execution_count": 8,
     "metadata": {},
     "output_type": "execute_result"
    }
   ],
   "source": [
    "root.tag"
   ]
  },
  {
   "cell_type": "code",
   "execution_count": 9,
   "metadata": {},
   "outputs": [],
   "source": [
    "ns = {\n",
    "    'ead': 'http://ead3.archivists.org/schema/'\n",
    "}"
   ]
  },
  {
   "cell_type": "code",
   "execution_count": 12,
   "metadata": {},
   "outputs": [
    {
     "name": "stdout",
     "output_type": "stream",
     "text": [
      "{http://ead3.archivists.org/schema/}control\n",
      "{http://ead3.archivists.org/schema/}archdesc\n"
     ]
    }
   ],
   "source": [
    "for element in root.find('{http://ead3.archivists.org/schema/}control'):\n",
    "    print(element.tag)"
   ]
  },
  {
   "cell_type": "code",
   "execution_count": 13,
   "metadata": {},
   "outputs": [
    {
     "name": "stdout",
     "output_type": "stream",
     "text": [
      "{http://ead3.archivists.org/schema/}recordid\n",
      "{http://ead3.archivists.org/schema/}filedesc\n"
     ]
    }
   ],
   "source": [
    "for element in root.find('{http://ead3.archivists.org/schema/}control'):\n",
    "    print(element.tag)"
   ]
  },
  {
   "cell_type": "code",
   "execution_count": 14,
   "metadata": {},
   "outputs": [
    {
     "name": "stdout",
     "output_type": "stream",
     "text": [
      "{http://ead3.archivists.org/schema/}recordid\n",
      "{http://ead3.archivists.org/schema/}filedesc\n"
     ]
    }
   ],
   "source": [
    "for element in root.find('ead:control', ns):\n",
    "    print(element.tag)"
   ]
  },
  {
   "cell_type": "code",
   "execution_count": 16,
   "metadata": {},
   "outputs": [
    {
     "name": "stdout",
     "output_type": "stream",
     "text": [
      "{http://ead3.archivists.org/schema/}control {'countryencoding': 'iso3166-1', 'dateencoding': 'iso8601', 'langencoding': 'iso639-2b'}\n"
     ]
    }
   ],
   "source": [
    "control = root.find('ead:control', ns)\n",
    "print(control.tag, control.attrib)"
   ]
  },
  {
   "cell_type": "code",
   "execution_count": 17,
   "metadata": {},
   "outputs": [
    {
     "data": {
      "text/plain": [
       "'\\n        '"
      ]
     },
     "execution_count": 17,
     "metadata": {},
     "output_type": "execute_result"
    }
   ],
   "source": [
    "control.text "
   ]
  },
  {
   "cell_type": "code",
   "execution_count": 21,
   "metadata": {},
   "outputs": [
    {
     "name": "stdout",
     "output_type": "stream",
     "text": [
      "{http://ead3.archivists.org/schema/}recordid {'instanceurl': 'http://jajohnst.si.umich.edu/fake-ead.xml'} 1234\n",
      "{http://ead3.archivists.org/schema/}filedesc {} \n",
      "            \n"
     ]
    }
   ],
   "source": [
    "for element in control:\n",
    "    print(element.tag, element.attrib, element.text)"
   ]
  },
  {
   "cell_type": "code",
   "execution_count": 23,
   "metadata": {},
   "outputs": [
    {
     "name": "stdout",
     "output_type": "stream",
     "text": [
      "{http://ead3.archivists.org/schema/}ead\n",
      "{http://ead3.archivists.org/schema/}control\n",
      "{http://ead3.archivists.org/schema/}recordid\n",
      "{http://ead3.archivists.org/schema/}filedesc\n",
      "{http://ead3.archivists.org/schema/}titlestmt\n",
      "{http://ead3.archivists.org/schema/}titleproper\n",
      "{http://ead3.archivists.org/schema/}publicationstmt\n",
      "{http://ead3.archivists.org/schema/}publisher\n",
      "{http://ead3.archivists.org/schema/}date\n",
      "{http://ead3.archivists.org/schema/}archdesc\n",
      "{http://ead3.archivists.org/schema/}did\n",
      "{http://ead3.archivists.org/schema/}repository\n",
      "{http://ead3.archivists.org/schema/}corpname\n",
      "{http://ead3.archivists.org/schema/}part\n",
      "{http://ead3.archivists.org/schema/}part\n",
      "{http://ead3.archivists.org/schema/}unittitle\n",
      "{http://ead3.archivists.org/schema/}title\n",
      "{http://ead3.archivists.org/schema/}unitdate\n",
      "{http://ead3.archivists.org/schema/}bioghist\n",
      "{http://ead3.archivists.org/schema/}dsc\n",
      "{http://ead3.archivists.org/schema/}c01\n",
      "{http://ead3.archivists.org/schema/}c02\n",
      "{http://ead3.archivists.org/schema/}c03\n"
     ]
    }
   ],
   "source": [
    "for element in root.iter():\n",
    "    print(element.tag)"
   ]
  },
  {
   "cell_type": "code",
   "execution_count": 26,
   "metadata": {},
   "outputs": [
    {
     "name": "stdout",
     "output_type": "stream",
     "text": [
      "{http://ead3.archivists.org/schema/}part {} University of Michigan\n",
      "{http://ead3.archivists.org/schema/}part {} School of Information\n"
     ]
    }
   ],
   "source": [
    "for element in root.iter('{http://ead3.archivists.org/schema/}part'):\n",
    "    print(element.tag, element.attrib, element.text)"
   ]
  },
  {
   "cell_type": "code",
   "execution_count": 27,
   "metadata": {},
   "outputs": [
    {
     "name": "stdout",
     "output_type": "stream",
     "text": [
      "{http://ead3.archivists.org/schema/}unitdate {'normal': '1850/1975', 'unitdatetype': 'inclusive'} 1850-1975\n"
     ]
    }
   ],
   "source": [
    "for element in root.iter('{http://ead3.archivists.org/schema/}unitdate'):\n",
    "    print(element.tag, element.attrib, element.text)"
   ]
  },
  {
   "cell_type": "code",
   "execution_count": 10,
   "metadata": {},
   "outputs": [
    {
     "name": "stdout",
     "output_type": "stream",
     "text": [
      "{http://ead3.archivists.org/schema/}titleproper\n"
     ]
    }
   ],
   "source": [
    "titleproper = root.find('ead:control/ead:filedesc/ead:titlestmt/ead:titleproper', ns)\n",
    "print(titleproper.tag)"
   ]
  },
  {
   "cell_type": "code",
   "execution_count": 37,
   "metadata": {},
   "outputs": [
    {
     "name": "stdout",
     "output_type": "stream",
     "text": [
      "{http://ead3.archivists.org/schema/}titleproper A Finding Aid for the Superior Papers\n"
     ]
    }
   ],
   "source": [
    "for title in root.iter('{http://ead3.archivists.org/schema/}titleproper'):\n",
    "    print(title.tag, title.text)"
   ]
  },
  {
   "cell_type": "code",
   "execution_count": 38,
   "metadata": {},
   "outputs": [
    {
     "name": "stdout",
     "output_type": "stream",
     "text": [
      "None\n"
     ]
    }
   ],
   "source": [
    "titleproper = root.find('{http://ead3.archivists.org/schema/}titleproper')\n",
    "\n",
    "print(titleproper)"
   ]
  },
  {
   "cell_type": "markdown",
   "metadata": {},
   "source": [
    "## Writing out XML to a file"
   ]
  },
  {
   "cell_type": "code",
   "execution_count": 39,
   "metadata": {},
   "outputs": [],
   "source": [
    "# establish a prefix\n",
    "ET.register_namespace('ead', 'http://ead3.archivists.org/schema/')\n",
    "ET.register_namespace('dcterms', 'http://purl.org/dc/elements/1.1/')"
   ]
  },
  {
   "cell_type": "code",
   "execution_count": 40,
   "metadata": {},
   "outputs": [],
   "source": [
    "tree.write('data/xml/superior-papers-revised.xml', xml_declaration=True, encoding='utf-8', method='xml')"
   ]
  },
  {
   "cell_type": "code",
   "execution_count": 41,
   "metadata": {},
   "outputs": [
    {
     "data": {
      "text/plain": [
       "'{http://ead3.archivists.org/schema/}ead'"
      ]
     },
     "execution_count": 41,
     "metadata": {},
     "output_type": "execute_result"
    }
   ],
   "source": [
    "root.tag"
   ]
  },
  {
   "cell_type": "code",
   "execution_count": 42,
   "metadata": {},
   "outputs": [],
   "source": [
    "control = root.find('{http://ead3.archivists.org/schema/}control')"
   ]
  },
  {
   "cell_type": "code",
   "execution_count": 43,
   "metadata": {},
   "outputs": [
    {
     "data": {
      "text/plain": [
       "'{http://ead3.archivists.org/schema/}control'"
      ]
     },
     "execution_count": 43,
     "metadata": {},
     "output_type": "execute_result"
    }
   ],
   "source": [
    "control.tag"
   ]
  },
  {
   "cell_type": "code",
   "execution_count": 44,
   "metadata": {},
   "outputs": [
    {
     "data": {
      "text/plain": [
       "{'countryencoding': 'iso3166-1',\n",
       " 'dateencoding': 'iso8601',\n",
       " 'langencoding': 'iso639-2b'}"
      ]
     },
     "execution_count": 44,
     "metadata": {},
     "output_type": "execute_result"
    }
   ],
   "source": [
    "control.attrib"
   ]
  },
  {
   "cell_type": "code",
   "execution_count": 45,
   "metadata": {},
   "outputs": [
    {
     "data": {
      "text/plain": [
       "{'countryencoding': 'iso3166-1',\n",
       " 'dateencoding': 'iso8601',\n",
       " 'langencoding': 'iso639-2b',\n",
       " 'language': 'en-US'}"
      ]
     },
     "execution_count": 45,
     "metadata": {},
     "output_type": "execute_result"
    }
   ],
   "source": [
    "control.set('language', 'en-US')\n",
    "control.attrib"
   ]
  },
  {
   "cell_type": "code",
   "execution_count": 46,
   "metadata": {},
   "outputs": [
    {
     "name": "stdout",
     "output_type": "stream",
     "text": [
      "wrote the file\n"
     ]
    }
   ],
   "source": [
    "tree.write('data/xml/superior-papers-revised.xml', xml_declaration=True, encoding='utf-8', method='xml')\n",
    "print('wrote the file')"
   ]
  },
  {
   "cell_type": "markdown",
   "metadata": {},
   "source": [
    "# File management in Python (conclusion)\n",
    "\n",
    "* getting datetime\n",
    "* create checksum\n",
    "* write out to CSV\n",
    "\n",
    "Reference: https://github.com/morskyjezek/networked-services-labs-2023/blob/main/python-file-management-FULL.ipynb"
   ]
  },
  {
   "cell_type": "code",
   "execution_count": 11,
   "metadata": {},
   "outputs": [],
   "source": [
    "import os \n",
    "from datetime import datetime \n",
    "import csv "
   ]
  },
  {
   "cell_type": "code",
   "execution_count": 12,
   "metadata": {},
   "outputs": [],
   "source": [
    "path_to_file = '../data/emails/mbox-short.txt'"
   ]
  },
  {
   "cell_type": "code",
   "execution_count": 13,
   "metadata": {},
   "outputs": [
    {
     "data": {
      "text/plain": [
       "True"
      ]
     },
     "execution_count": 13,
     "metadata": {},
     "output_type": "execute_result"
    }
   ],
   "source": [
    "os.path.isfile(path_to_file)"
   ]
  },
  {
   "cell_type": "code",
   "execution_count": 14,
   "metadata": {},
   "outputs": [
    {
     "data": {
      "text/plain": [
       "os.stat_result(st_mode=33188, st_ino=28064473, st_dev=16777229, st_nlink=1, st_uid=504, st_gid=20, st_size=94625, st_atime=1694411544, st_mtime=1663731214, st_ctime=1694411358)"
      ]
     },
     "execution_count": 14,
     "metadata": {},
     "output_type": "execute_result"
    }
   ],
   "source": [
    "os.stat(path_to_file)"
   ]
  },
  {
   "cell_type": "code",
   "execution_count": 15,
   "metadata": {},
   "outputs": [],
   "source": [
    "stat_info = os.stat(path_to_file)"
   ]
  },
  {
   "cell_type": "code",
   "execution_count": 18,
   "metadata": {},
   "outputs": [
    {
     "data": {
      "text/plain": [
       "1663731214.6876292"
      ]
     },
     "execution_count": 18,
     "metadata": {},
     "output_type": "execute_result"
    }
   ],
   "source": [
    "stat_info.st_mtime"
   ]
  },
  {
   "cell_type": "code",
   "execution_count": 20,
   "metadata": {},
   "outputs": [],
   "source": [
    "modify_time = datetime.strftime(datetime.fromtimestamp(stat_info.st_mtime), \"%Y-%m-%dT%H:%M:%S%Z\")"
   ]
  },
  {
   "cell_type": "code",
   "execution_count": 21,
   "metadata": {},
   "outputs": [
    {
     "name": "stdout",
     "output_type": "stream",
     "text": [
      "2022-09-20T23:33:34\n"
     ]
    }
   ],
   "source": [
    "print(modify_time)"
   ]
  },
  {
   "cell_type": "code",
   "execution_count": 24,
   "metadata": {},
   "outputs": [],
   "source": [
    "create_time = datetime.strftime(datetime.fromtimestamp(stat_info.st_ctime), \"%Y-%m-%dT%H:%M:%S%Z\")"
   ]
  },
  {
   "cell_type": "code",
   "execution_count": 25,
   "metadata": {},
   "outputs": [
    {
     "name": "stdout",
     "output_type": "stream",
     "text": [
      "2023-09-11T01:49:18\n"
     ]
    }
   ],
   "source": [
    "print(create_time)"
   ]
  },
  {
   "cell_type": "markdown",
   "metadata": {},
   "source": [
    "## create a checksum"
   ]
  },
  {
   "cell_type": "code",
   "execution_count": 26,
   "metadata": {},
   "outputs": [],
   "source": [
    "import hashlib "
   ]
  },
  {
   "cell_type": "code",
   "execution_count": 27,
   "metadata": {},
   "outputs": [],
   "source": [
    "def get_checksum(filePath, checksum_type):\n",
    "    checksum_type = checksum_type.lower()\n",
    "\n",
    "    with open(filePath, 'rb') as f: \n",
    "        bytes = f.read()\n",
    "        if checksum_type == 'md5':\n",
    "            hash_string = hashlib.md5(bytes).hexdigest()\n",
    "    return hash_string"
   ]
  },
  {
   "cell_type": "code",
   "execution_count": 28,
   "metadata": {},
   "outputs": [
    {
     "data": {
      "text/plain": [
       "'b30c720633214d72186ccfdee629ea58'"
      ]
     },
     "execution_count": 28,
     "metadata": {},
     "output_type": "execute_result"
    }
   ],
   "source": [
    "get_checksum(path_to_file, 'md5')"
   ]
  },
  {
   "cell_type": "code",
   "execution_count": 29,
   "metadata": {},
   "outputs": [],
   "source": [
    "file_hash_md5 = get_checksum(path_to_file, 'md5')"
   ]
  },
  {
   "cell_type": "code",
   "execution_count": 30,
   "metadata": {},
   "outputs": [
    {
     "data": {
      "text/plain": [
       "'b30c720633214d72186ccfdee629ea58'"
      ]
     },
     "execution_count": 30,
     "metadata": {},
     "output_type": "execute_result"
    }
   ],
   "source": [
    "file_hash_md5"
   ]
  },
  {
   "cell_type": "code",
   "execution_count": 31,
   "metadata": {},
   "outputs": [],
   "source": [
    "headers = [\n",
    "    'filename',\n",
    "    'folder_path',\n",
    "    'size',\n",
    "    'modify_time',\n",
    "    'checksum'\n",
    "]"
   ]
  },
  {
   "cell_type": "code",
   "execution_count": 34,
   "metadata": {},
   "outputs": [],
   "source": [
    "oneFile = {\n",
    "    'filename': path_to_file,\n",
    "    'folder_path': path_to_file,\n",
    "    'size': stat_info.st_size,\n",
    "    'modify_time': modify_time,\n",
    "    'checksum': get_checksum(path_to_file, 'md5')\n",
    "}"
   ]
  },
  {
   "cell_type": "code",
   "execution_count": 36,
   "metadata": {},
   "outputs": [],
   "source": [
    "oneFilelist = [\n",
    "    path_to_file,\n",
    "    path_to_file,\n",
    "    stat_info.st_size,\n",
    "    modify_time,\n",
    "    get_checksum(path_to_file, 'md5')\n",
    "]"
   ]
  },
  {
   "cell_type": "code",
   "execution_count": 37,
   "metadata": {},
   "outputs": [
    {
     "data": {
      "text/plain": [
       "['../data/emails/mbox-short.txt',\n",
       " '../data/emails/mbox-short.txt',\n",
       " 94625,\n",
       " '2022-09-20T23:33:34',\n",
       " 'b30c720633214d72186ccfdee629ea58']"
      ]
     },
     "execution_count": 37,
     "metadata": {},
     "output_type": "execute_result"
    }
   ],
   "source": [
    "oneFilelist"
   ]
  },
  {
   "cell_type": "code",
   "execution_count": 38,
   "metadata": {},
   "outputs": [
    {
     "name": "stdout",
     "output_type": "stream",
     "text": [
      "writing file manifest...\n",
      "wrote file manifest\n"
     ]
    }
   ],
   "source": [
    "with open('file-manifest.csv', 'w') as f: \n",
    "    writer = csv.writer(f)\n",
    "    print('writing file manifest...')\n",
    "    writer.writerow(headers)\n",
    "    writer.writerow(oneFilelist)\n",
    "    print('wrote file manifest')"
   ]
  },
  {
   "cell_type": "markdown",
   "metadata": {},
   "source": [
    "Note that in the demo notebook, the file information is in a list of lists. You can either\n",
    "make a list of lists, where each list is the file information that you want, in the correct order; \n",
    "or, you can make a dictionary with each bit of file information connected to the fieldname. \n",
    "Then, use that iterable object to create the CSV (ie., you can go through it item by item, and write\n",
    "out each item as a new entry [line] in your CSV file). "
   ]
  }
 ],
 "metadata": {
  "kernelspec": {
   "display_name": "base",
   "language": "python",
   "name": "python3"
  },
  "language_info": {
   "codemirror_mode": {
    "name": "ipython",
    "version": 3
   },
   "file_extension": ".py",
   "mimetype": "text/x-python",
   "name": "python",
   "nbconvert_exporter": "python",
   "pygments_lexer": "ipython3",
   "version": "3.9.18"
  }
 },
 "nbformat": 4,
 "nbformat_minor": 2
}
