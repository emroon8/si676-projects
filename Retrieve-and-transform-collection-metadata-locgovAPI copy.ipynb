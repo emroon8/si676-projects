{
 "cells": [
  {
   "cell_type": "markdown",
   "id": "8bec8f5c-90cb-4936-a161-b1f1c53ed2df",
   "metadata": {},
   "source": [
    "# Extracting and Transforming Metadata\n",
    "\n",
    "This notebook involves many steps, but each of the main steps is signposted with headings that align with the initial outline below. As previously, we will walk through the steps in class, but at this point you have most of the tools to read through and reconstruct a process like this on your own, so this work will be more self-guided. The general process here follows the generalized \"Extract - Transform - Load\" process, which is frequently the abstract model for pulling data from one system, transporting, cleaning, and outputting to another system, which is the goal here: extract the metadata from the Library of Congress, change it into a structure that makes sense to Omeka, then ingest that data and associated content.\n",
    "\n",
    "## Learning objectives\n",
    "\n",
    "After completing the assignment associated with this notebook, you should: \n",
    "\n",
    "* Have a conceptual and a practical understanding of how collection metadata is made available by a REST API.\n",
    "* Be able to explain the concept of metadata extraction and transformation.\n",
    "* Create a structure for documenting metadata practices in a collection or repository (a Metadata Application Profile) and implement that structure for transformations. \n",
    "* Use programming to work with data supplied by an API in JSON format, to manage and transform useful parts of that data into CSV format.\n",
    "* Create ingest-ready collection metadata that conforms to Dublin Core and other digital collection metadata standards, which can be used to load content into another site (in this case, an Omeka S site). \n",
    "\n",
    "## Introduction\n",
    "\n",
    "The main steps outlined in this notebook are as follows:\n",
    "\n",
    "* **Extract the metadata.** This may be done in whatever way works for you. As illustrated here, there are two main steps that involve requesting JSON data from the Library of Congress: \n",
    "  1. Get collections list - using the requests library, make a request to the library of congress API to get the list of items in the \"Free to Use\" libraries collection. Write this to a local file (here called `collection_items_list.csv` and in the `data` directory). \n",
    "  1. Get item metadata - using the list from the previous step, use that a source to query each item in the collection to get details about it. Save the JSON responses locally so we can extract information from them in the next steps. (In this example, you will have around 60 files, but a maximum of 62 as of September 2022. This number may vary when you run this code yourself since the website may have different response rates.)\n",
    "* **Transform the metadata.** As illustrated here, there are three substeps: develop the conceptual model for your transformation (expressed in a Metadata Application Profile and an implementation of the MAP in a crosswalk), test the implementation on a small subset, then run your transformation on the entire set.\n",
    "  1. Draft a metadata crosswalk - this is an exploratory activity and you will need to take some time examining one or two sample responses from the previous step to identify the attributes that you want to extract (the goal is to identify the information that you want to import to your Omeka site collection, essentially we are going to recreate the collection), to see how to extract these from the JSON, and to write a test transformation in the next step. This is largely conceptual and, although it is sketched out in this notebook will not use python like the other steps here. That said, the next step does require this step. \n",
    "  1. Develop your transformation script with a small subset of the metadata. In this case, one record.\n",
    "  1. Transform the data you've gathered in JSON into a CSV file according to the metadata crosswalk you've developed. The goal in this step is to create a CSV that we can use to import items into your Omeka site (using the CSV Import module). Note that the code outlined here suggests how all of these data elements may be extracted and transformed, but it does not necessarily output all of the elements that you will need to complete your assignment. In other words, there is still work to do to complete this code, but you are welcome to adopt or reuse the code here.  \n",
    "* **Load the metadata** into your target system, in this case Omeka which we are using as a display platform. This step is not described in this notebook, because it requires the use of the CSV developed here to be ingested to your Omeka site. Without the above steps, however, you wouldn't be able to directly display these items. "
   ]
  },
  {
   "cell_type": "markdown",
   "id": "00a281bf-4fb1-4bb2-b01f-d4f1c523e905",
   "metadata": {},
   "source": [
    "# Get collection list"
   ]
  },
  {
   "cell_type": "code",
   "execution_count": 22,
   "id": "fd81df05-072c-47cd-b4dc-b3abdbaa8400",
   "metadata": {},
   "outputs": [],
   "source": [
    "import csv\n",
    "import json\n",
    "import requests\n",
    "\n",
    "# for later, when working with local files\n",
    "import glob\n",
    "import os\n",
    "from os.path import join"
   ]
  },
  {
   "cell_type": "code",
   "execution_count": 23,
   "id": "fc347104-09d2-4775-8a40-bcccf62488da",
   "metadata": {},
   "outputs": [],
   "source": [
    "endpoint = 'https://www.loc.gov/free-to-use'\n",
    "parameters = {\n",
    "    'fo' : 'json'\n",
    "}"
   ]
  },
  {
   "cell_type": "code",
   "execution_count": 24,
   "id": "782bf143-ead3-4b6c-a5e4-fe716fa6ca29",
   "metadata": {},
   "outputs": [],
   "source": [
    "collection = 'lighthouses'"
   ]
  },
  {
   "cell_type": "code",
   "execution_count": 25,
   "id": "3f80d186-dae5-4e58-a477-522d2daa3879",
   "metadata": {},
   "outputs": [],
   "source": [
    "collection_list_response = requests.get(endpoint + '/' + collection, params=parameters)"
   ]
  },
  {
   "cell_type": "code",
   "execution_count": 26,
   "id": "818bdf3e-21eb-4cbb-b0c8-cc19b96642b7",
   "metadata": {},
   "outputs": [
    {
     "data": {
      "text/plain": [
       "'https://www.loc.gov/free-to-use/lighthouses?fo=json'"
      ]
     },
     "execution_count": 26,
     "metadata": {},
     "output_type": "execute_result"
    }
   ],
   "source": [
    "collection_list_response.url"
   ]
  },
  {
   "cell_type": "code",
   "execution_count": 27,
   "id": "085b1467-c97a-4dac-9a8d-e79482d2e892",
   "metadata": {},
   "outputs": [],
   "source": [
    "collection_json = collection_list_response.json()"
   ]
  },
  {
   "cell_type": "markdown",
   "id": "f094c36f-a94a-4645-b3a6-8310898aeaff",
   "metadata": {},
   "source": [
    "Take a moment to look around in the JSON response. Where would you look for the data about the items in the collection of free to use library images? \n",
    "\n",
    "_Hint: At this point we're not really looking for the information about the images, but the pointers to them (such as headings, links, etc)._ "
   ]
  },
  {
   "cell_type": "code",
   "execution_count": 28,
   "id": "02b66184",
   "metadata": {},
   "outputs": [
    {
     "data": {
      "text/plain": [
       "dict_keys(['breadcrumbs', 'content', 'content_is_post', 'description', 'expert_resources', 'next', 'next_sibling', 'options', 'pages', 'portal', 'previous', 'previous_sibling', 'site_type', 'timestamp', 'title', 'type'])"
      ]
     },
     "execution_count": 28,
     "metadata": {},
     "output_type": "execute_result"
    }
   ],
   "source": [
    "# .keys() is a helpful function to see what the data elements are\n",
    "collection_json.keys()"
   ]
  },
  {
   "cell_type": "markdown",
   "id": "b74d398e",
   "metadata": {},
   "source": [
    "Looking further into the dictionary, it seems that you can get a list of the items in the set by looking into `content`, then `set`, then the `items` element:"
   ]
  },
  {
   "cell_type": "code",
   "execution_count": 29,
   "id": "c92bbacc-7cf8-47e7-9e2e-88542eaf9d8b",
   "metadata": {
    "collapsed": true,
    "jupyter": {
     "outputs_hidden": true
    },
    "tags": []
   },
   "outputs": [
    {
     "name": "stdout",
     "output_type": "stream",
     "text": [
      "{'alt': 'Color photo shows a white tower and black lantern attached to a low building with a red roof and surrounded by green grass.', 'image': '/static/portals/free-to-use/public-domain/lighthouses/lighthouses-1.jpg', 'link': '/resource/highsm.12127/', 'title': 'Heceta Head Lighthouse, Pacific Ocean, Oregon'}\n",
      "{'alt': 'Color photo shows a  very tall tower with spiral bands in black and white. The base is red and surrounded by green grass.', 'image': '/static/portals/free-to-use/public-domain/lighthouses/lighthouses-2.jpg', 'link': '/resource/highsm.44760/', 'title': 'Cape Hatteras Lighthouse, Outer Banks, North Carolina'}\n",
      "{'alt': 'Black-and-white photo shows details of the lighting mechanism inside the glass lens.', 'image': '/static/portals/free-to-use/public-domain/lighthouses/lighthouses-3.jpg', 'link': '/resource/hhh.nc0497.photos/?sp=24', 'title': 'Bodie Island Lighthouse, Outer Banks, North Carolina. Lamp inside the lens'}\n",
      "{'alt': 'Color photo shows a red-painted square tower at the end of a pier.', 'image': '/static/portals/free-to-use/public-domain/lighthouses/lighthouses-4.jpg', 'link': '/resource/highsm.15168/', 'title': 'Holland Harbor Light,  Lake Michigan, Michigan. Also known as Big Red'}\n",
      "{'alt': 'Black-and-white photo shows a  white-painted tower on the beach. It is leaning over about seven degrees.', 'image': '/static/portals/free-to-use/public-domain/lighthouses/lighthouses-5.jpg', 'link': '/resource/hhh.fl0421.photos/?sp=1', 'title': 'Cape St. George Light, Gulf of Mexico, Florida'}\n",
      "{'alt': 'Map with a brown background for both land and water has a red starburst atop a vertical black bar to show lighthouse locations along the Atlantic Ocean coastline. The names of the lighthouses as well as cities, rivers, islands, and  bays, are printed in black.', 'image': '/static/portals/free-to-use/public-domain/lighthouses/lighthouses-6.jpg', 'link': '/resource/g3721p.fi000169cr/', 'title': 'A chart exhibiting the light houses and light vessels on the coast of the United States of America : from Maine to Virginia inclusive, 1848. Geography & Map Division\\n'}\n",
      "{'alt': 'Map with a brown tone for land and beige for the lakes has red symbols to show lighthouse locations. The names of the lakes, rivers, islands, bays, and channels are printed in black.', 'image': '/static/portals/free-to-use/public-domain/lighthouses/lighthouses-7.jpg', 'link': '/resource/g3311p.fi000169a/', 'title': 'A chart exhibiting the lighthouses of the lake coast of the United States of America. Great Lakes, 1848. Geography & Map Division'}\n",
      "{'alt': 'Black-and-white architectural drawing shows two elevations of a tall tower with windows and a black-and-white diamond pattern.', 'image': '/static/portals/free-to-use/public-domain/lighthouses/lighthouses-8.jpg', 'link': '/resource/hhh.nc0610.sheet/?sp=4', 'title': 'Cape Lookout Lighthouse, Outer Banks, North Carolina'}\n",
      "{'alt': 'Color photo shows from a distance a white tower on a rocky shoreline with red-roof buildings nearby.', 'image': '/static/portals/free-to-use/public-domain/lighthouses/lighthouses-9.jpg', 'link': '/resource/highsm.45698/', 'title': 'Portland Head Light, Casco Bay, Maine'}\n",
      "{'alt': 'Color photo shows a tower with bands of red and white and a black lantern at the top.', 'image': '/static/portals/free-to-use/public-domain/lighthouses/lighthouses-10.jpg', 'link': '/resource/highsm.12154/', 'title': 'West Quoddy Head Lighthouse, Lubec, Maine'}\n",
      "{'alt': \"Black-and-white photo shows a tower with bands of black and white standing behind the keeper's house. A small boy is in the foreground\\n\", 'image': '/static/portals/free-to-use/public-domain/lighthouses/lighthouses-11.jpg', 'link': '/resource/ppmsca.09037/', 'title': 'Fire Island Lighthouse, Atlantic Ocean, New York'}\n",
      "{'alt': \"Color photo shows a  tower with white on the bottom and red on the top, at the shore's edge.\\n\", 'image': '/static/portals/free-to-use/public-domain/lighthouses/lighthouses-12.jpg', 'link': '/resource/highsm.12129/', 'title': 'Barnegat Lighthouse, Atlantic Ocean, New Jersey'}\n",
      "{'alt': \"Black-and-white photo shows an octagonal tower with windows standing next to a keeper's house.\\n\", 'image': '/static/portals/free-to-use/public-domain/lighthouses/lighthouses-13.jpg', 'link': '/resource/ppmsca.09028/', 'title': 'Lynde Point Lighthouse, Long Island Sound, Connecticut'}\n",
      "{'alt': 'Color photo shows a short tower, painted white, with houses in the background.', 'image': '/static/portals/free-to-use/public-domain/lighthouses/lighthouses-14.jpg', 'link': '/resource/ppmsca.18159/', 'title': 'Biloxi Light, Gulf of Mexico, Mississippi'}\n",
      "{'alt': \"Black-and-white architectural drawing shows two vertical sections through the three-story keeper's house that surrounds the tower with a lantern on top.\\n\", 'image': '/static/portals/free-to-use/public-domain/lighthouses/lighthouses-15.jpg', 'link': '/resource/hhh.ca0581.sheet/?sp=4', 'title': 'Old Point Loma Lighthouse, San Diego Bay, California'}\n",
      "{'alt': 'Black-and-white architectural drawing shows the exterior and interior of a tower with seven small plans for comparison to other lighthouses.', 'image': '/static/portals/free-to-use/public-domain/lighthouses/lighthouses-16.jpg', 'link': '/resource/ppmsca.09362/', 'title': \"Minot's Ledge Light, Cohasset Harbor, Massachusetts\\n\"}\n",
      "{'alt': \"Color photo shows a short white tower placed on a rocky point with a covered walkway to the keeper's house.\\n\", 'image': '/static/portals/free-to-use/public-domain/lighthouses/lighthouses-17.jpg', 'link': '/resource/ppmsca.18187/', 'title': 'Isles of Shoals Light, Atlantic Ocean, New Hampshire'}\n",
      "{'alt': 'Black-and-white architectural drawing shows the tower and several details of the entrance door.', 'image': '/static/portals/free-to-use/public-domain/lighthouses/lighthouses-18.jpg', 'link': '/resource/hhh.pa0452.sheet/?sp=3', 'title': 'Erie Land Light,  Lake Erie, Pennsylvania. Also known as Old Presque Isle Light'}\n",
      "{'alt': \"Color photo shows a white tower with a black lantern, adjacent to a two-story keeper's house. Snow covers the ground.\\n\", 'image': '/static/portals/free-to-use/public-domain/lighthouses/lighthouses-19.jpg', 'link': '/resource/highsm.15342/', 'title': 'Point Iroquois Lighthouse, Lake Superior, Michigan'}\n",
      "{'alt': 'Color photo shows, at night, a short white tower above a house at the shoreline.', 'image': '/static/portals/free-to-use/public-domain/lighthouses/lighthouses-20.jpg', 'link': '/resource/highsm.13098/', 'title': 'Rose Island Lighthouse, Narragansett Bay, Rhode Island'}\n",
      "{'alt': \"Black-and-white architectural drawing shows a vertical section through the tower and the two-story keeper's house. The circular staircase is prominent in the tower.\\n\", 'image': '/static/portals/free-to-use/public-domain/lighthouses/lighthouses-21.jpg', 'link': '/resource/hhh.mi0225.sheet/?sp=7', 'title': 'Au Sable Light Station, Lake Superior, Michigan'}\n",
      "{'alt': 'Color photo shows a short, square, white tower above a  large two-story house behind a fence and flower border.', 'image': '/static/portals/free-to-use/public-domain/lighthouses/lighthouses-22.jpg', 'link': '/resource/highsm.15337/', 'title': 'Point Fermin Light, San Pedro Bay, California'}\n",
      "{'alt': 'Color photo looks up the spiral staircase and shows the perforated, red-painted treads.', 'image': '/static/portals/free-to-use/public-domain/lighthouses/lighthouses-23.jpg', 'link': '/resource/highsm.15257/', 'title': 'Spiral staircase at Thirty Mile Point Light, Lake Ontario, New York'}\n",
      "{'alt': 'A brown-toned pair of photos shows a short, pyramid-shaped  lighthouse with windows and a lantern. Buoys in different shapes and sizes are on the ground.', 'image': '/static/portals/free-to-use/public-domain/lighthouses/lighthouses-24.jpg', 'link': '/resource/ppmsca.09090/', 'title': 'Light house and buoys, on display at the International Exhibition, Philadelphia, 1876'}\n",
      "{'alt': 'Black-and-white photo shows three men in a boat in the foreground with the short, square-tower lighthouse on a reef in the distance.', 'image': '/static/portals/free-to-use/public-domain/lighthouses/lighthouses-25.jpg', 'link': '/resource/ppmsca.09089/', 'title': 'Stepping Stones Light, Long Island Sound, New York'}\n",
      "{'alt': \"Book illustration shows a skeletal tower on a platform anchored in the water offshore. Includes a keeper's house and a lantern at the top.\\n\", 'image': '/static/portals/free-to-use/public-domain/lighthouses/lighthouses-26.jpg', 'link': '/resource/ppmsca.09363/', 'title': 'Fowey Rocks Light, Key Biscayne, Florida'}\n",
      "{'alt': \"Aerial color photo shows a cylindrical white tower and the keeper's house on a small rocky island\\n\", 'image': '/static/portals/free-to-use/public-domain/lighthouses/lighthouses-27.jpg', 'link': '/resource/highsm.46608/', 'title': 'Cape Neddick Light, Nubble Island, Maine'}\n",
      "{'alt': 'Color photo shows a short white tower with black lantern in a harbor setting.', 'image': '/static/portals/free-to-use/public-domain/lighthouses/lighthouses-28.jpg', 'link': '/resource/highsm.12128/', 'title': \"Edgartown Harbor Light, Martha's Vineyard, Massachusetts\\n\"}\n",
      "{'alt': 'Color photo shows two towers. The older lighthouse is brick with a green lantern. The newer tower has vertical bands in black and white.', 'image': '/static/portals/free-to-use/public-domain/lighthouses/lighthouses-29.jpg', 'link': '/resource/highsm.12152/', 'title': 'Cape Henry lighthouses, Virginia Beach, Virginia'}\n",
      "{'alt': 'Black-and-white photo shows a spark-plug shaped, short tower with dark and light bands and surrounded by water.', 'image': '/static/portals/free-to-use/public-domain/lighthouses/lighthouses-30.jpg', 'link': '/resource/ppmsca.09094/', 'title': 'Robbins Reef Light, Bayonne, New Jersey'}\n",
      "{'alt': 'Color photo shows a hexagonal-shaped building on a screw pile surrounded by water with a motor boat underneath.', 'image': '/static/portals/free-to-use/public-domain/lighthouses/lighthouses-31.jpg', 'link': '/resource/highsm.05517/', 'title': 'Middle Bay Light,  Mobile Bay, Alabama'}\n",
      "{'alt': 'Color print shows a full rigged sailing ship moving across ocean waves. The lighthouse is on shore in the background with a schooner on the left and a sloop on the right', 'image': '/static/portals/free-to-use/public-domain/lighthouses/lighthouses-32.jpg', 'link': '/resource/ppmsca.58709/', 'title': '\"Outward Bound,\" 1886\\n'}\n",
      "{'alt': 'Color print shows a lighthouse at night with its bright light shining in a stormy sea and a sailing ship in the background.', 'image': '/static/portals/free-to-use/public-domain/lighthouses/lighthouses-33.jpg', 'link': '/resource/ihas.100005404.0/?sp=1', 'title': '\"The Lighthouse by the Sea,\" Sheet music cover, 1886. Music Division\\n'}\n",
      "{'alt': 'Black-and-white photo shows a small lighthouse at the base of a suspension bridge tower.', 'image': '/static/portals/free-to-use/public-domain/lighthouses/lighthouses-34.jpg', 'link': '/resource/hhh.ny1264.photos/?sp=22', 'title': 'Little Red Lighthouse, under the George Washington Bridge, New York City'}\n",
      "{'alt': 'Black-and-white photo shows a bell with a clapper suspended from a wooden beam with water in the background.', 'image': '/static/portals/free-to-use/public-domain/lighthouses/lighthouses-35.jpg', 'link': '/resource/hhh.me0226.photos/?sp=9', 'title': 'Fort Point Light Station, Penobscot Bay, Maine. Fog bell'}\n",
      "{'alt': 'Color photo shows a skeletal black tower with a central cylinder and a lantern with weather vane. Tall grass is at the base and white painted buildings in the background.', 'image': '/static/portals/free-to-use/public-domain/lighthouses/lighthouses-36.jpg', 'link': '/resource/hhh.pr0047.photos/?sp=1', 'title': 'Mona Island Light, Puerto Rico'}\n",
      "{'alt': 'Black-and-white architectural drawing shows the service floor level and the lantern and weather vane at the top of the light.', 'image': '/static/portals/free-to-use/public-domain/lighthouses/lighthouses-37.jpg', 'link': '/resource/hhh.wi0305.sheet/?sp=5', 'title': 'Devils Island Light, Lake Superior, Wisconsin'}\n",
      "{'alt': 'Color photo shows the white lantern above a red-painted band on a spark plug style lighthouse. Displayed on land.', 'image': '/static/portals/free-to-use/public-domain/lighthouses/lighthouses-38.jpg', 'link': '/resource/highsm.26652/', 'title': 'Sabine Bank Light, Gulf of Mexico, Texas. Lantern, on display in a museum park'}\n",
      "{'alt': 'Color photo shows a pier in the foreground with a red-roofed house and short tower in the background, surrounded on two sides by blue water.', 'image': '/static/portals/free-to-use/public-domain/lighthouses/lighthouses-39.jpg', 'link': '/resource/highsm.50327/', 'title': 'The Mukilteo Light, Possession Sound, Washington'}\n",
      "{'alt': 'Color photo shows a white octagonal tower and mountains in the distance with flat brown turf in the foreground.', 'image': '/static/portals/free-to-use/public-domain/lighthouses/lighthouses-40.jpg', 'link': '/resource/hhh.hi0156.photos/?sp=1', 'title': \"Moloka'i Light, Hawaii\\n\"}\n",
      "{'alt': 'Color photo shows the glass lens and glass windows in the lantern with two foghorns atop the building below and the blue lake water beyond.', 'image': '/static/portals/free-to-use/public-domain/lighthouses/lighthouses-41.jpg', 'link': '/resource/hhh.mn0184.photos/?sp=3', 'title': 'Split Rock Lighthouse, Lake Superior, Minnesota. Fresnel lens in lantern'}\n",
      "{'alt': 'Color photo shows a short, octagonal lighthouse, made of beige bricks with a black lantern, adjacent to a building with two foghorns in the foreground.', 'image': '/static/portals/free-to-use/public-domain/lighthouses/lighthouses-42.jpg', 'link': '/resource/highsm.12124/', 'title': 'Split Rock Lighthouse, Lake Superior, Minnesota'}\n",
      "{'alt': 'Black-and-white photo shows a short, octagonal lighthouse that stands next to another tower with a large steamboat going by and the city across the body of water.', 'image': '/static/portals/free-to-use/public-domain/lighthouses/lighthouses-43.jpg', 'link': '/resource/det.4a24366/', 'title': '\"Harbor Entrance and Lights, Buffalo, N.Y.\"\\n'}\n",
      "{'alt': 'Color photo shows a white-painted tower with small red-roofed buildings and palm trees nearby and blue ocean water in the distance.', 'image': '/static/portals/free-to-use/public-domain/lighthouses/lighthouses-44.jpg', 'link': '/resource/highsm.12140/', 'title': 'Point Vicente Light, Rancho Palos Verdes, California'}\n",
      "{'alt': 'Black-and-white photo shows in the distance a square tower and lantern located on the mainland and attached to a low building, with water in the foreground.', 'image': '/static/portals/free-to-use/public-domain/lighthouses/lighthouses-45.jpg', 'link': '/resource/ppmsca.09106/', 'title': 'Tree Point Light, Revillagigedo Channel, Alaska'}\n",
      "{'alt': 'Black-and-white photo shows a man looking closely at the lens of a lighthouse.', 'image': '/static/portals/free-to-use/public-domain/lighthouses/lighthouses-46.jpg', 'link': '/resource/cph.3c36378/', 'title': \"Frank Schubert polishes the station's lens once a week\\n\"}\n",
      "{'alt': 'Color photo shows a tower with bands of red and white. Several boats are moored in the harbor in front of the tower, which is reflected in the water.', 'image': '/static/portals/free-to-use/public-domain/lighthouses/lighthouses-47.jpg', 'link': '/resource/mrg.10350/', 'title': 'Harbour Town Lighthouse, Hilton Head, South Carolina'}\n",
      "{'alt': 'Color photo shows the top of a  miniature white tower with a blue base and lantern. A green turf putting area is in the foreground.', 'image': '/static/portals/free-to-use/public-domain/lighthouses/lighthouses-48.jpg', 'link': '/resource/mrg.02624/', 'title': 'Lighthouse, Lackland Road Putt-Putt miniature golf course, Fort Worth, Texas'}\n",
      "{'alt': 'Color photo shows a  small white tower with bands of black and white at a miniature golf course.', 'image': '/static/portals/free-to-use/public-domain/lighthouses/lighthouses-49.jpg', 'link': '/resource/mrg.02697/', 'title': \"Lighthouse, Mulligan's miniature Golf and Games, Ogden, Utah\"}\n",
      "{'alt': 'Color photo shows a small tower with walls made from stones and a short lantern on top. Stands in a pond of green water.', 'image': '/static/portals/free-to-use/public-domain/lighthouses/lighthouses-50.jpg', 'link': '/resource/highsm.41229/', 'title': 'A decorative lighthouse, Falls Park pond, Pendleton, Indiana'}\n"
     ]
    }
   ],
   "source": [
    "for k in collection_json['content']['set']['items']:\n",
    "    print(k)"
   ]
  },
  {
   "cell_type": "markdown",
   "id": "d76acaa2",
   "metadata": {},
   "source": [
    "How many items are there in the set?"
   ]
  },
  {
   "cell_type": "code",
   "execution_count": 37,
   "id": "92350a24",
   "metadata": {},
   "outputs": [
    {
     "data": {
      "text/plain": [
       "50"
      ]
     },
     "execution_count": 37,
     "metadata": {},
     "output_type": "execute_result"
    }
   ],
   "source": [
    "len(collection_json['content']['set']['items'])"
   ]
  },
  {
   "cell_type": "markdown",
   "id": "ac468dae-56b8-40ba-8b20-bcb8cf629230",
   "metadata": {},
   "source": [
    " Now that you can find the list of items in the collection, note that each of these \"items\" has 3 elements: `image`, `link`, and `title`. "
   ]
  },
  {
   "cell_type": "code",
   "execution_count": 38,
   "id": "557d0ee2",
   "metadata": {},
   "outputs": [
    {
     "data": {
      "text/plain": [
       "dict_keys(['alt', 'image', 'link', 'title'])"
      ]
     },
     "execution_count": 38,
     "metadata": {},
     "output_type": "execute_result"
    }
   ],
   "source": [
    "collection_json['content']['set']['items'][0].keys()"
   ]
  },
  {
   "cell_type": "markdown",
   "id": "2ca23fb7",
   "metadata": {},
   "source": [
    "In a more fully automated environment, you might want to make a function that can return and save the collection list, then reuse it in other code, but for this task, it is useful to save the information. So, extract these and save them locally to a CSV. "
   ]
  },
  {
   "cell_type": "code",
   "execution_count": 39,
   "id": "f3dfa45e-27a2-4485-a341-2f3263dffb22",
   "metadata": {},
   "outputs": [
    {
     "name": "stdout",
     "output_type": "stream",
     "text": [
      "wrote data/lh_collection_set_list.csv\n"
     ]
    }
   ],
   "source": [
    "collection_set_list = os.path.join('data','lh_collection_set_list.csv')\n",
    "headers = ['alt','image','link','title']\n",
    "\n",
    "with open(collection_set_list, 'w', encoding='utf-8', newline='') as f:\n",
    "    writer = csv.DictWriter(f, fieldnames=headers)\n",
    "    writer.writeheader()\n",
    "    for item in collection_json['content']['set']['items']:\n",
    "        \n",
    "        # clean up errant spaces in the title fields\n",
    "        item['title'] = item['title'].rstrip()\n",
    "        writer.writerow(item)\n",
    "    print('wrote',collection_set_list)"
   ]
  },
  {
   "cell_type": "markdown",
   "id": "cfd71176-6fce-4209-9337-55fa7206c129",
   "metadata": {},
   "source": [
    "# Get metadata for individual items \n",
    "\n",
    "Now that you have the list of what is in the set, this can serve as your baseline collection information. Next, you want to get more complete information about each item. Details about these items are available on individual item pages, so now we have to look at a different location, as specified in the `'link'` fields of the item list."
   ]
  },
  {
   "cell_type": "code",
   "execution_count": 40,
   "id": "44259696-74f1-4b8f-8bfd-6f1bc01c8726",
   "metadata": {},
   "outputs": [],
   "source": [
    "# update endpoint info\n",
    "endpoint = 'https://www.loc.gov'\n",
    "parameters = {\n",
    "    'fo' : 'json'\n",
    "}"
   ]
  },
  {
   "cell_type": "markdown",
   "id": "f78ae481",
   "metadata": {},
   "source": [
    "The task now is to request metadata for each item. So that the data is reusable, save it locally as a JSON file. In the next blocks, you will create individual files for each item, which will save to a directory named `ftu_libs_metadata` in the `data` directory. \n",
    "\n",
    "If you don't have that directory, you will first need to create it. "
   ]
  },
  {
   "cell_type": "code",
   "execution_count": 41,
   "id": "5c1d371f",
   "metadata": {},
   "outputs": [
    {
     "name": "stdout",
     "output_type": "stream",
     "text": [
      "data/ftu_lh_metadata exists\n"
     ]
    }
   ],
   "source": [
    "# run this cell to confirm that you have a location for the JSON files\n",
    "item_metadata_directory = os.path.join('data','ftu_lh_metadata')\n",
    "\n",
    "if os.path.isdir(item_metadata_directory):\n",
    "    print(item_metadata_directory,'exists')\n",
    "else:\n",
    "    os.mkdir(item_metadata_directory)\n",
    "    print('created',item_metadata_directory)"
   ]
  },
  {
   "cell_type": "markdown",
   "id": "ccfdcfe0",
   "metadata": {},
   "source": [
    "Now, with the `collection_set_list`, use the included links to query the API for metadata for each item:"
   ]
  },
  {
   "cell_type": "code",
   "execution_count": 42,
   "id": "e90cb123-499e-45d9-bc84-586f3245031e",
   "metadata": {},
   "outputs": [
    {
     "ename": "IndexError",
     "evalue": "list index out of range",
     "output_type": "error",
     "traceback": [
      "\u001b[0;31m---------------------------------------------------------------------------\u001b[0m",
      "\u001b[0;31mIndexError\u001b[0m                                Traceback (most recent call last)",
      "Cell \u001b[0;32mIn[42], line 41\u001b[0m\n\u001b[1;32m     39\u001b[0m \u001b[39melse\u001b[39;00m:\n\u001b[1;32m     40\u001b[0m     resource_ID \u001b[39m=\u001b[39m item[\u001b[39m'\u001b[39m\u001b[39mlink\u001b[39m\u001b[39m'\u001b[39m]\n\u001b[0;32m---> 41\u001b[0m     short_ID \u001b[39m=\u001b[39m item[\u001b[39m'\u001b[39;49m\u001b[39mlink\u001b[39;49m\u001b[39m'\u001b[39;49m]\u001b[39m.\u001b[39;49msplit(\u001b[39m'\u001b[39;49m\u001b[39m/\u001b[39;49m\u001b[39m'\u001b[39;49m)[\u001b[39m2\u001b[39;49m]\n\u001b[1;32m     42\u001b[0m     item_metadata \u001b[39m=\u001b[39m requests\u001b[39m.\u001b[39mget(endpoint \u001b[39m+\u001b[39m resource_ID, params\u001b[39m=\u001b[39mparameters)\n\u001b[1;32m     43\u001b[0m     \u001b[39mprint\u001b[39m(\u001b[39m'\u001b[39m\u001b[39mrequested\u001b[39m\u001b[39m'\u001b[39m,item_metadata\u001b[39m.\u001b[39murl,item_metadata\u001b[39m.\u001b[39mstatus_code)\n",
      "\u001b[0;31mIndexError\u001b[0m: list index out of range"
     ]
    }
   ],
   "source": [
    "item_count = 0\n",
    "error_count = 0\n",
    "file_count = 0\n",
    "\n",
    "data_directory = 'data'\n",
    "item_metadata_directory = 'ftu_lh_metadata'\n",
    "item_metadata_file_start = 'item_metadata'\n",
    "json_suffix = '.json'\n",
    "\n",
    "collection_set_list = os.path.join('data','collection_set_list.csv')\n",
    "\n",
    "with open(collection_set_list, 'r', encoding='utf-8', newline='') as f:\n",
    "    reader = csv.DictReader(f, fieldnames=headers)\n",
    "    for item in reader:\n",
    "        if item['link'] == 'link':\n",
    "            continue\n",
    "        # these resource links could redirect to item pages, but currently don't work\n",
    "        if '?' in item['link']:\n",
    "            resource_ID = item['link']\n",
    "            short_ID = item['link'].split('/')[2]\n",
    "            item_metadata = requests.get(endpoint + resource_ID + '&fo=json')\n",
    "            print('requested',item_metadata.url,item_metadata.status_code)\n",
    "            if item_metadata.status_code != 200:\n",
    "                print('requested',item_metadata.url,item_metadata.status_code)\n",
    "                error_count += 1\n",
    "                continue\n",
    "            try:\n",
    "                item_metadata.json()\n",
    "            except: #basically this catches all of the highsmith photos with hhh in the ID\n",
    "                error_count += 1\n",
    "                print('no json found')\n",
    "                continue\n",
    "            fout = os.path.join(data_directory, item_metadata_directory, str(item_metadata_file_start + '-' + short_ID + json_suffix))\n",
    "            with open(fout, 'w', encoding='utf-8') as json_file:\n",
    "                json_file.write(json.dumps(item_metadata.json()['item']))\n",
    "                file_count += 1\n",
    "                print('wrote', fout)\n",
    "            item_count += 1\n",
    "        else:\n",
    "            resource_ID = item['link']\n",
    "            short_ID = item['link'].split('/')[2]\n",
    "            item_metadata = requests.get(endpoint + resource_ID, params=parameters)\n",
    "            print('requested',item_metadata.url,item_metadata.status_code)\n",
    "            if item_metadata.status_code != 200:\n",
    "                print('requested',item_metadata.url,item_metadata.status_code)\n",
    "                error_count += 1\n",
    "                continue\n",
    "            try:\n",
    "                item_metadata.json()\n",
    "            except:\n",
    "                error_count += 1\n",
    "                print('no json found')\n",
    "                continue\n",
    "            fout = os.path.join(data_directory, item_metadata_directory, str(item_metadata_file_start + '-' + short_ID + json_suffix))\n",
    "            with open(fout, 'w', encoding='utf-8') as json_file:\n",
    "                json_file.write(json.dumps(item_metadata.json()['item']))\n",
    "                file_count += 1\n",
    "                print('wrote', fout)\n",
    "            item_count += 1\n",
    "\n",
    "print('--- mini LOG ---')\n",
    "print('items requested:',item_count)\n",
    "print('errors:',error_count)\n",
    "print('files written:',file_count)"
   ]
  },
  {
   "cell_type": "markdown",
   "id": "f1920293-81dc-4143-9840-a0e3de3faa7c",
   "metadata": {},
   "source": [
    "# Write a metadata crosswalk\n",
    "\n",
    "Below is a start. This is going to get a bit complicated, but identify at least 10 fields that you want to move into the new site. Consider using DublinCore, but also at least one field from another schema, I would suggest MODS (more of a bibliographic schema and allows for more granularity than DublinCore), which is also supported by Omeka. Plus, you should be able to find MODS information for most (if not all) items in any of these sets. For example, looking at resource `highsm.20336`, note the last field in the item metadata is a URL to an `item` page: https://www.loc.gov/item/2012630017/. That item page links to MODS and DublinCore records.\n",
    "\n",
    "\n",
    "| source field name | source field path/dict name | target        | target namespace | notes |\n",
    "|-------------------|-----------------------------|---------------|------------------|-------|\n",
    "| title | item['title'] | dc:title | DC Element | Title provided by the orginal metadata, could also be mapped to MODS:titleInfo:title or other fields in other namespaces | \n",
    "| date              | item['date']                | dc:date       | DC Element | This is a 4-digit year, corresponds to date of creation in most cases   |\n",
    "| LC call number    | item['item']['call_number']  | dc:identifier | DC Element | Alphanumeric string. A Library of Congress number, should record for source/provenance reasons.|\n",
    "| LC control number | item['item']['control_number'] | dc:identifier @type=lccn | DC Element with attribute | Corresponds to the Library of Congress Control Number (can be checked at http://lccn.loc.gov/ |\n",
    "| creator           | item['creator']             | dc:creator    | DC Element | Should be a name. May be repeated. If possible, are various roles needed? Such as 'photographer', 'author', etc |\n",
    "| description | item['description'] / item['summary'] | mods:physicaldescription / dc:abstract | MODS | In the source data, this seems most like physical description, although it might correspond to dc:format or dc:type. Content in the record may come from a controlled vocabulary, such as LC Genre & Form Thesaurus. |\n",
    "| mime_type | | | DC |\n",
    "| notes (may be multiple) | item['notes'] (array) | dcterms:abstract | DC Terms | This appears to be closest to a \"summary\" or description of the content of the items. |\n",
    "| source_collection | | | | |\n",
    "| rights | | | | |\n",
    "| place | | | | |\n",
    "| image (link to the full image) | | | | |\n",
    "| languages | | | | |\n",
    "| subject_heading | | mods:subject | mods | | \n",
    "| format, physical | item['formats'][0]['title'] / also look at item['type'] | mods:physicalDescription:form | Description of the original physical format of this item (photograph, book, poster) | Note: this may not be present or in the same place for the different types of objects in the collection |\n",
    "| format | item['format'] | dc:format | DC Element | The basic type of the digital surrogate (e.g., 'image' or 'text' | |"
   ]
  },
  {
   "cell_type": "markdown",
   "id": "8c45a3bb-b954-44d9-9446-97a049c9b974",
   "metadata": {},
   "source": [
    "# Transformation Part 1: Testing\n",
    "\n",
    "Now, it's time to implement the second step, which is to accomplish the transformation. At a high level, this step involves the creation of code or another implementation workflow, which will search the item metadata files downloaded previously, extract the target fields identified in the MAP, then write that information to a CSV for later import to Omeka.\n",
    "\n",
    "First, develop a search pattern for identifying the desired JSON files. Here, you create a list of the files that you want to transform, called `list_of_item_metadata_files`. \n",
    "\n",
    "**Reminder:** This step builds on your regular expression and shell skills! (Note, however, these are technically file path expansions, not actual regular expressions, but the general idea of creating a pattern and asking the computer to respond with a list of results that meet your criteria, is similar.)"
   ]
  },
  {
   "cell_type": "code",
   "execution_count": 34,
   "id": "a899bee6-bed9-4240-85ed-1c946110f2f6",
   "metadata": {},
   "outputs": [
    {
     "name": "stdout",
     "output_type": "stream",
     "text": [
      "/Users/emmarooney/Desktop/networked-services-labs-2023\n"
     ]
    }
   ],
   "source": [
    "current_loc = os.getcwd()\n",
    "\n",
    "print(current_loc)"
   ]
  },
  {
   "cell_type": "code",
   "execution_count": 35,
   "id": "9e195bef-fe55-47e7-a1af-5ecf0c0f324a",
   "metadata": {},
   "outputs": [
    {
     "name": "stdout",
     "output_type": "stream",
     "text": [
      "data/ftu_lh_metadata\n"
     ]
    }
   ],
   "source": [
    "metadata_file_path = os.path.join('data','ftu_lh_metadata')\n",
    "\n",
    "print(metadata_file_path)"
   ]
  },
  {
   "cell_type": "markdown",
   "id": "99c6363a",
   "metadata": {},
   "source": [
    "The next cell uses the `glob` library, which supports the use of file path expanders\n",
    "to look for patterns in file paths. In this case, the previous item metadata exraction\n",
    "wrote files that had the pattern `item_metadata-[item-identifier].json`. \n",
    "So, to match any pattern for the `item-identifier` section, `glob` allows\n",
    "the use of the `*` (asterisk) character to match any pattern:"
   ]
  },
  {
   "cell_type": "code",
   "execution_count": 43,
   "id": "6ff4a730-4208-4e63-8531-4b6da696ec0e",
   "metadata": {
    "tags": []
   },
   "outputs": [
    {
     "name": "stdout",
     "output_type": "stream",
     "text": [
      "data/ftu_lh_metadata/item_metadata-ppmsca.09037.json\n",
      "data/ftu_lh_metadata/item_metadata-highsm.05517.json\n",
      "data/ftu_lh_metadata/item_metadata-mrg.02624.json\n",
      "data/ftu_lh_metadata/item_metadata-hhh.hi0156.photos.json\n",
      "data/ftu_lh_metadata/item_metadata-ppmsca.18187.json\n",
      "data/ftu_lh_metadata/item_metadata-ppmsca.09094.json\n",
      "data/ftu_lh_metadata/item_metadata-hhh.mi0225.sheet.json\n",
      "data/ftu_lh_metadata/item_metadata-g3311p.fi000169a.json\n",
      "data/ftu_lh_metadata/item_metadata-highsm.12154.json\n",
      "data/ftu_lh_metadata/item_metadata-highsm.50327.json\n",
      "data/ftu_lh_metadata/item_metadata-det.4a24366.json\n",
      "data/ftu_lh_metadata/item_metadata-hhh.ny1264.photos.json\n",
      "data/ftu_lh_metadata/item_metadata-highsm.15337.json\n",
      "data/ftu_lh_metadata/item_metadata-highsm.12124.json\n",
      "data/ftu_lh_metadata/item_metadata-highsm.41229.json\n",
      "data/ftu_lh_metadata/item_metadata-ppmsca.18159.json\n",
      "data/ftu_lh_metadata/item_metadata-ppmsca.09089.json\n",
      "data/ftu_lh_metadata/item_metadata-highsm.45698.json\n",
      "data/ftu_lh_metadata/item_metadata-highsm.12128.json\n",
      "data/ftu_lh_metadata/item_metadata-hhh.nc0497.photos.json\n",
      "data/ftu_lh_metadata/item_metadata-ppmsca.09363.json\n",
      "data/ftu_lh_metadata/item_metadata-ppmsca.09362.json\n",
      "data/ftu_lh_metadata/item_metadata-highsm.12129.json\n",
      "data/ftu_lh_metadata/item_metadata-highsm.12152.json\n",
      "data/ftu_lh_metadata/item_metadata-mrg.02697.json\n",
      "data/ftu_lh_metadata/item_metadata-mrg.10350.json\n",
      "data/ftu_lh_metadata/item_metadata-highsm.13098.json\n",
      "data/ftu_lh_metadata/item_metadata-hhh.nc0610.sheet.json\n",
      "data/ftu_lh_metadata/item_metadata-highsm.15342.json\n",
      "data/ftu_lh_metadata/item_metadata-hhh.fl0421.photos.json\n",
      "data/ftu_lh_metadata/item_metadata-highsm.46608.json\n",
      "data/ftu_lh_metadata/item_metadata-hhh.ca0581.sheet.json\n",
      "data/ftu_lh_metadata/item_metadata-hhh.pa0452.sheet.json\n",
      "data/ftu_lh_metadata/item_metadata-ppmsca.58709.json\n",
      "data/ftu_lh_metadata/item_metadata-g3721p.fi000169cr.json\n",
      "data/ftu_lh_metadata/item_metadata-ppmsca.09090.json\n",
      "data/ftu_lh_metadata/item_metadata-ppmsca.09028.json\n",
      "data/ftu_lh_metadata/item_metadata-highsm.12127.json\n",
      "data/ftu_lh_metadata/item_metadata-highsm.44760.json\n",
      "data/ftu_lh_metadata/item_metadata-highsm.26652.json\n",
      "data/ftu_lh_metadata/item_metadata-hhh.wi0305.sheet.json\n",
      "data/ftu_lh_metadata/item_metadata-hhh.mn0184.photos.json\n",
      "data/ftu_lh_metadata/item_metadata-hhh.pr0047.photos.json\n",
      "data/ftu_lh_metadata/item_metadata-hhh.me0226.photos.json\n",
      "data/ftu_lh_metadata/item_metadata-ppmsca.09106.json\n",
      "data/ftu_lh_metadata/item_metadata-highsm.12140.json\n",
      "data/ftu_lh_metadata/item_metadata-cph.3c36378.json\n",
      "data/ftu_lh_metadata/item_metadata-highsm.15257.json\n",
      "data/ftu_lh_metadata/item_metadata-highsm.15168.json\n",
      "found 49\n"
     ]
    }
   ],
   "source": [
    "file_count = 0\n",
    "\n",
    "for file in glob.glob('data/ftu_lh_metadata/item_metadata-*.json'):\n",
    "    file_count += 1\n",
    "    print(file)\n",
    "    \n",
    "print('found',file_count)"
   ]
  },
  {
   "cell_type": "code",
   "execution_count": 44,
   "id": "a8178914-945e-4bc9-a890-b717db15af99",
   "metadata": {},
   "outputs": [],
   "source": [
    "list_of_item_metadata_files = list() \n",
    "for file in glob.glob('data/ftu_lh_metadata/item_metadata-*.json'):\n",
    "    list_of_item_metadata_files.append(file)"
   ]
  },
  {
   "cell_type": "code",
   "execution_count": 45,
   "id": "dded9141-1613-48db-a74c-ddafd86eb247",
   "metadata": {},
   "outputs": [
    {
     "data": {
      "text/plain": [
       "49"
      ]
     },
     "execution_count": 45,
     "metadata": {},
     "output_type": "execute_result"
    }
   ],
   "source": [
    "len(list_of_item_metadata_files)"
   ]
  },
  {
   "cell_type": "code",
   "execution_count": 46,
   "id": "8bdb38fc-23d5-4b1d-8250-478f21deff56",
   "metadata": {
    "tags": []
   },
   "outputs": [
    {
     "name": "stdout",
     "output_type": "stream",
     "text": [
      "data/ftu_lh_metadata/item_metadata-cph.3c36378.json\n",
      "data/ftu_lh_metadata/item_metadata-det.4a24366.json\n",
      "data/ftu_lh_metadata/item_metadata-g3311p.fi000169a.json\n",
      "data/ftu_lh_metadata/item_metadata-g3721p.fi000169cr.json\n",
      "data/ftu_lh_metadata/item_metadata-hhh.ca0581.sheet.json\n",
      "data/ftu_lh_metadata/item_metadata-hhh.fl0421.photos.json\n",
      "data/ftu_lh_metadata/item_metadata-hhh.hi0156.photos.json\n",
      "data/ftu_lh_metadata/item_metadata-hhh.me0226.photos.json\n",
      "data/ftu_lh_metadata/item_metadata-hhh.mi0225.sheet.json\n",
      "data/ftu_lh_metadata/item_metadata-hhh.mn0184.photos.json\n",
      "data/ftu_lh_metadata/item_metadata-hhh.nc0497.photos.json\n",
      "data/ftu_lh_metadata/item_metadata-hhh.nc0610.sheet.json\n",
      "data/ftu_lh_metadata/item_metadata-hhh.ny1264.photos.json\n",
      "data/ftu_lh_metadata/item_metadata-hhh.pa0452.sheet.json\n",
      "data/ftu_lh_metadata/item_metadata-hhh.pr0047.photos.json\n",
      "data/ftu_lh_metadata/item_metadata-hhh.wi0305.sheet.json\n",
      "data/ftu_lh_metadata/item_metadata-highsm.05517.json\n",
      "data/ftu_lh_metadata/item_metadata-highsm.12124.json\n",
      "data/ftu_lh_metadata/item_metadata-highsm.12127.json\n",
      "data/ftu_lh_metadata/item_metadata-highsm.12128.json\n",
      "data/ftu_lh_metadata/item_metadata-highsm.12129.json\n",
      "data/ftu_lh_metadata/item_metadata-highsm.12140.json\n",
      "data/ftu_lh_metadata/item_metadata-highsm.12152.json\n",
      "data/ftu_lh_metadata/item_metadata-highsm.12154.json\n",
      "data/ftu_lh_metadata/item_metadata-highsm.13098.json\n",
      "data/ftu_lh_metadata/item_metadata-highsm.15168.json\n",
      "data/ftu_lh_metadata/item_metadata-highsm.15257.json\n",
      "data/ftu_lh_metadata/item_metadata-highsm.15337.json\n",
      "data/ftu_lh_metadata/item_metadata-highsm.15342.json\n",
      "data/ftu_lh_metadata/item_metadata-highsm.26652.json\n",
      "data/ftu_lh_metadata/item_metadata-highsm.41229.json\n",
      "data/ftu_lh_metadata/item_metadata-highsm.44760.json\n",
      "data/ftu_lh_metadata/item_metadata-highsm.45698.json\n",
      "data/ftu_lh_metadata/item_metadata-highsm.46608.json\n",
      "data/ftu_lh_metadata/item_metadata-highsm.50327.json\n",
      "data/ftu_lh_metadata/item_metadata-mrg.02624.json\n",
      "data/ftu_lh_metadata/item_metadata-mrg.02697.json\n",
      "data/ftu_lh_metadata/item_metadata-mrg.10350.json\n",
      "data/ftu_lh_metadata/item_metadata-ppmsca.09028.json\n",
      "data/ftu_lh_metadata/item_metadata-ppmsca.09037.json\n",
      "data/ftu_lh_metadata/item_metadata-ppmsca.09089.json\n",
      "data/ftu_lh_metadata/item_metadata-ppmsca.09090.json\n",
      "data/ftu_lh_metadata/item_metadata-ppmsca.09094.json\n",
      "data/ftu_lh_metadata/item_metadata-ppmsca.09106.json\n",
      "data/ftu_lh_metadata/item_metadata-ppmsca.09362.json\n",
      "data/ftu_lh_metadata/item_metadata-ppmsca.09363.json\n",
      "data/ftu_lh_metadata/item_metadata-ppmsca.18159.json\n",
      "data/ftu_lh_metadata/item_metadata-ppmsca.18187.json\n",
      "data/ftu_lh_metadata/item_metadata-ppmsca.58709.json\n"
     ]
    }
   ],
   "source": [
    "# quick duplicate check\n",
    "list_of_item_metadata_files.sort()\n",
    "\n",
    "for file in list_of_item_metadata_files:\n",
    "    print(file)"
   ]
  },
  {
   "cell_type": "markdown",
   "id": "3f634f77",
   "metadata": {},
   "source": [
    "To develop your data transformation and metadata profile, \n",
    "first you need to explore the information that you have about each item. \n",
    "To do this, explore one item to understand how the information is structured.\n",
    "How do you open the json? How is it structured? Where is the information you want?"
   ]
  },
  {
   "cell_type": "code",
   "execution_count": 47,
   "id": "2b96909e-2cce-4ca6-95b9-7d1c03c74c11",
   "metadata": {},
   "outputs": [
    {
     "name": "stdout",
     "output_type": "stream",
     "text": [
      "file: data/ftu_lh_metadata/item_metadata-cph.3c36378.json \n",
      "\n",
      "_version_ : 1731681821433790464\n",
      "access_restricted : False\n",
      "aka : ['https://www.loc.gov/pictures/item/2006678920/', 'http://www.loc.gov/item/2006678920/', 'http://www.loc.gov/pictures/item/2006678920/', 'https://www.loc.gov/pictures/collection/cph/item/2006678920/', 'http://www.loc.gov/pictures/collection/cph/item/2006678920/', 'http://www.loc.gov/resource/cph.3c36378/', 'http://lccn.loc.gov/2006678920', 'https://hdl.loc.gov/loc.pnp/cph.3c36378']\n",
      "call_number : NYWTS - SUBJ/GEOG-- Lighthouses--Seagate Light--New York Harbor [item] [P&P]\n",
      "campaigns : []\n",
      "contributor_names : ['Higgins, Roger, photographer']\n",
      "contributors : [{'higgins, roger': 'https://www.loc.gov/search/?fa=contributor:higgins,+roger&fo=json'}]\n",
      "control_number : \n",
      "created : 2016-04-20T11:40:32Z\n",
      "created_published : ['1961 June 12.']\n",
      "created_published_date : 1961 June 12.\n",
      "date : 1961-01-01\n",
      "dates : [{'1961': 'https://www.loc.gov/search/?dates=1961/1961&fo=json'}]\n",
      "description : ['1 photographic print.']\n",
      "digital_id : ['cph 3c36378 //hdl.loc.gov/loc.pnp/cph.3c36378']\n",
      "digitized : True\n",
      "display_offsite : True\n",
      "extract_timestamp : 2021-08-26T05:25:44.556Z\n",
      "extract_urls : ['http://www.loc.gov/pictures/collection/cph/item/2006678920/#cph', 'http://lccn.loc.gov/2006678920#catalog-split-08']\n",
      "format : [{'photo, print, drawing': 'https://www.loc.gov/search/?fa=original_format:photo,+print,+drawing&fo=json'}]\n",
      "format_headings : ['Photographic prints--1960-1970.']\n",
      "genre : ['Photographic prints--1960-1970']\n",
      "group : ['cph', 'catalog-split-08', 'catalog', 'miscellaneous-items-high-demand', 'main-catalog-split-08', 'main-catalog']\n",
      "hassegments : False\n",
      "id : http://www.loc.gov/item/2006678920/\n",
      "image_url : ['https://tile.loc.gov/storage-services/service/pnp/cph/3c30000/3c36000/3c36300/3c36378_150px.jpg#h=150&w=121', 'https://tile.loc.gov/storage-services/service/pnp/cph/3c30000/3c36000/3c36300/3c36378t.gif#h=150&w=121', 'https://tile.loc.gov/storage-services/service/pnp/cph/3c30000/3c36000/3c36300/3c36378r.jpg#h=640&w=517', 'https://tile.loc.gov/storage-services/service/pnp/cph/3c30000/3c36000/3c36300/3c36378v.jpg#h=1024&w=828']\n",
      "index : 1\n",
      "item : {'call_number': 'NYWTS - SUBJ/GEOG-- Lighthouses--Seagate Light--New York Harbor [item] [P&P]', 'contributors': ['Higgins, Roger photographer.'], 'control_number': '2006678920', 'created': '2016-04-20T11:40:32Z', 'created_published': '1961 June 12.', 'created_published_date': '1961 June 12.', 'creators': [{'link': 'https://www.loc.gov/pictures/related/?fi=name&q=Higgins%2C%20Roger&co=cph', 'role': 'photographer', 'title': 'Higgins, Roger'}], 'date': '1961 June 12.', 'digital_id': ['cph 3c36378 //hdl.loc.gov/loc.pnp/cph.3c36378'], 'display_offsite': True, 'format': ['still image'], 'formats': [{'link': 'https://www.loc.gov/pictures/related/?fi=format&q=Photographic%20prints--1960-1970.&co=cph', 'title': 'Photographic prints--1960-1970.'}], 'genre': ['Photographic prints--1960-1970'], 'id': '2006678920', 'language': ['eng'], 'link': 'https://www.loc.gov/pictures/item/2006678920/', 'location': ['New York (State)--New York'], 'marc': 'https://www.loc.gov/pictures/item/2006678920/marc/', 'medium': ['1 photographic print.'], 'medium_brief': '1 photographic print.', 'mediums': ['1 photographic print.'], 'modified': '2016-04-20T11:40:32Z', 'notes': ['NYWT&S staff photograph.', 'Caption continues:  The flashing red signal, which operates from a half hour before sunset until a half hour before sunrise, is a reference point for all traffic using the harbor.', 'Title from news agency caption on item.', 'Forms part of: New York World-Telegram and the Sun Newspaper Photograph Collection (Library of Congress).', 'DCRM(G) example 1B10.1 - Abridgement of title'], 'other_control_numbers': ['14307442'], 'part_of': 'New York World-Telegram and the Sun Newspaper Photograph Collection (Library of Congress)', 'place': [{'latitude': '', 'link': 'https://www.loc.gov/pictures/related/?fi=place&q=New%20York%20%28State%29--New%20York&co=cph', 'longitude': '', 'title': 'New York (State)--New York'}], 'repository': 'Library of Congress Prints and Photographs Division Washington, D.C. 20540 USA', 'reproduction_number': 'LC-USZ62-136378 (b&w film copy neg.)', 'resource_links': ['//hdl.loc.gov/loc.pnp/cph.3c36378'], 'rights_advisory': 'No known copyright restriction. For information see \"New York World-Telegram & ...,\" https://www.loc.gov/rr/print/res/076_nyw.html', 'rights_information': 'No known copyright restriction. For information see \"New York World-Telegram & ...,\" https://www.loc.gov/rr/print/res/076_nyw.html', 'service_low': 'https://tile.loc.gov/storage-services/service/pnp/cph/3c30000/3c36000/3c36300/3c36378_150px.jpg', 'service_medium': 'https://tile.loc.gov/storage-services/service/pnp/cph/3c30000/3c36000/3c36300/3c36378r.jpg', 'sort_date': '1961', 'source_collection': ['New York World-Telegram and the Sun Newspaper Photograph Collection (Library of Congress)'], 'source_created': '2006-03-20T00:00:00Z', 'source_modified': '2009-10-31T14:27:43Z', 'stmt_of_responsibility': 'World Telegram & Sun photo by Higgins.', 'subject_headings': ['Signal lights--New York (State)--New York--1960-1970.', 'Lighthouse keepers--New York (State)--New York--1960-1970.', 'Lighthouses--New York (State)--New York--1960-1970.', 'New York (State)--New York'], 'subjects': ['Signal lights--New York (State)--New York--1960-1970', 'Lighthouse keepers--New York (State)--New York--1960-1970', 'Lighthouses--New York (State)--New York--1960-1970'], 'thumb_gallery': 'https://tile.loc.gov/storage-services/service/pnp/cph/3c30000/3c36000/3c36300/3c36378_150px.jpg', 'title': \"Frank Schubert polishes the station's lens once a week\"}\n",
      "language : ['english']\n",
      "languages : [{'english': 'https://www.loc.gov/search/?fa=language:english&fo=json'}]\n",
      "library_of_congress_control_number : 2006678920\n",
      "link : https://www.loc.gov/pictures/item/2006678920/\n",
      "location : ['new york']\n",
      "locations : [{'new york': 'https://www.loc.gov/search/?fa=location:new+york&fo=json'}]\n",
      "marc : https://www.loc.gov/pictures/item/2006678920/marc/\n",
      "medium : ['1 photographic print.']\n",
      "medium_brief : 1 photographic print.\n",
      "mime_type : ['image/gif', 'image/jpg', 'image/tif']\n",
      "modified : 2016-04-20T11:40:32Z\n",
      "notes : ['NYWT&S staff photograph.', 'Caption continues:  The flashing red signal, which operates from a half hour before sunset until a half hour before sunrise, is a reference point for all traffic using the harbor.', 'Title from news agency caption on item.', 'Forms part of: New York World-Telegram and the Sun Newspaper Photograph Collection (Library of Congress).', 'DCRM(G) example 1B10.1 - Abridgement of title']\n",
      "number : ['2006678920', '2009-10-31t14:27:43', 'http://www.loc.gov/item/14307442']\n",
      "number_former_id : ['http://www.loc.gov/item/14307442']\n",
      "number_lccn : ['2006678920']\n",
      "number_source_modified : ['2009-10-31t14:27:43']\n",
      "online_format : ['image']\n",
      "original_format : ['photo, print, drawing']\n",
      "other_control_numbers : ['14307442']\n",
      "other_formats : [{'label': 'MARCXML Record', 'link': 'https://lccn.loc.gov/2006678920/marcxml'}, {'label': 'MODS Record', 'link': 'https://lccn.loc.gov/2006678920/mods'}, {'label': 'Dublin Core Record', 'link': 'https://lccn.loc.gov/2006678920/dc'}]\n",
      "other_title : []\n",
      "partof : [{'count': 121410, 'title': 'miscellaneous items in high demand', 'url': 'https://www.loc.gov/search/?fa=partof:miscellaneous+items+in+high+demand&fo=json'}, {'count': 989023, 'title': 'prints & photographs online catalog (library of congress)', 'url': 'https://www.loc.gov/search/?fa=partof:prints+%26+photographs+online+catalog+%28library+of+congress%29&fo=json'}, {'count': 1049019, 'title': 'prints and photographs division', 'url': 'https://www.loc.gov/search/?fa=partof:prints+and+photographs+division&fo=json'}, {'count': 1487296, 'title': 'catalog', 'url': 'https://www.loc.gov/search/?fa=partof:catalog&fo=json'}]\n",
      "place : [{'latitude': '', 'link': 'https://www.loc.gov/pictures/related/?fi=place&q=New%20York%20%28State%29--New%20York&co=cph', 'longitude': '', 'title': 'New York (State)--New York'}]\n",
      "related : {'neighbors': 'https://www.loc.gov/pictures/related/?&co=cph&pk=2006678920&st=gallery&sb=call_number#focus'}\n",
      "repository : ['Library of Congress Prints and Photographs Division Washington, D.C. 20540 USA']\n",
      "reproduction_number : LC-USZ62-136378 (b&w film copy neg.)\n",
      "reproductions : []\n",
      "resource_links : ['//hdl.loc.gov/loc.pnp/cph.3c36378']\n",
      "resources : [{'caption': 'digital file from b&w film copy neg.', 'files': 1, 'image': 'https://tile.loc.gov/storage-services/service/pnp/cph/3c30000/3c36000/3c36300/3c36378_150px.jpg', 'url': 'https://www.loc.gov/resource/cph.3c36378/'}]\n",
      "rights : []\n",
      "rights_advisory : No known copyright restriction. For information see \"New York World-Telegram & ...,\" https://www.loc.gov/rr/print/res/076_nyw.html\n",
      "rights_information : No known copyright restriction. For information see \"New York World-Telegram & ...,\" https://www.loc.gov/rr/print/res/076_nyw.html\n",
      "score : 19.430779\n",
      "shard : 00\n",
      "shelf_id : NYWTS - SUBJ/GEOG-- Lighthouses--Seagate Light--New York Harbor [item] [P&P]\n",
      "site : ['pictures', 'catalog']\n",
      "sort_date : 1961\n",
      "source_collection : New York World-Telegram and the Sun Newspaper Photograph Collection (Library of Congress)\n",
      "source_created : 2006-03-20T00:00:00Z\n",
      "source_modified : 2009-10-31T14:27:43Z\n",
      "stmt_of_responsibility : World Telegram & Sun photo by Higgins.\n",
      "subject : ['lighthouses', 'photographic prints', 'lighthouse keepers', 'new york', 'new york (state)', 'signal lights']\n",
      "subject_headings : ['Signal lights--New York (State)--New York--1960-1970', 'Lighthouse keepers--New York (State)--New York--1960-1970', 'Lighthouses--New York (State)--New York--1960-1970']\n",
      "subjects : [{'lighthouse keepers': 'https://www.loc.gov/search/?fa=subject:lighthouse+keepers&fo=json'}, {'lighthouses': 'https://www.loc.gov/search/?fa=subject:lighthouses&fo=json'}, {'new york': 'https://www.loc.gov/search/?fa=subject:new+york&fo=json'}, {'new york (state)': 'https://www.loc.gov/search/?fa=subject:new+york+%28state%29&fo=json'}, {'photographic prints': 'https://www.loc.gov/search/?fa=subject:photographic+prints&fo=json'}, {'signal lights': 'https://www.loc.gov/search/?fa=subject:signal+lights&fo=json'}]\n",
      "thumb_gallery : https://tile.loc.gov/storage-services/service/pnp/cph/3c30000/3c36000/3c36300/3c36378_150px.jpg\n",
      "timestamp : 2022-05-02T03:01:17.212Z\n",
      "title : Frank Schubert polishes the station's lens once a week / World Telegram & Sun photo by Higgins.\n",
      "type : ['photo, print, drawing']\n",
      "unrestricted : True\n",
      "url : https://www.loc.gov/item/2006678920/\n"
     ]
    }
   ],
   "source": [
    "# try first with one file, can you open the json, can you see what elements are in the json?\n",
    "with open(list_of_item_metadata_files[0], 'r', encoding='utf-8') as item:\n",
    "    # what are we looking at?\n",
    "    print('file:',list_of_item_metadata_files[0],'\\n')\n",
    "    \n",
    "    # load the item data\n",
    "    item_data = json.load(item)\n",
    "    \n",
    "    for element in item_data.keys():\n",
    "        print(element,':',item_data[element])"
   ]
  },
  {
   "cell_type": "markdown",
   "id": "64e1b077",
   "metadata": {},
   "source": [
    "Look around in the dictionary a bit more:"
   ]
  },
  {
   "cell_type": "code",
   "execution_count": 48,
   "id": "cc1bdf07",
   "metadata": {},
   "outputs": [
    {
     "data": {
      "text/plain": [
       "dict_keys(['_version_', 'access_restricted', 'aka', 'call_number', 'campaigns', 'contributor_names', 'contributors', 'control_number', 'created', 'created_published', 'created_published_date', 'date', 'dates', 'description', 'digital_id', 'digitized', 'display_offsite', 'extract_timestamp', 'extract_urls', 'format', 'format_headings', 'genre', 'group', 'hassegments', 'id', 'image_url', 'index', 'item', 'language', 'languages', 'library_of_congress_control_number', 'link', 'location', 'locations', 'marc', 'medium', 'medium_brief', 'mime_type', 'modified', 'notes', 'number', 'number_former_id', 'number_lccn', 'number_source_modified', 'online_format', 'original_format', 'other_control_numbers', 'other_formats', 'other_title', 'partof', 'place', 'related', 'repository', 'reproduction_number', 'reproductions', 'resource_links', 'resources', 'rights', 'rights_advisory', 'rights_information', 'score', 'shard', 'shelf_id', 'site', 'sort_date', 'source_collection', 'source_created', 'source_modified', 'stmt_of_responsibility', 'subject', 'subject_headings', 'subjects', 'thumb_gallery', 'timestamp', 'title', 'type', 'unrestricted', 'url'])"
      ]
     },
     "execution_count": 48,
     "metadata": {},
     "output_type": "execute_result"
    }
   ],
   "source": [
    "item_data.keys()"
   ]
  },
  {
   "cell_type": "markdown",
   "id": "bc49f8c4",
   "metadata": {},
   "source": [
    "For the development of your metadata transformation, you're looking for \n",
    "how to extract the elements identified in the MAP table. For example, which date fields do you want and where are they? Where will you find the format information?"
   ]
  },
  {
   "cell_type": "code",
   "execution_count": 49,
   "id": "aecc7258",
   "metadata": {},
   "outputs": [
    {
     "name": "stdout",
     "output_type": "stream",
     "text": [
      "\n",
      "date: 1961-01-01 <class 'str'>\n",
      "\n",
      "format: {'photo, print, drawing': 'https://www.loc.gov/search/?fa=original_format:photo,+print,+drawing&fo=json'} <class 'list'>\n"
     ]
    }
   ],
   "source": [
    "    # can you get the date?\n",
    "    print('\\ndate:',item_data['date'], type(item_data['date']))\n",
    "    # can you get the format?\n",
    "    print('\\nformat:',item_data['format'][0], type(item_data['format']))"
   ]
  },
  {
   "cell_type": "markdown",
   "id": "54be2cad-c5ef-4184-a2ea-3ae2da53db0f",
   "metadata": {},
   "source": [
    "## Test: Try it with one example\n",
    "\n",
    "First, try to set up the extract process with one example. This may get more complicated later since you don't know yet if every item has the same metadata attributes in the JSON. But start with some basics and build up from there. \n",
    "\n",
    "For a first pass, look out for these items, and find where in the JSON you can locate them:\n",
    "\n",
    "* 'item_id'\n",
    "* 'title'\n",
    "* 'date' \n",
    "* 'source_url'\n",
    "* 'phys_format'\n",
    "* 'dig_format'\n",
    "* 'rights'\n",
    "\n",
    "_Hint: use the JSON viewer in JupyterLab, use an extension in VSCode, or use a browser to look through sample JSON. The block below uses item `cph.3b41963`._\n",
    "\n",
    "You may need to use try/except patterns to create workarounds for cases where some items may not have exactly the same attributes that you've identified in your test cases."
   ]
  },
  {
   "cell_type": "code",
   "execution_count": 50,
   "id": "b20cbb86-d872-4e38-8673-0e4e6e2c06e2",
   "metadata": {},
   "outputs": [
    {
     "name": "stdout",
     "output_type": "stream",
     "text": [
      "created row dictionary: {'source_file': 'data/ftu_lh_metadata/item_metadata-ppmsca.58709.json', 'item_id': '2006678920', 'title': \"Frank Schubert polishes the station's lens once a week / World Telegram & Sun photo by Higgins.\", 'date': '1961-01-01', 'source_url': 'https://www.loc.gov/item/2006678920/', 'phys_format': {'photo, print, drawing': 'https://www.loc.gov/search/?fa=original_format:photo,+print,+drawing&fo=json'}, 'dig_format': 'image', 'rights': 'No known copyright restriction. For information see \"New York World-Telegram & ...,\" https://www.loc.gov/rr/print/res/076_nyw.html'}\n",
      "wrote collection_items_data.csv\n"
     ]
    }
   ],
   "source": [
    "# set up the containers to create the csv of all the item fields\n",
    "# file for csv to read out\n",
    "collection_info_csv = 'collection_items_data.csv'\n",
    "\n",
    "# set up a list for the columns in your csv; \n",
    "# your goal should be to automate this, but . . . \n",
    "# it works for demonstration as you set up the crosswalk\n",
    "headers = ['source_file', 'item_id', 'title', 'date', 'source_url', 'phys_format', 'dig_format', 'rights']\n",
    "\n",
    "# try first with one file\n",
    "with open(list_of_item_metadata_files[0], 'r', encoding='utf-8') as data:\n",
    "    # load the item data\n",
    "    item_data = json.load(data)\n",
    "    \n",
    "    # extract the data you want\n",
    "    # for checking purposes, add in the source of the info\n",
    "    source_file = str(file)\n",
    "    # make sure there's some unique and stable identifier\n",
    "    try:\n",
    "        item_id = item_data['library_of_congress_control_number']\n",
    "    except:\n",
    "        item_id = item_data['url'].split('/')[-2]\n",
    "    title = item_data['title']\n",
    "    date = item_data['date']\n",
    "    source_url = item_data['url']\n",
    "    try:\n",
    "        phys_format = item_data['format'][0]\n",
    "    except:\n",
    "        phys_format = 'Not found'\n",
    "    try:\n",
    "        dig_format = item_data['online_format'][0]\n",
    "    except:\n",
    "        dig_format = 'Not found'\n",
    "    mime_type = item_data['mime_type']\n",
    "    try:\n",
    "        rights = item_data['rights_information']\n",
    "    except:\n",
    "        rights = 'Undetermined'\n",
    "\n",
    "\n",
    "    # dictionary for the rows\n",
    "    row_dict = dict()\n",
    "    \n",
    "    # look for the item metadata, assign it to the dictionary; \n",
    "    # start with some basic elements likely (already enumerated in the headers list) :\n",
    "    # source file\n",
    "    row_dict['source_file'] = source_file\n",
    "    # identifier\n",
    "    row_dict['item_id'] = item_id\n",
    "    # title\n",
    "    row_dict['title'] = title\n",
    "    # date\n",
    "    row_dict['date'] = date\n",
    "    # link\n",
    "    row_dict['source_url'] = source_url\n",
    "    # format\n",
    "    row_dict['phys_format'] = phys_format\n",
    "    # digital format\n",
    "    row_dict['dig_format'] = dig_format\n",
    "    #rights\n",
    "    row_dict['rights'] = rights \n",
    "    print('created row dictionary:',row_dict)\n",
    "\n",
    "    # write to the csv\n",
    "    with open(collection_info_csv, 'w', encoding='utf-8') as fout:\n",
    "        writer = csv.DictWriter(fout, fieldnames=headers)\n",
    "        writer.writeheader()\n",
    "        writer.writerow(row_dict)\n",
    "        print('wrote',collection_info_csv)"
   ]
  },
  {
   "cell_type": "markdown",
   "id": "8db1d9c5-4ec4-45e2-b9a0-38ebdd6cb812",
   "metadata": {},
   "source": [
    "You're now developing the structure of the CSV file that will import items into your Omeka S site. The CSV import module supports the loading of item files via a URL. This provides the location of a file (in this case, an image), which Omeka will copy into its database and attach to your item. This means that it isn't necessary to upload individual files after or during metadata creation. \n",
    "\n",
    "To allow this, you need to find a direct url to a good image file for the item. There are multiple options, and the code below demonstrates looking for the url to a medium-sized image of an item:"
   ]
  },
  {
   "cell_type": "code",
   "execution_count": 51,
   "id": "e3b57056-6708-488f-a196-3a69f477cf4b",
   "metadata": {},
   "outputs": [
    {
     "name": "stdout",
     "output_type": "stream",
     "text": [
      "https://tile.loc.gov/storage-services/service/pnp/cph/3c30000/3c36000/3c36300/3c36378v.jpg#h=1024&w=828\n"
     ]
    }
   ],
   "source": [
    "collection_info_csv = 'collection_items_data.csv'\n",
    "\n",
    "# set up a list for the columns in your csv; in future, this should be more automated but this works for now as you set up the crosswalk\n",
    "headers = ['source_file', 'item_id', 'title', 'date', 'source_url', 'contributor', 'description', 'medium', 'isPartOf', 'rights', 'subjects', 'type']\n",
    "\n",
    "# try first with one file\n",
    "with open(list_of_item_metadata_files[0], 'r', encoding='utf-8') as data:\n",
    "    # load the item data\n",
    "    item_data = json.load(data)\n",
    "    \n",
    "    print(item_data['image_url'][3])"
   ]
  },
  {
   "cell_type": "markdown",
   "id": "1ec775d7-ab10-45c3-88ad-40706c100967",
   "metadata": {},
   "source": [
    "# Transformation Part 2: Write your CSV\n",
    "\n",
    "The goal of this final step is to create a CSV file, which will be possible to import into your Omeka site. It may seem like it's taken a long time to get to this point... but remember, when this works you will be importing around 60 items into the site at one time, so if you can get all of this to work for an even larger set of materials, you will be saving quite a lot of time in the future when you need to import items. Even if you were to collect the items piecemeal, which would need a different workflow than illustrated here, you can accomplish similar goals by recording metadata for each item consistently and in a spreadsheet, which you can then use to import the items in batch.\n",
    "\n",
    "So now that your transformation script is tested, the goal is to extend this to the whole set by looping through each of the desired JSON files:"
   ]
  },
  {
   "cell_type": "code",
   "execution_count": 52,
   "id": "8279cbef-6e98-4537-a013-5feef216d13a",
   "metadata": {},
   "outputs": [
    {
     "name": "stdout",
     "output_type": "stream",
     "text": [
      "removed data/collection_items_data.csv\n"
     ]
    }
   ],
   "source": [
    "# for purposes of demonstration, use this block to make sure there isn't already a list file:\n",
    "\n",
    "items_data_file = os.path.join(data_directory, 'collection_items_data.csv')\n",
    "\n",
    "if os.path.isfile(items_data_file):\n",
    "    os.unlink(items_data_file)\n",
    "    print('removed',items_data_file)\n",
    "\n",
    "# clear row_dict\n",
    "row_dict = ()"
   ]
  },
  {
   "cell_type": "code",
   "execution_count": 53,
   "id": "dd445a1a-473f-432b-942b-3cd40fd3cde9",
   "metadata": {},
   "outputs": [
    {
     "name": "stdout",
     "output_type": "stream",
     "text": [
      "2023-11-20\n"
     ]
    }
   ],
   "source": [
    "from datetime import date\n",
    "\n",
    "date_string_for_today = date.today().strftime('%Y-%m-%d') # see https://docs.python.org/3/library/datetime.html#strftime-strptime-behavior\n",
    "\n",
    "print(date_string_for_today)"
   ]
  },
  {
   "cell_type": "code",
   "execution_count": 56,
   "id": "8e6546cb-d74c-46b7-8286-80df234878a8",
   "metadata": {},
   "outputs": [
    {
     "name": "stdout",
     "output_type": "stream",
     "text": [
      "opening data/ftu_lh_metadata/item_metadata-cph.3c36378.json\n",
      "adding 2006678920\n",
      "opening data/ftu_lh_metadata/item_metadata-det.4a24366.json\n",
      "adding 2016812260\n",
      "opening data/ftu_lh_metadata/item_metadata-g3311p.fi000169a.json\n",
      "adding 2018588031\n",
      "opening data/ftu_lh_metadata/item_metadata-g3721p.fi000169cr.json\n",
      "adding 2018588023\n",
      "opening data/ftu_lh_metadata/item_metadata-hhh.ca0581.sheet.json\n",
      "adding ca0581\n",
      "opening data/ftu_lh_metadata/item_metadata-hhh.fl0421.photos.json\n",
      "adding fl0421\n",
      "opening data/ftu_lh_metadata/item_metadata-hhh.hi0156.photos.json\n",
      "adding hi0156\n",
      "opening data/ftu_lh_metadata/item_metadata-hhh.me0226.photos.json\n",
      "adding me0226\n",
      "opening data/ftu_lh_metadata/item_metadata-hhh.mi0225.sheet.json\n",
      "adding mi0225\n",
      "opening data/ftu_lh_metadata/item_metadata-hhh.mn0184.photos.json\n",
      "adding mn0184\n",
      "opening data/ftu_lh_metadata/item_metadata-hhh.nc0497.photos.json\n",
      "adding nc0497\n",
      "opening data/ftu_lh_metadata/item_metadata-hhh.nc0610.sheet.json\n",
      "adding nc0610\n",
      "opening data/ftu_lh_metadata/item_metadata-hhh.ny1264.photos.json\n",
      "adding ny1264\n",
      "opening data/ftu_lh_metadata/item_metadata-hhh.pa0452.sheet.json\n",
      "adding pa0452\n",
      "opening data/ftu_lh_metadata/item_metadata-hhh.pr0047.photos.json\n",
      "adding pr0047\n",
      "opening data/ftu_lh_metadata/item_metadata-hhh.wi0305.sheet.json\n",
      "adding wi0305\n",
      "opening data/ftu_lh_metadata/item_metadata-highsm.05517.json\n",
      "adding 2010637364\n",
      "opening data/ftu_lh_metadata/item_metadata-highsm.12124.json\n",
      "adding 2011630320\n",
      "opening data/ftu_lh_metadata/item_metadata-highsm.12127.json\n",
      "adding 2011630323\n",
      "opening data/ftu_lh_metadata/item_metadata-highsm.12128.json\n",
      "adding 2011630324\n",
      "opening data/ftu_lh_metadata/item_metadata-highsm.12129.json\n",
      "adding 2011630325\n",
      "opening data/ftu_lh_metadata/item_metadata-highsm.12140.json\n",
      "adding 2011630336\n",
      "opening data/ftu_lh_metadata/item_metadata-highsm.12152.json\n",
      "adding 2011630349\n",
      "opening data/ftu_lh_metadata/item_metadata-highsm.12154.json\n",
      "adding 2011630351\n",
      "opening data/ftu_lh_metadata/item_metadata-highsm.13098.json\n",
      "adding 2011631292\n",
      "opening data/ftu_lh_metadata/item_metadata-highsm.15168.json\n",
      "adding 2011633361\n",
      "opening data/ftu_lh_metadata/item_metadata-highsm.15257.json\n",
      "adding 2011633450\n",
      "opening data/ftu_lh_metadata/item_metadata-highsm.15337.json\n",
      "adding 2011633530\n",
      "opening data/ftu_lh_metadata/item_metadata-highsm.15342.json\n",
      "adding 2011633535\n",
      "opening data/ftu_lh_metadata/item_metadata-highsm.26652.json\n",
      "adding 2014630852\n",
      "opening data/ftu_lh_metadata/item_metadata-highsm.41229.json\n",
      "adding 2016632047\n",
      "opening data/ftu_lh_metadata/item_metadata-highsm.44760.json\n",
      "adding 2017881574\n",
      "opening data/ftu_lh_metadata/item_metadata-highsm.45698.json\n",
      "adding 2017882446\n",
      "opening data/ftu_lh_metadata/item_metadata-highsm.46608.json\n",
      "adding 2017883356\n",
      "opening data/ftu_lh_metadata/item_metadata-highsm.50327.json\n",
      "adding 2018698529\n",
      "opening data/ftu_lh_metadata/item_metadata-mrg.02624.json\n",
      "adding 2017704736\n",
      "opening data/ftu_lh_metadata/item_metadata-mrg.02697.json\n",
      "adding 2017704809\n",
      "opening data/ftu_lh_metadata/item_metadata-mrg.10350.json\n",
      "adding 2017712436\n",
      "opening data/ftu_lh_metadata/item_metadata-ppmsca.09028.json\n",
      "adding 2005684107\n",
      "opening data/ftu_lh_metadata/item_metadata-ppmsca.09037.json\n",
      "adding 2005691810\n",
      "opening data/ftu_lh_metadata/item_metadata-ppmsca.09089.json\n",
      "adding 2005692542\n",
      "opening data/ftu_lh_metadata/item_metadata-ppmsca.09090.json\n",
      "adding 2005677910\n",
      "opening data/ftu_lh_metadata/item_metadata-ppmsca.09094.json\n",
      "adding 2005692545\n",
      "opening data/ftu_lh_metadata/item_metadata-ppmsca.09106.json\n",
      "adding 2005692537\n",
      "opening data/ftu_lh_metadata/item_metadata-ppmsca.09362.json\n",
      "adding 2005688362\n",
      "opening data/ftu_lh_metadata/item_metadata-ppmsca.09363.json\n",
      "adding 2005688363\n",
      "opening data/ftu_lh_metadata/item_metadata-ppmsca.18159.json\n",
      "adding 2008679559\n",
      "opening data/ftu_lh_metadata/item_metadata-ppmsca.18187.json\n",
      "adding 2008679588\n",
      "opening data/ftu_lh_metadata/item_metadata-ppmsca.58709.json\n",
      "adding 2018756538\n",
      "\n",
      "\n",
      "--- LOG ---\n",
      "wrote data/collection_items_data.csv\n",
      "with 49 items\n",
      "0 errors (info not written)\n"
     ]
    }
   ],
   "source": [
    "# set up the containers to create the csv & counters \n",
    "# file for csv to read out\n",
    "collection_info_csv = os.path.join('data','collection_items_data.csv')\n",
    "file_count = 0\n",
    "items_written = 0\n",
    "error_count = 0\n",
    "\n",
    "# add in a couple of extras for Omeka, including item type and date uploaded\n",
    "\n",
    "# set up a list for the columns in your csv; in future, this should be more automated but this works for now as you set up the crosswalk\n",
    "headers = ['item_type', 'date_uploaded','source_file', 'item_id', 'title', 'date', 'source_url', 'contributors', 'description', 'medium', 'partof', 'rights', 'subjects', 'type']\n",
    "\n",
    "\n",
    "# now, adapt the previous loop to open each file:\n",
    "for file in list_of_item_metadata_files:\n",
    "    file_count += 1\n",
    "    print('opening',file)\n",
    "    with open(file, 'r', encoding='utf-8') as item:\n",
    "        # load the item data\n",
    "        try:\n",
    "            item_data = json.load(item)\n",
    "        except:\n",
    "            print('error loading',file)\n",
    "            error_count += 1\n",
    "            continue\n",
    "\n",
    "        # extract/name the data you want\n",
    "        # item type\n",
    "        item_type = 'Item'\n",
    "        # date uplaoded\n",
    "        date_uploaded = date_string_for_today\n",
    "        # for checking purposes, add in the source of the info\n",
    "        source_file = str(file)\n",
    "        # make sure there's some unique and stable identifier\n",
    "        try:\n",
    "            item_id = item_data['library_of_congress_control_number']\n",
    "        except:\n",
    "            item_id = item_data['url'].split('/')[-2]\n",
    "        try:\n",
    "            title = item_data['item']['title']\n",
    "        except:\n",
    "                title = item_data['title']\n",
    "        #date\n",
    "        try:\n",
    "            date = item_data['created_published_date']\n",
    "        except:\n",
    "            # date = item_data['item']['date']\n",
    "            date = item_data['date']\n",
    "        #url\n",
    "        source_url = item_data['url']\n",
    "        #contrib\n",
    "        try:\n",
    "            contributors = item_data['contributors']\n",
    "        except:\n",
    "            contributors = \"Not known.\"\n",
    "\n",
    "        #contrib\n",
    "        description = item_data['description'][0]\n",
    "        #medium\n",
    "        try:\n",
    "            medium = item_data['item']['medium']\n",
    "        except:\n",
    "            medium = item_data['item']['mediums']\n",
    "        #partof\n",
    "        partof = item_data['partof']\n",
    "        # try:\n",
    "        #     phys_format = item_data['format'][0]\n",
    "        # except:\n",
    "        #     phys_format = 'Not found'\n",
    "        # try:\n",
    "        #     dig_format = item_data['online_format'][0]\n",
    "        # except:\n",
    "        #     dig_format = 'Not found'\n",
    "        # mime_type = item_data['mime_type']\n",
    "        try:\n",
    "            rights = item_data['rights']\n",
    "        except:\n",
    "            rights = 'Undetermined'\n",
    "        #subjects\n",
    "        try:\n",
    "            subjects = item_data['item']['subjects']\n",
    "        except:\n",
    "            subjects = item_data['item']['subject_headings']\n",
    "        #url\n",
    "        try:\n",
    "            image_url = item_data['image_url'][3]\n",
    "        except:\n",
    "            image_url = 'Did not identify a URL.'\n",
    "        #type\n",
    "        type = item_data['type']\n",
    "\n",
    "        # dictionary for the rows\n",
    "        row_dict = dict()\n",
    "\n",
    "        # look for the item metadata, assign it to the dictionary; \n",
    "        # start with some basic elements likely (already enumerated in the headers list) :\n",
    "        # item type\n",
    "        row_dict['item_type'] = item_type\n",
    "        # date uploaded\n",
    "        row_dict['date_uploaded'] = date_uploaded\n",
    "        # source filename\n",
    "        row_dict['source_file'] = source_file\n",
    "        # identifier\n",
    "        row_dict['item_id'] = item_id\n",
    "        # title\n",
    "        row_dict['title'] = title\n",
    "        # date\n",
    "        row_dict['date'] = date\n",
    "        # link\n",
    "        row_dict['source_url'] = source_url\n",
    "        # format\n",
    "        row_dict['contributors'] = contributors\n",
    "        # description\n",
    "        row_dict['description'] = description\n",
    "        #medium\n",
    "        row_dict['medium'] = medium\n",
    "        #part of\n",
    "        row_dict['partof'] = partof\n",
    "        #rights\n",
    "        row_dict['rights'] = rights\n",
    "        #subject\n",
    "        row_dict['subjects'] = subjects\n",
    "        #type\n",
    "        row_dict['type'] = type\n",
    "\n",
    "        # write to the csv\n",
    "        with open(collection_info_csv, 'a', encoding='utf-8') as fout:\n",
    "            writer = csv.DictWriter(fout, fieldnames=headers)\n",
    "            if items_written == 0:\n",
    "                writer.writeheader()\n",
    "            writer.writerow(row_dict)\n",
    "            items_written += 1\n",
    "            print('adding',item_id)\n",
    "\n",
    "print('\\n\\n--- LOG ---')\n",
    "print('wrote',collection_info_csv)\n",
    "print('with',items_written,'items')\n",
    "print(error_count,'errors (info not written)')"
   ]
  },
  {
   "cell_type": "markdown",
   "id": "61260c5d-0bfd-4dc4-8c1f-e113b75b9fce",
   "metadata": {},
   "source": [
    "Now, you should have a well-formed, complete CSV file at `data/collection_items_data.csv`. This file should ahve all the information to import the 59 items that you were able to identify, ready for import to Omeka. "
   ]
  }
 ],
 "metadata": {
  "kernelspec": {
   "display_name": "Python 3.9.12 ('base')",
   "language": "python",
   "name": "python3"
  },
  "language_info": {
   "codemirror_mode": {
    "name": "ipython",
    "version": 3
   },
   "file_extension": ".py",
   "mimetype": "text/x-python",
   "name": "python",
   "nbconvert_exporter": "python",
   "pygments_lexer": "ipython3",
   "version": "3.10.6"
  },
  "vscode": {
   "interpreter": {
    "hash": "433e84b6a98ffad52b36edc50e1a65f78fac85298e4e4f5ab24f4a24b9cfbcd2"
   }
  }
 },
 "nbformat": 4,
 "nbformat_minor": 5
}
