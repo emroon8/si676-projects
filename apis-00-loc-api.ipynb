{
 "cells": [
  {
   "cell_type": "markdown",
   "metadata": {},
   "source": [
    "# Workbook: Introduction to APIs and Accessing loc.gov\n",
    "\n",
    "This workbook provides prompts for working with the loc.gov API. \n",
    "For reference, also see: \n",
    "\n",
    "* Laura Wrubel's [documentation of the API](https://libraryofcongress.github.io/data-exploration/)\n",
    "* New Library [explanation of the API](https://www.loc.gov/apis/json-and-yaml/).\n",
    "* Library's [Data Exploration notebooks series](https://github.com/LibraryOfCongress/data-exploration).\n",
    "\n",
    "## Setup\n",
    "More advanced work may require additional modules, but the \n",
    "basic actions of interacting with an API can be acomplished \n",
    "using the requests module. \n",
    "Related work may benefit from Python's JSON and CSV libraries, \n",
    "as well as the os, os.path, and glob libraries\n",
    "to support working with local files.     "
   ]
  },
  {
   "cell_type": "code",
   "execution_count": 1,
   "metadata": {},
   "outputs": [],
   "source": [
    "# write your import statements\n",
    "import requests"
   ]
  },
  {
   "cell_type": "markdown",
   "metadata": {},
   "source": [
    "## Making an API call\n",
    "\n",
    "Use requests to scrape some data from an API endpoint. In this case, we can use the Library of Congress search function, which is a REST API that responds to HTTP requests.\n",
    "\n",
    "The documentation for requests can be found here: http://docs.python-requests.org/en/master/\n",
    "\n",
    "There are multiple loc endpoints, which access different collection aspects. \n",
    "Consult the documentation here: https://www.loc.gov/apis/json-and-yaml/requests/. \n",
    "\n",
    "The endpoint for the search query is http://www.loc.gov/search/\n",
    "\n",
    "The response can be modified by supplying various parameters:\n",
    "* To request the json format, use the `fo=json` parameter. \n",
    "* To provide a search query, use the `q` parameter, for example how would you search for images of kittens? \n",
    "* To specify images, use the `fa=online-format:image` paramter."
   ]
  },
  {
   "cell_type": "code",
   "execution_count": 2,
   "metadata": {},
   "outputs": [],
   "source": [
    "searchendpoint = 'http://www.loc.gov/search/'\n",
    "\n",
    "parameters = {\n",
    "    'fo' : 'json',\n",
    "    'q'  : 'kittens',\n",
    "    'fa' : 'online-format:image'\n",
    "}"
   ]
  },
  {
   "cell_type": "code",
   "execution_count": 3,
   "metadata": {},
   "outputs": [],
   "source": [
    "r = requests.get(searchendpoint, params=parameters)"
   ]
  },
  {
   "cell_type": "code",
   "execution_count": 4,
   "metadata": {},
   "outputs": [
    {
     "data": {
      "text/plain": [
       "'https://www.loc.gov/search/?fa=online-format%3Aimage&fo=json&q=kittens'"
      ]
     },
     "execution_count": 4,
     "metadata": {},
     "output_type": "execute_result"
    }
   ],
   "source": [
    "r.url"
   ]
  },
  {
   "cell_type": "markdown",
   "metadata": {},
   "source": [
    "You can explore the headers by calling `r.headers`, which is a dictionary. You can see the items in the dictionary using the `keys()` function:"
   ]
  },
  {
   "cell_type": "code",
   "execution_count": 5,
   "metadata": {},
   "outputs": [
    {
     "name": "stdout",
     "output_type": "stream",
     "text": [
      "Date\n",
      "Content-Type\n",
      "Content-Length\n",
      "Connection\n",
      "X-Robots-Tag\n",
      "X-Frame-Options\n",
      "Access-Control-Allow-Origin\n",
      "Referrer-Policy\n",
      "Strict-Transport-Security\n",
      "X-Content-Type-Options\n",
      "ETag\n",
      "Expires\n",
      "Content-Security-Policy\n",
      "X-Grace\n",
      "X-Nearside-Cache\n",
      "X-Nearside-Cache-Hits\n",
      "Cache-Control\n",
      "CF-Cache-Status\n",
      "Age\n",
      "Accept-Ranges\n",
      "Vary\n",
      "Server\n",
      "CF-RAY\n"
     ]
    }
   ],
   "source": [
    "for key in r.headers.keys():\n",
    "    print(key)"
   ]
  },
  {
   "cell_type": "markdown",
   "metadata": {},
   "source": [
    "The response is a JSON object. You can use requests built-in JSON function to parse this:  "
   ]
  },
  {
   "cell_type": "code",
   "execution_count": 6,
   "metadata": {},
   "outputs": [
    {
     "data": {
      "text/plain": [
       "dict_keys(['breadcrumbs', 'expert_resources', 'facet_trail', 'facet_views', 'facets', 'form_facets', 'options', 'pagination', 'results', 'search', 'timestamp', 'views'])"
      ]
     },
     "execution_count": 6,
     "metadata": {},
     "output_type": "execute_result"
    }
   ],
   "source": [
    "r.json().keys()"
   ]
  },
  {
   "cell_type": "markdown",
   "metadata": {},
   "source": [
    "### What is the pagination info?"
   ]
  },
  {
   "cell_type": "code",
   "execution_count": 7,
   "metadata": {},
   "outputs": [
    {
     "data": {
      "text/plain": [
       "dict_keys(['current', 'first', 'from', 'last', 'next', 'of', 'page_list', 'perpage', 'perpage_options', 'previous', 'results', 'to', 'total'])"
      ]
     },
     "execution_count": 7,
     "metadata": {},
     "output_type": "execute_result"
    }
   ],
   "source": [
    "r.json()['pagination'].keys()"
   ]
  },
  {
   "cell_type": "code",
   "execution_count": 8,
   "metadata": {},
   "outputs": [
    {
     "data": {
      "text/plain": [
       "6802"
      ]
     },
     "execution_count": 8,
     "metadata": {},
     "output_type": "execute_result"
    }
   ],
   "source": [
    "r.json()['pagination']['total']"
   ]
  },
  {
   "cell_type": "markdown",
   "metadata": {},
   "source": [
    "In theory, you could use this as the definition of a range function and request the list of all 31,000+ kitten images. To do this, you could use the `range()` function."
   ]
  },
  {
   "cell_type": "markdown",
   "metadata": {},
   "source": [
    "### Where are the data about the items? \n",
    "\n",
    "Hint: what are the `results`?"
   ]
  },
  {
   "cell_type": "code",
   "execution_count": 9,
   "metadata": {},
   "outputs": [
    {
     "data": {
      "text/plain": [
       "25"
      ]
     },
     "execution_count": 9,
     "metadata": {},
     "output_type": "execute_result"
    }
   ],
   "source": [
    "len(r.json()['results'])"
   ]
  },
  {
   "cell_type": "markdown",
   "metadata": {},
   "source": [
    "This makes sense since the pagination is set to 25 per page, so this is likely the items. In other words, the things we want to take a look at. "
   ]
  },
  {
   "cell_type": "code",
   "execution_count": 10,
   "metadata": {},
   "outputs": [
    {
     "data": {
      "text/plain": [
       "dict_keys(['access_restricted', 'aka', 'campaigns', 'contributor', 'date', 'dates', 'description', 'digitized', 'extract_timestamp', 'group', 'hassegments', 'id', 'image_url', 'index', 'item', 'language', 'location', 'location_country', 'mime_type', 'number', 'number_former_id', 'number_lccn', 'number_source_modified', 'online_format', 'original_format', 'other_title', 'partof', 'related', 'reproductions', 'resources', 'shelf_id', 'site', 'subject', 'timestamp', 'title', 'type', 'unrestricted', 'url'])"
      ]
     },
     "execution_count": 10,
     "metadata": {},
     "output_type": "execute_result"
    }
   ],
   "source": [
    "r.json()['results'][0].keys()"
   ]
  },
  {
   "cell_type": "markdown",
   "metadata": {},
   "source": [
    "### How can we find the URL to the images?\n",
    "\n",
    "Start by isolating the item information. . . "
   ]
  },
  {
   "cell_type": "code",
   "execution_count": 11,
   "metadata": {},
   "outputs": [
    {
     "name": "stdout",
     "output_type": "stream",
     "text": [
      "25\n"
     ]
    }
   ],
   "source": [
    "kittenList = r.json()['results']\n",
    "\n",
    "print(len(kittenList))"
   ]
  },
  {
   "cell_type": "markdown",
   "metadata": {},
   "source": [
    "To see what keys are in the result listings, you can use the `keys()` function on a single result. Here, use the index `0` to look at the first result:"
   ]
  },
  {
   "cell_type": "code",
   "execution_count": 12,
   "metadata": {},
   "outputs": [
    {
     "name": "stdout",
     "output_type": "stream",
     "text": [
      "access_restricted\n",
      "aka\n",
      "campaigns\n",
      "contributor\n",
      "date\n",
      "dates\n",
      "description\n",
      "digitized\n",
      "extract_timestamp\n",
      "group\n",
      "hassegments\n",
      "id\n",
      "image_url\n",
      "index\n",
      "item\n",
      "language\n",
      "location\n",
      "location_country\n",
      "mime_type\n",
      "number\n",
      "number_former_id\n",
      "number_lccn\n",
      "number_source_modified\n",
      "online_format\n",
      "original_format\n",
      "other_title\n",
      "partof\n",
      "related\n",
      "reproductions\n",
      "resources\n",
      "shelf_id\n",
      "site\n",
      "subject\n",
      "timestamp\n",
      "title\n",
      "type\n",
      "unrestricted\n",
      "url\n"
     ]
    }
   ],
   "source": [
    "for key in kittenList[0].keys():\n",
    "    print(key)"
   ]
  },
  {
   "cell_type": "markdown",
   "metadata": {},
   "source": [
    "What is the `url` value?"
   ]
  },
  {
   "cell_type": "code",
   "execution_count": 13,
   "metadata": {},
   "outputs": [
    {
     "name": "stdout",
     "output_type": "stream",
     "text": [
      "https://www.loc.gov/item/2016892679/ 2016892679\n",
      "https://www.loc.gov/item/2017650796/ 2017650796\n",
      "https://www.loc.gov/item/2013646722/ 2013646722\n",
      "https://www.loc.gov/item/jukebox-668708/ jukebox-668708\n",
      "https://www.loc.gov/item/2016780779/ 2016780779\n",
      "https://www.loc.gov/item/2016770792/ 2016770792\n",
      "https://www.loc.gov/item/2022653071/ 2022653071\n",
      "https://www.loc.gov/item/2016796464/ 2016796464\n",
      "https://www.loc.gov/item/2016816441/ 2016816441\n",
      "https://www.loc.gov/item/2016817090/ 2016817090\n",
      "https://www.loc.gov/item/20002503/ 20002503\n",
      "https://www.loc.gov/item/2002697127/ 2002697127\n",
      "https://www.loc.gov/item/2005681032/ 2005681032\n",
      "https://www.loc.gov/item/2022652300/ 2022652300\n",
      "https://www.loc.gov/item/2002697126/ 2002697126\n",
      "https://www.loc.gov/item/2014717546/ 2014717546\n",
      "https://www.loc.gov/item/2008660988/ 2008660988\n",
      "https://www.loc.gov/item/jukebox-61618/ jukebox-61618\n",
      "https://www.loc.gov/item/89708607/ 89708607\n",
      "https://www.loc.gov/item/2002706499/ 2002706499\n",
      "https://www.loc.gov/item/2022653887/ 2022653887\n",
      "https://www.loc.gov/item/2002697129/ 2002697129\n",
      "https://www.loc.gov/item/90708798/ 90708798\n",
      "https://www.loc.gov/item/07028973/ 07028973\n",
      "https://www.loc.gov/item/jukebox-191416/ jukebox-191416\n"
     ]
    }
   ],
   "source": [
    "for kitten in kittenList: \n",
    "    print(kitten['url'], kitten['url'].strip().split('/')[-2])"
   ]
  },
  {
   "cell_type": "markdown",
   "metadata": {},
   "source": [
    "### Can you save the item metadata to a local file?"
   ]
  },
  {
   "cell_type": "markdown",
   "metadata": {},
   "source": [
    "This will require the `json` module:"
   ]
  },
  {
   "cell_type": "code",
   "execution_count": 14,
   "metadata": {},
   "outputs": [],
   "source": [
    "import json"
   ]
  },
  {
   "cell_type": "code",
   "execution_count": 15,
   "metadata": {},
   "outputs": [
    {
     "name": "stdout",
     "output_type": "stream",
     "text": [
      "https://www.loc.gov/item/2016892679/?fo=json\n",
      "wrote 2016892679\n",
      "https://www.loc.gov/item/2017650796/?fo=json\n",
      "wrote 2017650796\n",
      "https://www.loc.gov/item/2013646722/?fo=json\n",
      "wrote 2013646722\n",
      "https://www.loc.gov/item/jukebox-668708/?fo=json\n",
      "wrote jukebox-668708\n",
      "https://www.loc.gov/item/2016780779/?fo=json\n",
      "wrote 2016780779\n",
      "https://www.loc.gov/item/2016770792/?fo=json\n",
      "wrote 2016770792\n",
      "https://www.loc.gov/item/2022653071/?fo=json\n",
      "wrote 2022653071\n",
      "https://www.loc.gov/item/2016796464/?fo=json\n",
      "wrote 2016796464\n",
      "https://www.loc.gov/item/2016816441/?fo=json\n",
      "wrote 2016816441\n",
      "https://www.loc.gov/item/2016817090/?fo=json\n",
      "wrote 2016817090\n",
      "https://www.loc.gov/item/20002503/?fo=json\n",
      "wrote 20002503\n",
      "https://www.loc.gov/item/2002697127/?fo=json\n",
      "wrote 2002697127\n",
      "https://www.loc.gov/item/2005681032/?fo=json\n",
      "wrote 2005681032\n",
      "https://www.loc.gov/item/2022652300/?fo=json\n",
      "wrote 2022652300\n",
      "https://www.loc.gov/item/2002697126/?fo=json\n",
      "wrote 2002697126\n",
      "https://www.loc.gov/item/2014717546/?fo=json\n",
      "wrote 2014717546\n",
      "https://www.loc.gov/item/2008660988/?fo=json\n",
      "wrote 2008660988\n",
      "https://www.loc.gov/item/jukebox-61618/?fo=json\n",
      "wrote jukebox-61618\n",
      "https://www.loc.gov/item/89708607/?fo=json\n",
      "wrote 89708607\n",
      "https://www.loc.gov/item/2002706499/?fo=json\n",
      "wrote 2002706499\n",
      "https://www.loc.gov/item/2022653887/?fo=json\n",
      "wrote 2022653887\n",
      "https://www.loc.gov/item/2002697129/?fo=json\n",
      "wrote 2002697129\n",
      "https://www.loc.gov/item/90708798/?fo=json\n",
      "wrote 90708798\n",
      "https://www.loc.gov/item/07028973/?fo=json\n",
      "wrote 07028973\n",
      "https://www.loc.gov/item/jukebox-191416/?fo=json\n",
      "wrote jukebox-191416\n"
     ]
    }
   ],
   "source": [
    "for kitten in kittenList:\n",
    "    r = requests.get(kitten['url'], params={'fo': 'json'})\n",
    "    print(r.url)\n",
    "    id = kitten['url'].split('/')[-2]\n",
    "    with open(id + '.json', 'w', encoding = 'utf-8') as f:\n",
    "        json.dump(r.json()['item'], f, indent=2)\n",
    "        print('wrote',id)"
   ]
  }
 ],
 "metadata": {
  "kernelspec": {
   "display_name": "Python 3.9.12 ('base')",
   "language": "python",
   "name": "python3"
  },
  "language_info": {
   "codemirror_mode": {
    "name": "ipython",
    "version": 3
   },
   "file_extension": ".py",
   "mimetype": "text/x-python",
   "name": "python",
   "nbconvert_exporter": "python",
   "pygments_lexer": "ipython3",
   "version": "3.9.18"
  },
  "orig_nbformat": 4,
  "vscode": {
   "interpreter": {
    "hash": "433e84b6a98ffad52b36edc50e1a65f78fac85298e4e4f5ab24f4a24b9cfbcd2"
   }
  }
 },
 "nbformat": 4,
 "nbformat_minor": 2
}
