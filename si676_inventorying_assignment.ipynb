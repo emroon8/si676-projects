{
 "cells": [
  {
   "cell_type": "code",
   "execution_count": null,
   "metadata": {},
   "outputs": [],
   "source": [
    "#transferred to python document for easier usage"
   ]
  },
  {
   "attachments": {},
   "cell_type": "markdown",
   "metadata": {},
   "source": [
    "# SI 676 Inventorying Assignment \n",
    "## Emma Rooney"
   ]
  },
  {
   "cell_type": "code",
   "execution_count": 28,
   "metadata": {},
   "outputs": [],
   "source": [
    "# import os\n"
   ]
  },
  {
   "cell_type": "code",
   "execution_count": 17,
   "metadata": {},
   "outputs": [
    {
     "name": "stdout",
     "output_type": "stream",
     "text": [
      "data/webfiles-samples\n"
     ]
    }
   ],
   "source": [
    "# folder = 'webfiles-samples'\n",
    "# path_to_folder= os.path.join('data', folder)\n",
    "\n",
    "# print(path_to_folder)"
   ]
  },
  {
   "cell_type": "code",
   "execution_count": 19,
   "metadata": {},
   "outputs": [
    {
     "name": "stdout",
     "output_type": "stream",
     "text": [
      ".\n"
     ]
    }
   ],
   "source": [
    "# os.path.abspath('.')\n",
    "# cur_loc = os.getcwd()\n",
    "# os.path.isabs(cur_loc)\n",
    "# rel_path = os.path.relpath(os.getcwd())\n",
    "# print(rel_path)\n"
   ]
  },
  {
   "cell_type": "code",
   "execution_count": null,
   "metadata": {},
   "outputs": [],
   "source": [
    "# file_name = os.path.basename(path_to_folder)\n",
    "# file_ext = os.path.splitext(path_to_folder)\n",
    "# extension = file_ext[1]"
   ]
  },
  {
   "cell_type": "code",
   "execution_count": 20,
   "metadata": {},
   "outputs": [
    {
     "name": "stdout",
     "output_type": "stream",
     "text": [
      "1698255686.0 256\n"
     ]
    }
   ],
   "source": [
    "# file_stats = os.stat(path_to_folder)\n",
    "# #mtime = file_stats.st_mtime\n",
    "# size = file_stats.st_size\n",
    "\n",
    "# print(size)"
   ]
  },
  {
   "cell_type": "code",
   "execution_count": 21,
   "metadata": {},
   "outputs": [],
   "source": [
    "# import datetime"
   ]
  },
  {
   "cell_type": "code",
   "execution_count": 25,
   "metadata": {},
   "outputs": [
    {
     "name": "stdout",
     "output_type": "stream",
     "text": [
      "2023-10-25T13:41:26\n"
     ]
    }
   ],
   "source": [
    "# mod_time = datetime.datetime.strftime(datetime.datetime.fromtimestamp(os.path.getmtime(path_to_folder)), \"%Y-%m-%dT%H:%M:%S%Z\")\n",
    "# print(mod_time)"
   ]
  },
  {
   "cell_type": "code",
   "execution_count": 26,
   "metadata": {},
   "outputs": [],
   "source": [
    "# import hashlib"
   ]
  },
  {
   "cell_type": "code",
   "execution_count": 27,
   "metadata": {},
   "outputs": [],
   "source": [
    "# def get_checksum(file_path, checksum_type):\n",
    "#     checksum_type = checksum_type.lower()\n",
    "\n",
    "#     with open(file_path, 'rb') as f:\n",
    "#         bytes = f.read()\n",
    "#         if checksum_type == 'md5':\n",
    "#             hash_string = hashlib.md5(bytes).hexidigest()\n",
    "#         elif checksum_type == 'sha256':\n",
    "#             hash_string = hashlib.sha256(bytes).hexidigest()\n",
    "#         else:\n",
    "#             raise('{} is not a has function supposted by this program.')\n",
    "#     return hash_string\n",
    "        "
   ]
  },
  {
   "cell_type": "code",
   "execution_count": null,
   "metadata": {},
   "outputs": [],
   "source": []
  },
  {
   "cell_type": "code",
   "execution_count": 5,
   "metadata": {},
   "outputs": [],
   "source": [
    "# headers = [\n",
    "#     'relative_path',\n",
    "#     'file_name',\n",
    "#     'file_extension',\n",
    "#     'file_size',\n",
    "#     'mod_time',\n",
    "#     'file_int_info'\n",
    "# ]"
   ]
  }
 ],
 "metadata": {
  "kernelspec": {
   "display_name": "Python 3",
   "language": "python",
   "name": "python3"
  },
  "language_info": {
   "codemirror_mode": {
    "name": "ipython",
    "version": 3
   },
   "file_extension": ".py",
   "mimetype": "text/x-python",
   "name": "python",
   "nbconvert_exporter": "python",
   "pygments_lexer": "ipython3",
   "version": "3.10.6"
  },
  "orig_nbformat": 4
 },
 "nbformat": 4,
 "nbformat_minor": 2
}
