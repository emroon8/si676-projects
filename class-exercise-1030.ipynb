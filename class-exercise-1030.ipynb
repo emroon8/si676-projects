{
 "cells": [
  {
   "cell_type": "code",
   "execution_count": 2,
   "metadata": {},
   "outputs": [],
   "source": [
    "import xml.etree.ElementTree as ET"
   ]
  },
  {
   "cell_type": "code",
   "execution_count": 3,
   "metadata": {},
   "outputs": [],
   "source": [
    "mods = ET.parse(open('data/xml/2018_lcwa_MODS_5.xml'))\n",
    "\n",
    "root = mods.getroot()"
   ]
  },
  {
   "cell_type": "code",
   "execution_count": 6,
   "metadata": {},
   "outputs": [
    {
     "data": {
      "text/plain": [
       "'modsCollection'"
      ]
     },
     "execution_count": 6,
     "metadata": {},
     "output_type": "execute_result"
    }
   ],
   "source": [
    "root.tag\n",
    "\n"
   ]
  },
  {
   "cell_type": "code",
   "execution_count": 7,
   "metadata": {},
   "outputs": [
    {
     "data": {
      "text/plain": [
       "xml.etree.ElementTree.Element"
      ]
     },
     "execution_count": 7,
     "metadata": {},
     "output_type": "execute_result"
    }
   ],
   "source": [
    "type(root)"
   ]
  },
  {
   "cell_type": "code",
   "execution_count": 8,
   "metadata": {},
   "outputs": [
    {
     "name": "stdout",
     "output_type": "stream",
     "text": [
      "{http://www.loc.gov/mods/v3}mods\n",
      "{http://www.loc.gov/mods/v3}mods\n",
      "{http://www.loc.gov/mods/v3}mods\n",
      "{http://www.loc.gov/mods/v3}mods\n",
      "{http://www.loc.gov/mods/v3}mods\n"
     ]
    }
   ],
   "source": [
    "for item in root:\n",
    "    print(item.tag)"
   ]
  },
  {
   "cell_type": "code",
   "execution_count": 18,
   "metadata": {},
   "outputs": [],
   "source": [
    "ns = {\n",
    "    'mods': 'http://www.loc.gov/mods/v3'\n",
    "}"
   ]
  },
  {
   "cell_type": "code",
   "execution_count": 24,
   "metadata": {},
   "outputs": [
    {
     "name": "stdout",
     "output_type": "stream",
     "text": [
      "{http://www.loc.gov/mods/v3}identifier {}\n",
      "{http://www.loc.gov/mods/v3}identifier {'invalid': 'yes', 'type': 'database id'}\n",
      "{http://www.loc.gov/mods/v3}identifier {'invalid': 'yes', 'type': 'database id'}\n",
      "{http://www.loc.gov/mods/v3}identifier {'displayLabel': 'Access URL', 'type': 'uri'}\n",
      "{http://www.loc.gov/mods/v3}identifier {'type': 'database id'}\n",
      "{http://www.loc.gov/mods/v3}identifier {}\n",
      "{http://www.loc.gov/mods/v3}identifier {'invalid': 'yes', 'type': 'database id'}\n",
      "{http://www.loc.gov/mods/v3}identifier {'invalid': 'yes', 'type': 'database id'}\n",
      "{http://www.loc.gov/mods/v3}identifier {'displayLabel': 'Access URL', 'type': 'uri'}\n",
      "{http://www.loc.gov/mods/v3}identifier {'type': 'database id'}\n",
      "{http://www.loc.gov/mods/v3}identifier {}\n",
      "{http://www.loc.gov/mods/v3}identifier {'invalid': 'yes', 'type': 'database id'}\n",
      "{http://www.loc.gov/mods/v3}identifier {'invalid': 'yes', 'type': 'database id'}\n",
      "{http://www.loc.gov/mods/v3}identifier {'invalid': 'yes', 'type': 'database id'}\n",
      "{http://www.loc.gov/mods/v3}identifier {'displayLabel': 'Access URL', 'type': 'uri'}\n",
      "{http://www.loc.gov/mods/v3}identifier {'type': 'database id'}\n",
      "{http://www.loc.gov/mods/v3}identifier {}\n",
      "{http://www.loc.gov/mods/v3}identifier {'invalid': 'yes', 'type': 'database id'}\n",
      "{http://www.loc.gov/mods/v3}identifier {'displayLabel': 'Access URL', 'type': 'uri'}\n",
      "{http://www.loc.gov/mods/v3}identifier {'type': 'database id'}\n",
      "{http://www.loc.gov/mods/v3}identifier {'displayLabel': 'Access URL', 'type': 'uri'}\n",
      "{http://www.loc.gov/mods/v3}identifier {'type': 'database id'}\n",
      "{http://www.loc.gov/mods/v3}identifier {}\n",
      "{http://www.loc.gov/mods/v3}identifier {'invalid': 'yes', 'type': 'database id'}\n",
      "{http://www.loc.gov/mods/v3}identifier {'invalid': 'yes', 'type': 'database id'}\n",
      "{http://www.loc.gov/mods/v3}identifier {'displayLabel': 'Access URL', 'type': 'uri'}\n",
      "{http://www.loc.gov/mods/v3}identifier {'type': 'database id'}\n"
     ]
    }
   ],
   "source": [
    "for identifier in root.findall('.//mods:identifier', namespaces=ns):\n",
    "    print(identifier.tag, identifier.attrib)"
   ]
  },
  {
   "cell_type": "code",
   "execution_count": 28,
   "metadata": {},
   "outputs": [
    {
     "name": "stdout",
     "output_type": "stream",
     "text": [
      "{http://www.loc.gov/mods/v3}identifier {'displayLabel': 'Access URL', 'type': 'uri'} http://www.slate.com/\n",
      "{http://www.loc.gov/mods/v3}identifier {'displayLabel': 'Access URL', 'type': 'uri'} http://rawstory.com/\n",
      "{http://www.loc.gov/mods/v3}identifier {'displayLabel': 'Access URL', 'type': 'uri'} http://www.huffingtonpost.com/\n",
      "{http://www.loc.gov/mods/v3}identifier {'displayLabel': 'Access URL', 'type': 'uri'} https://medium.com/buzzfeed-collections\n",
      "{http://www.loc.gov/mods/v3}identifier {'displayLabel': 'Access URL', 'type': 'uri'} http://www.buzzfeed.com/\n",
      "{http://www.loc.gov/mods/v3}identifier {'displayLabel': 'Access URL', 'type': 'uri'} http://www.drudgereport.com/\n"
     ]
    }
   ],
   "source": [
    "for identifier in root.findall('.//mods:identifier[@type=\"uri\"]', namespaces=ns):\n",
    "    print(identifier.tag, identifier.attrib, identifier.text)"
   ]
  },
  {
   "cell_type": "code",
   "execution_count": 31,
   "metadata": {},
   "outputs": [
    {
     "name": "stdout",
     "output_type": "stream",
     "text": [
      "{http://www.loc.gov/mods/v3}identifier {'invalid': 'yes', 'type': 'database id'} 85999\n",
      "{http://www.loc.gov/mods/v3}identifier {'invalid': 'yes', 'type': 'database id'} 109353\n",
      "{http://www.loc.gov/mods/v3}identifier {'invalid': 'yes', 'type': 'database id'} 91224\n",
      "{http://www.loc.gov/mods/v3}identifier {'invalid': 'yes', 'type': 'database id'} 109272\n",
      "{http://www.loc.gov/mods/v3}identifier {'invalid': 'yes', 'type': 'database id'} 91275\n",
      "{http://www.loc.gov/mods/v3}identifier {'invalid': 'yes', 'type': 'database id'} 109273\n",
      "{http://www.loc.gov/mods/v3}identifier {'invalid': 'yes', 'type': 'database id'} 96782\n",
      "{http://www.loc.gov/mods/v3}identifier {'invalid': 'yes', 'type': 'database id'} nan\n",
      "{http://www.loc.gov/mods/v3}identifier {'invalid': 'yes', 'type': 'database id'} 82949\n",
      "{http://www.loc.gov/mods/v3}identifier {'invalid': 'yes', 'type': 'database id'} 109227\n"
     ]
    }
   ],
   "source": [
    "for invalid_identifier in root.findall('.//mods:identifier[@invalid]', ns):\n",
    "    print(invalid_identifier.tag, invalid_identifier.attrib, invalid_identifier.text)"
   ]
  }
 ],
 "metadata": {
  "kernelspec": {
   "display_name": "Python 3",
   "language": "python",
   "name": "python3"
  },
  "language_info": {
   "codemirror_mode": {
    "name": "ipython",
    "version": 3
   },
   "file_extension": ".py",
   "mimetype": "text/x-python",
   "name": "python",
   "nbconvert_exporter": "python",
   "pygments_lexer": "ipython3",
   "version": "3.10.6"
  },
  "orig_nbformat": 4
 },
 "nbformat": 4,
 "nbformat_minor": 2
}
