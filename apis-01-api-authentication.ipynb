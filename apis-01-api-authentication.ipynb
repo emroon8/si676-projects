{
 "cells": [
  {
   "cell_type": "markdown",
   "metadata": {},
   "source": [
    "# Authenticating with a JSON file\n",
    "\n",
    "If you are working with an API that requires keys or other authentication\n",
    "information to work with its data, then you will likely want to store\n",
    "and reuse this information. Since it can be sensitive, it is recommended\n",
    "not to publicly share this information. This notebook explains one\n",
    "basic method to accomplish this task. The approach here:\n",
    "\n",
    "* establishes your credentials in a JSON file\n",
    "* uses a helper function to retrieve credentials\n",
    "* helps to prevent you from sharing your credentials publicly"
   ]
  },
  {
   "cell_type": "code",
   "execution_count": null,
   "metadata": {},
   "outputs": [],
   "source": [
    "import json"
   ]
  },
  {
   "cell_type": "code",
   "execution_count": null,
   "metadata": {},
   "outputs": [],
   "source": [
    "def get_credential(json_file, key, sub_key):\n",
    "   '''This function queries your secrets so you don\\'t have to upload them to your Git repository.\n",
    "   The function takes three arguments: \n",
    "   \n",
    "   json_file is a JSON file path (supplied as a string) where the function will find your API authentication information.\n",
    "   key is the first level of the JSON document and provides a unique name for each set of API documentation. The function is structured this way so that you can store authentication information for multiple APIs in this file.\n",
    "   sub_key is the name of the individual keys for each API. For the Omeka S API, there are two, one named key_identity and another named key_credential.\n",
    "   \n",
    "   The authentication information provides a level of security for your API, so you should not share keys publicly. \n",
    "   This function allows you to draw on the keys without sharing them, while also uploading your code to a public space like GitHub.\n",
    "   \n",
    "   You may need to modify the information provided based on the name of your secrets file, and the name that you give to the keys and sub_keys in your file.'''\n",
    "   try:\n",
    "       with open(json_file) as f:\n",
    "           data = json.load(f)\n",
    "           return data[key][sub_key]\n",
    "   except Exception as e:\n",
    "       print(\"Error: \", e)"
   ]
  },
  {
   "cell_type": "markdown",
   "metadata": {},
   "source": [
    "Omeka S, for example, requires a `key_identity` and `key_credential`, which\n",
    "are supplied as parameters in the URL. These might be retrieved like this:"
   ]
  },
  {
   "cell_type": "code",
   "execution_count": null,
   "metadata": {},
   "outputs": [],
   "source": [
    "key_identity = get_credential('secrets.json', 'omeka', 'key_identity')\n",
    "key_credential = get_credential('secrets.json', 'omeka', 'key_credential') "
   ]
  },
  {
   "cell_type": "code",
   "execution_count": null,
   "metadata": {},
   "outputs": [],
   "source": [
    "print(key_identity)\n",
    "print(key_credential)"
   ]
  }
 ],
 "metadata": {
  "kernelspec": {
   "display_name": "base",
   "language": "python",
   "name": "python3"
  },
  "language_info": {
   "codemirror_mode": {
    "name": "ipython",
    "version": 3
   },
   "file_extension": ".py",
   "mimetype": "text/x-python",
   "name": "python",
   "nbconvert_exporter": "python",
   "pygments_lexer": "ipython3",
   "version": "3.9.18"
  }
 },
 "nbformat": 4,
 "nbformat_minor": 2
}
