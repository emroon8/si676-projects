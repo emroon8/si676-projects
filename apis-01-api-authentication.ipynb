{
 "cells": [
  {
   "cell_type": "markdown",
   "metadata": {},
   "source": [
    "# Authenticating with a JSON file\n",
    "\n",
    "If you are working with an API that requires keys or other authentication\n",
    "information to work with its data, then you will likely want to store\n",
    "and reuse this information. Since it can be sensitive, it is recommended\n",
    "not to publicly share this information. This notebook explains one\n",
    "basic method to accomplish this task. The approach here:\n",
    "\n",
    "* establishes your credentials in a JSON file\n",
    "* uses a helper function to retrieve credentials\n",
    "* helps to prevent you from sharing your credentials publicly"
   ]
  },
  {
   "cell_type": "code",
   "execution_count": null,
   "metadata": {},
   "outputs": [],
   "source": [
    "import json"
   ]
  },
  {
   "cell_type": "code",
   "execution_count": null,
   "metadata": {},
   "outputs": [],
   "source": [
    "def get_credential(json_file, key, sub_key):\n",
    "   try:\n",
    "       with open(json_file) as f:\n",
    "           data = json.load(f)\n",
    "           return data[key][sub_key]\n",
    "   except Exception as e:\n",
    "       print(\"Error: \", e)"
   ]
  },
  {
   "cell_type": "markdown",
   "metadata": {},
   "source": [
    "Omeka S, for example, requires a `key_identity` and `key_credential`, which\n",
    "are supplied as parameters in the URL. These might be retrieved like this:"
   ]
  },
  {
   "cell_type": "code",
   "execution_count": null,
   "metadata": {},
   "outputs": [],
   "source": [
    "key_identity = get_credential('secrets.json', 'omekas', 'key_identity')\n",
    "key_credential = get_credential('secrets.json', 'omekas', 'key_credential') "
   ]
  },
  {
   "cell_type": "code",
   "execution_count": null,
   "metadata": {},
   "outputs": [],
   "source": [
    "print(key_identity)\n",
    "print(key_credential)"
   ]
  }
 ],
 "metadata": {
  "kernelspec": {
   "display_name": "base",
   "language": "python",
   "name": "python3"
  },
  "language_info": {
   "codemirror_mode": {
    "name": "ipython",
    "version": 3
   },
   "file_extension": ".py",
   "mimetype": "text/x-python",
   "name": "python",
   "nbconvert_exporter": "python",
   "pygments_lexer": "ipython3",
   "version": "3.9.18"
  }
 },
 "nbformat": 4,
 "nbformat_minor": 2
}
