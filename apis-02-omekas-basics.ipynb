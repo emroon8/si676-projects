{
 "cells": [
  {
   "cell_type": "markdown",
   "metadata": {},
   "source": [
    "# Using the Omeka S API\n",
    "\n"
   ]
  },
  {
   "cell_type": "code",
   "execution_count": 1,
   "metadata": {},
   "outputs": [],
   "source": [
    "import json\n",
    "import requests"
   ]
  },
  {
   "cell_type": "markdown",
   "metadata": {},
   "source": [
    "Set up the `get_credential()` function:"
   ]
  },
  {
   "cell_type": "code",
   "execution_count": 2,
   "metadata": {},
   "outputs": [],
   "source": [
    "def get_credential(json_file, key, sub_key):\n",
    "   try:\n",
    "       with open(json_file) as f:\n",
    "           data = json.load(f)\n",
    "           return data[key][sub_key]\n",
    "   except Exception as e:\n",
    "       print(\"Error: \", e)"
   ]
  },
  {
   "cell_type": "code",
   "execution_count": 14,
   "metadata": {},
   "outputs": [],
   "source": [
    "baseURL = 'http://jajohnst.projectst.si.umich.edu/omekas/api/'\n",
    "key_identity = get_credential('secrets.json', 'omekas', 'key_identity')\n",
    "key_credential = get_credential('secrets.json', 'omekas', 'key_credential') "
   ]
  },
  {
   "cell_type": "markdown",
   "metadata": {},
   "source": [
    "Create a dictionary of the keys, that you can reuse:"
   ]
  },
  {
   "cell_type": "code",
   "execution_count": 4,
   "metadata": {},
   "outputs": [],
   "source": [
    "omekas_credentials = {\n",
    "    'key_identity': key_identity,\n",
    "    'key_credential': key_credential\n",
    "}"
   ]
  },
  {
   "cell_type": "markdown",
   "metadata": {},
   "source": [
    "## Omeka S Metadata available through the API\n",
    "\n",
    "Omeka S stores various levels of information about items in its collection:\n",
    "\n",
    "* __Item Metadata__ (about an individual item, usually associated with an image or other media file)\n",
    "* __Multimedia__ (files for media that are linked to item metadata, often still images but may also be moving images, audio, datafiles, or other digital objects)\n",
    "* __Item Sets__ (items may be grouped into one or more sets that can be used to group or sort items for exhibit purposes)\n",
    "\n",
    "### Get metadata information for a single item\n",
    "\n",
    "Items have unique IDs that are created upon ingest. All information about an item\n",
    "may be retrieved using that ID, and from the item endpoint. The item endpoint\n",
    "for this repository is\n",
    "\n",
    "```url\n",
    "http://jajohnst.projectst.si.umich.edu/omekas/api/items/:item_id\n",
    "```\n",
    "\n",
    "Query that endpoint to get metadata for item 82:"
   ]
  },
  {
   "cell_type": "code",
   "execution_count": 5,
   "metadata": {},
   "outputs": [],
   "source": [
    "resource_type = 'items'\n",
    "item_ID = 587"
   ]
  },
  {
   "cell_type": "code",
   "execution_count": 15,
   "metadata": {},
   "outputs": [],
   "source": [
    "item_request = requests.get(baseURL + resource_type + '/' + str(item_ID), params=omekas_credentials)"
   ]
  },
  {
   "cell_type": "code",
   "execution_count": 16,
   "metadata": {},
   "outputs": [
    {
     "data": {
      "text/plain": [
       "'http://jajohnst.projectst.si.umich.edu/omekas/api/items/587?key_identity=JwGow8saqFgZlrmsA5dXwlqVB4XvrhWa&key_credential=FYbJFHUIsEbFjfKDioR70kvuX21le875'"
      ]
     },
     "execution_count": 16,
     "metadata": {},
     "output_type": "execute_result"
    }
   ],
   "source": [
    "item_request.url"
   ]
  },
  {
   "cell_type": "code",
   "execution_count": 17,
   "metadata": {},
   "outputs": [
    {
     "data": {
      "text/plain": [
       "200"
      ]
     },
     "execution_count": 17,
     "metadata": {},
     "output_type": "execute_result"
    }
   ],
   "source": [
    "item_request.status_code"
   ]
  },
  {
   "cell_type": "code",
   "execution_count": 18,
   "metadata": {},
   "outputs": [
    {
     "data": {
      "text/plain": [
       "{'@context': 'http://jajohnst.projectst.si.umich.edu/omekas/api-context',\n",
       " '@id': 'http://jajohnst.projectst.si.umich.edu/omekas/api/items/587',\n",
       " '@type': ['o:Item', 'dctype:Image'],\n",
       " 'o:id': 587,\n",
       " 'o:is_public': True,\n",
       " 'o:owner': {'@id': 'http://jajohnst.projectst.si.umich.edu/omekas/api/users/2',\n",
       "  'o:id': 2},\n",
       " 'o:resource_class': {'@id': 'http://jajohnst.projectst.si.umich.edu/omekas/api/resource_classes/26',\n",
       "  'o:id': 26},\n",
       " 'o:resource_template': None,\n",
       " 'o:thumbnail': None,\n",
       " 'o:title': 'Main public library building, Detroit, Michigan. Cass Gilbert, architect. Postcard by Albertype Co., 1921-1930. Prints & Photographs Division',\n",
       " 'thumbnail_display_urls': {'large': 'http://jajohnst.projectst.si.umich.edu/omekas/files/large/52d9101c9e01f8841edea69d21d2f802c009d16c.jpg',\n",
       "  'medium': 'http://jajohnst.projectst.si.umich.edu/omekas/files/medium/52d9101c9e01f8841edea69d21d2f802c009d16c.jpg',\n",
       "  'square': 'http://jajohnst.projectst.si.umich.edu/omekas/files/square/52d9101c9e01f8841edea69d21d2f802c009d16c.jpg'},\n",
       " 'o:created': {'@value': '2022-12-04T21:03:11+00:00',\n",
       "  '@type': 'http://www.w3.org/2001/XMLSchema#dateTime'},\n",
       " 'o:modified': {'@value': '2022-12-04T21:03:11+00:00',\n",
       "  '@type': 'http://www.w3.org/2001/XMLSchema#dateTime'},\n",
       " 'o:media': [{'@id': 'http://jajohnst.projectst.si.umich.edu/omekas/api/media/603',\n",
       "   'o:id': 603}],\n",
       " 'o:item_set': [{'@id': 'http://jajohnst.projectst.si.umich.edu/omekas/api/item_sets/1',\n",
       "   'o:id': 1},\n",
       "  {'@id': 'http://jajohnst.projectst.si.umich.edu/omekas/api/item_sets/146',\n",
       "   'o:id': 146}],\n",
       " 'o:site': [{'@id': 'http://jajohnst.projectst.si.umich.edu/omekas/api/sites/1',\n",
       "   'o:id': 1},\n",
       "  {'@id': 'http://jajohnst.projectst.si.umich.edu/omekas/api/sites/2',\n",
       "   'o:id': 2}],\n",
       " 'dcterms:title': [{'type': 'literal',\n",
       "   'property_id': 1,\n",
       "   'property_label': 'Title',\n",
       "   'is_public': True,\n",
       "   '@value': 'Main public library building, Detroit, Michigan. Cass Gilbert, architect. Postcard by Albertype Co., 1921-1930. Prints & Photographs Division'}],\n",
       " 'dcterms:description': [{'type': 'literal',\n",
       "   'property_id': 4,\n",
       "   'property_label': 'Description',\n",
       "   'is_public': True,\n",
       "   '@value': 'Photograph shows view of Carnegie library in Detroit, Michigan.'},\n",
       "  {'type': 'literal',\n",
       "   'property_id': 4,\n",
       "   'property_label': 'Description',\n",
       "   'is_public': True,\n",
       "   '@value': 'Title from item.| Includes advertisement for Berry Brothers, varnishes and paint specialties.| Library designed by Cass Gilbert.| Accession box no. PR 06 CN 037 c2'}],\n",
       " 'foaf:img': [{'type': 'literal',\n",
       "   'property_id': 154,\n",
       "   'property_label': 'image',\n",
       "   'is_public': True,\n",
       "   '@value': '/static/portals/free-to-use/public-domain/libraries/libraries-15.jpg'}],\n",
       " 'dcterms:identifier': [{'type': 'literal',\n",
       "   'property_id': 10,\n",
       "   'property_label': 'Identifier',\n",
       "   'is_public': True,\n",
       "   '@value': '/resource/ds.06560/'},\n",
       "  {'type': 'literal',\n",
       "   'property_id': 10,\n",
       "   'property_label': 'Identifier',\n",
       "   'is_public': True,\n",
       "   '@value': 'http://www.loc.gov/item/2014647618/'}],\n",
       " 'dcterms:rights': [{'type': 'literal',\n",
       "   'property_id': 15,\n",
       "   'property_label': 'Rights',\n",
       "   'is_public': True,\n",
       "   '@value': 'No known restrictions on publication.'}],\n",
       " 'mods:recordContentSource': [{'type': 'literal',\n",
       "   'property_id': 252,\n",
       "   'property_label': 'Record Content Source',\n",
       "   'is_public': True,\n",
       "   '@value': 'Library of Congress Prints and Photographs Division Washington, D.C. 20540 USA http://hdl.loc.gov/loc.pnp/pp.print'}],\n",
       " 'dcterms:creator': [{'type': 'literal',\n",
       "   'property_id': 2,\n",
       "   'property_label': 'Creator',\n",
       "   'is_public': True,\n",
       "   '@value': 'Gilbert, Cass, 1859-1934, architect'}],\n",
       " 'dcterms:subject': [{'type': 'literal',\n",
       "   'property_id': 3,\n",
       "   'property_label': 'Subject',\n",
       "   'is_public': True,\n",
       "   '@value': 'Detroit Public Library--Buildings--1920-1930; Berry Brothers--Public relations--1920-1930; Carnegie libraries--Michigan--Detroit--1920-1930; Public libraries--Michigan--Detroit--1920-1930; Michigan--Detroit'}],\n",
       " 'mods:physicalForm': [{'type': 'literal',\n",
       "   'property_id': 278,\n",
       "   'property_label': 'Physical Form',\n",
       "   'is_public': True,\n",
       "   '@value': '1 photograph : hand-colored collotype ; sheet 14 x 21 cm.'}],\n",
       " 'dcterms:alternative': [{'type': 'literal',\n",
       "   'property_id': 17,\n",
       "   'property_label': 'Alternative Title',\n",
       "   'is_public': True,\n",
       "   '@value': 'Main public library building - Detroit'}],\n",
       " 'mods:subjectComplex': [{'type': 'literal',\n",
       "   'property_id': 189,\n",
       "   'property_label': 'Subject - Complex',\n",
       "   'is_public': True,\n",
       "   '@value': 'Detroit Public Library--Buildings--1920-1930; Berry Brothers--Public relations--1920-1930; Carnegie libraries--Michigan--Detroit--1920-1930; Public libraries--Michigan--Detroit--1920-1930; Michigan--Detroit'}]}"
      ]
     },
     "execution_count": 18,
     "metadata": {},
     "output_type": "execute_result"
    }
   ],
   "source": [
    "item_request.json()"
   ]
  },
  {
   "cell_type": "code",
   "execution_count": 19,
   "metadata": {},
   "outputs": [],
   "source": [
    "item_metadata = item_request.json()"
   ]
  },
  {
   "cell_type": "code",
   "execution_count": 20,
   "metadata": {},
   "outputs": [
    {
     "data": {
      "text/plain": [
       "587"
      ]
     },
     "execution_count": 20,
     "metadata": {},
     "output_type": "execute_result"
    }
   ],
   "source": [
    "item_metadata['o:id']"
   ]
  },
  {
   "cell_type": "markdown",
   "metadata": {},
   "source": [
    "## Determine the Context\n",
    "\n",
    "What is the `@context` tag referring to? This is key to understanding \n",
    "the prefixes for many of the elements that you see in these JSON responses."
   ]
  },
  {
   "cell_type": "code",
   "execution_count": 26,
   "metadata": {},
   "outputs": [
    {
     "data": {
      "text/plain": [
       "'http://jajohnst.projectst.si.umich.edu/omekas/api-context'"
      ]
     },
     "execution_count": 26,
     "metadata": {},
     "output_type": "execute_result"
    }
   ],
   "source": [
    "item_request.json()['@context']"
   ]
  },
  {
   "cell_type": "markdown",
   "metadata": {},
   "source": [
    "Omeka S uses JSON-LD. This allows the reference to\n",
    "specific metadata schemes using abbreviated prefixes, \n",
    "akin to the namespace process in XML. For example, in the\n",
    "above records, many terms are prefixed with `o:` or `dcterms:`.\n",
    "The \"context,\" or namespace map for the JSON-LD, \n",
    "shows which \n",
    "namespaces are being used in the site's metadata. \n",
    "This map is available at the above-referenced URL,\n",
    "http://jajohnst.projectst.si.umich.edu/omekas/api-context.\n",
    "\n",
    "To view it:"
   ]
  },
  {
   "cell_type": "code",
   "execution_count": 27,
   "metadata": {},
   "outputs": [],
   "source": [
    "context_r = requests.get('http://jajohnst.projectst.si.umich.edu/omekas/api-context')"
   ]
  },
  {
   "cell_type": "code",
   "execution_count": 28,
   "metadata": {},
   "outputs": [
    {
     "data": {
      "text/plain": [
       "{'@context': {'o': 'http://omeka.org/s/vocabs/o#',\n",
       "  'dcterms': 'http://purl.org/dc/terms/',\n",
       "  'dctype': 'http://purl.org/dc/dcmitype/',\n",
       "  'bibo': 'http://purl.org/ontology/bibo/',\n",
       "  'foaf': 'http://xmlns.com/foaf/0.1/',\n",
       "  'mods': 'http://www.loc.gov/mods/rdf/v1',\n",
       "  'o-cnt': 'http://www.w3.org/2011/content#',\n",
       "  'o-time': 'http://www.w3.org/2006/time#'}}"
      ]
     },
     "execution_count": 28,
     "metadata": {},
     "output_type": "execute_result"
    }
   ],
   "source": [
    "context_r.json()"
   ]
  },
  {
   "cell_type": "markdown",
   "metadata": {},
   "source": [
    "## What item sets are there? \n",
    "\n",
    "### What is an item set? \n",
    "\n",
    "Omeka has three major resource types: `item` (the individual items in the collection, generally as represented by metadata), `item_sets` (the collections of items and they're grouped together), `media` (files like images that represent the content of individual items).\n",
    "\n",
    "### So, can you get a list of the item sets?\n",
    "\n",
    "How can you get a list of what item types are in your instance of Omeka? \n",
    "\n",
    "To request the list, you need to identify for Omeka what sort of resource you want to know about. \n",
    "To do this, add the resource type to the API endpoint request. The pattern \n",
    "for this request is listed at [https://omeka.org/s/docs/developer/api/rest_api/#read](https://omeka.org/s/docs/developer/api/rest_api/#read). "
   ]
  },
  {
   "cell_type": "code",
   "execution_count": 29,
   "metadata": {},
   "outputs": [
    {
     "data": {
      "text/plain": [
       "200"
      ]
     },
     "execution_count": 29,
     "metadata": {},
     "output_type": "execute_result"
    }
   ],
   "source": [
    "r = requests.get(baseURL + 'item_sets', params=omekas_credentials)\n",
    "\n",
    "r.status_code"
   ]
  },
  {
   "cell_type": "code",
   "execution_count": 30,
   "metadata": {},
   "outputs": [
    {
     "name": "stdout",
     "output_type": "stream",
     "text": [
      "1 : Test imported from CSV\n",
      "145 : Shiba Inus\n",
      "146 : Free to Use Libraries\n",
      "148 : Inbox for new Import groups\n",
      "150 : NewItemSetfromAPI\n",
      "151 : NewItemSetfromAPI\n"
     ]
    }
   ],
   "source": [
    "for set in r.json():\n",
    "    print(set['o:id'], ':', set['o:title'])"
   ]
  },
  {
   "cell_type": "markdown",
   "metadata": {},
   "source": [
    "## Determining errors and addressing them\n",
    "\n",
    "This method of querying the API can be frustrating when it doesn't respond in the expected way. Say, for exmaple, that the request is not asking for a valid resource type. Knowing that we don't receive the expected response is enough to indicate an error, but it doesn't explain how to correct the error. In these cases, you can check the `status_code` property of the response, and inspect the Omeka JSON response. \n",
    "\n",
    "Below, the API was queried for `item_set` rather than `item_sets`:"
   ]
  },
  {
   "cell_type": "code",
   "execution_count": 31,
   "metadata": {},
   "outputs": [
    {
     "data": {
      "text/plain": [
       "500"
      ]
     },
     "execution_count": 31,
     "metadata": {},
     "output_type": "execute_result"
    }
   ],
   "source": [
    "r = requests.get(baseURL + 'item_set', params={'key_credential': key_credential, 'key_identity': key_identity})\n",
    "\n",
    "r.status_code"
   ]
  },
  {
   "cell_type": "markdown",
   "metadata": {},
   "source": [
    "The HTTP 500 code indicates a server error, but what caused it? "
   ]
  },
  {
   "cell_type": "markdown",
   "metadata": {},
   "source": [
    "The content of the response can be displayed with the `text` method: "
   ]
  },
  {
   "cell_type": "code",
   "execution_count": 32,
   "metadata": {},
   "outputs": [
    {
     "data": {
      "text/plain": [
       "'{\"errors\":{\"error\":\"The API does not support the \\\\u0022item_set\\\\u0022 resource.\"}}'"
      ]
     },
     "execution_count": 32,
     "metadata": {},
     "output_type": "execute_result"
    }
   ],
   "source": [
    "r.text"
   ]
  },
  {
   "cell_type": "markdown",
   "metadata": {},
   "source": [
    "It looks like JSON, so the `json` method will be more helpful:"
   ]
  },
  {
   "cell_type": "code",
   "execution_count": 33,
   "metadata": {},
   "outputs": [
    {
     "data": {
      "text/plain": [
       "'The API does not support the \"item_set\" resource.'"
      ]
     },
     "execution_count": 33,
     "metadata": {},
     "output_type": "execute_result"
    }
   ],
   "source": [
    "r.json()['errors']['error']"
   ]
  },
  {
   "cell_type": "markdown",
   "metadata": {},
   "source": [
    "After further research in the [Omeka API reference](https://omeka.org/s/docs/developer/api/api_reference/#parameters-for-item_sets), it seems that in this case `item_sets` must be plural. Thus, the following URL will produce a successful response when the appropriate security keys are appended: \n",
    "\n",
    "```\n",
    "http:// + <URL endpoint> + /api/item_sets/ + <additional URL parameters>\n",
    "```"
   ]
  },
  {
   "cell_type": "markdown",
   "metadata": {},
   "source": [
    "## List an Item Set\n",
    "\n",
    "Get the list of all items in a known item set. In the example below, \n",
    "the query asks for ID `146`, but your site's collections will likely have different ID sequences. \n",
    "After it is retrieved, check for the name of the set.  "
   ]
  },
  {
   "cell_type": "code",
   "execution_count": 34,
   "metadata": {},
   "outputs": [],
   "source": [
    "api_resource = 'item_sets'\n",
    "item_set_id = 146"
   ]
  },
  {
   "cell_type": "code",
   "execution_count": 36,
   "metadata": {},
   "outputs": [
    {
     "name": "stdout",
     "output_type": "stream",
     "text": [
      "200\n"
     ]
    }
   ],
   "source": [
    "r = requests.get(baseURL + api_resource + '/' + str(item_set_id), params=omekas_credentials)\n",
    "\n",
    "print(r.status_code)"
   ]
  },
  {
   "cell_type": "code",
   "execution_count": 37,
   "metadata": {},
   "outputs": [
    {
     "data": {
      "text/plain": [
       "'http://jajohnst.projectst.si.umich.edu/omekas/api/item_sets/146?key_identity=JwGow8saqFgZlrmsA5dXwlqVB4XvrhWa&key_credential=FYbJFHUIsEbFjfKDioR70kvuX21le875'"
      ]
     },
     "execution_count": 37,
     "metadata": {},
     "output_type": "execute_result"
    }
   ],
   "source": [
    "r.url"
   ]
  },
  {
   "cell_type": "code",
   "execution_count": 38,
   "metadata": {},
   "outputs": [
    {
     "data": {
      "text/plain": [
       "{'Date': 'Mon, 06 Nov 2023 05:32:41 GMT', 'Server': 'Apache', 'Omeka-S-Version': '3.2.3', 'Keep-Alive': 'timeout=5, max=100', 'Connection': 'Keep-Alive', 'Transfer-Encoding': 'chunked', 'Content-Type': 'application/json; charset=utf-8'}"
      ]
     },
     "execution_count": 38,
     "metadata": {},
     "output_type": "execute_result"
    }
   ],
   "source": [
    "r.headers"
   ]
  },
  {
   "cell_type": "code",
   "execution_count": 39,
   "metadata": {},
   "outputs": [
    {
     "data": {
      "text/plain": [
       "{'@context': 'http://jajohnst.projectst.si.umich.edu/omekas/api-context',\n",
       " '@id': 'http://jajohnst.projectst.si.umich.edu/omekas/api/item_sets/146',\n",
       " '@type': 'o:ItemSet',\n",
       " 'o:id': 146,\n",
       " 'o:is_public': True,\n",
       " 'o:owner': {'@id': 'http://jajohnst.projectst.si.umich.edu/omekas/api/users/1',\n",
       "  'o:id': 1},\n",
       " 'o:resource_class': None,\n",
       " 'o:resource_template': None,\n",
       " 'o:thumbnail': None,\n",
       " 'o:title': 'Free to Use Libraries',\n",
       " 'thumbnail_display_urls': {'large': 'http://jajohnst.projectst.si.umich.edu/omekas/files/large/20fc57b62847f755144857d46104d980e7a42995.jpg',\n",
       "  'medium': 'http://jajohnst.projectst.si.umich.edu/omekas/files/medium/20fc57b62847f755144857d46104d980e7a42995.jpg',\n",
       "  'square': 'http://jajohnst.projectst.si.umich.edu/omekas/files/square/20fc57b62847f755144857d46104d980e7a42995.jpg'},\n",
       " 'o:created': {'@value': '2022-10-19T01:22:10+00:00',\n",
       "  '@type': 'http://www.w3.org/2001/XMLSchema#dateTime'},\n",
       " 'o:modified': {'@value': '2022-10-19T01:22:10+00:00',\n",
       "  '@type': 'http://www.w3.org/2001/XMLSchema#dateTime'},\n",
       " 'o:is_open': False,\n",
       " 'o:items': {'@id': 'http://jajohnst.projectst.si.umich.edu/omekas/api/items?item_set_id=146'},\n",
       " 'dcterms:title': [{'type': 'literal',\n",
       "   'property_id': 1,\n",
       "   'property_label': 'Title',\n",
       "   'is_public': True,\n",
       "   '@value': 'Free to Use Libraries'}]}"
      ]
     },
     "execution_count": 39,
     "metadata": {},
     "output_type": "execute_result"
    }
   ],
   "source": [
    "r.json()"
   ]
  },
  {
   "cell_type": "markdown",
   "metadata": {},
   "source": [
    "What is the name of the set? Look for a `title` element . . . "
   ]
  },
  {
   "cell_type": "code",
   "execution_count": 40,
   "metadata": {},
   "outputs": [
    {
     "name": "stdout",
     "output_type": "stream",
     "text": [
      "Free to Use Libraries\n"
     ]
    }
   ],
   "source": [
    "title = r.json()['o:title']\n",
    "\n",
    "print(title)"
   ]
  },
  {
   "cell_type": "markdown",
   "metadata": {},
   "source": [
    "## List items in an item set\n",
    "\n",
    "How can you get a list of all the items in a particular set? \n",
    "Continuing with the previous example, let's do this for item set `146`. \n",
    "\n",
    "Now, prepare the information for the API request. This requires changing\n",
    "the resource type for the endpoint and updating the parameters dictionary \n",
    "to add all the required variables for the request. (The resource type is changed to `item` for the endpoing, and the `item_set_id` is added to the parameters.) "
   ]
  },
  {
   "cell_type": "code",
   "execution_count": 41,
   "metadata": {},
   "outputs": [],
   "source": [
    "api_resource = 'items'\n",
    "omekas_credentials['item_set_id'] = 146"
   ]
  },
  {
   "cell_type": "code",
   "execution_count": 42,
   "metadata": {},
   "outputs": [],
   "source": [
    "r = requests.get(baseURL + api_resource, params=omekas_credentials)"
   ]
  },
  {
   "cell_type": "code",
   "execution_count": 43,
   "metadata": {},
   "outputs": [
    {
     "data": {
      "text/plain": [
       "200"
      ]
     },
     "execution_count": 43,
     "metadata": {},
     "output_type": "execute_result"
    }
   ],
   "source": [
    "r.status_code"
   ]
  },
  {
   "cell_type": "code",
   "execution_count": 44,
   "metadata": {},
   "outputs": [
    {
     "data": {
      "text/plain": [
       "'http://jajohnst.projectst.si.umich.edu/omekas/api/items?key_identity=JwGow8saqFgZlrmsA5dXwlqVB4XvrhWa&key_credential=FYbJFHUIsEbFjfKDioR70kvuX21le875&item_set_id=146'"
      ]
     },
     "execution_count": 44,
     "metadata": {},
     "output_type": "execute_result"
    }
   ],
   "source": [
    "r.url"
   ]
  },
  {
   "cell_type": "code",
   "execution_count": 45,
   "metadata": {},
   "outputs": [
    {
     "name": "stdout",
     "output_type": "stream",
     "text": [
      "78 Carnegie Library, Cordele, Georgia\n",
      "79 Carnegie Library, Sheldon, Iowa\n",
      "80 Curb service 10,000 current books - convenient, free, time saving : Chicago Public Library, Randolph St. corridor.\n",
      "81 For greater knowledge on more subjects use your library more often\n",
      "82 [Cossitt Library, Memphis, Tenn.]\n",
      "83 Little Rock Public Library, Little Rock, Ark.\n",
      "84 Buffalo, N.Y. -  Public library - children's room\n",
      "85 Main public library building - Detroit\n",
      "86 Newspaper reading room of public library. Omaha, Nebraska\n",
      "87 Public library in the southwestern section of Mississippi, in the piney woods\n",
      "88 Library tent at the FSA (Farm Security Administration) mobile camp for migratory farm workers. Odell, Oregon. The girls working in the library receive credit in the Junior Campers League for work in the library\n",
      "89 Daytona Beach, Florida. Bethune-Cookman College. Students in the library reading room\n",
      "90 Libraries, Washington D.C.\n",
      "91 Public Library, Salt Lake City, Utah\n",
      "92 George Peabody Library, formerly the Library of the Peabody Institute of the City of Baltimore, is part of the Johns Hopkins Sheridan Libraries. Baltimore, Maryland\n",
      "93 Interior of the Hutzler Reading room located in Gilman Hall, on the Johns Hopkins University campus in Baltimore, Maryland\n",
      "94 Norfolk Library, Norfolk, Connecticut\n",
      "112 Patterson Park Branch of the Enoch Pratt Free Library System located on the eastern side of Library Square, Baltimore, Maryland\n",
      "113 Handley Library, Winchester, Virginia\n",
      "114 Tower of the Central Library, Los Angeles, California\n",
      "115 The easily identifiable (thanks to its huge artistic sign) downtown J. Erik Jonsson Central Library, across from City Hall\n",
      "116 The public library in Shepherdstown, West Virginia\n",
      "117 Public library building in the town of Antonito in Conejos County, Colorado, near the New Mexico border\n",
      "118 An upright polar bear in Cincinnati, Ohio not at the zoo, since it's stuffed, or at the city's Museum Center, which owns the specimen, but at Cincinnati's main library\n",
      "119 Historic library in the North Carolina Capitol in Raleigh\n"
     ]
    }
   ],
   "source": [
    "for item in r.json():\n",
    "    print(item['o:id'], item['o:title'])"
   ]
  },
  {
   "cell_type": "markdown",
   "metadata": {},
   "source": [
    "## Saving the item information\n",
    "\n",
    "The Omeka S API can be used to modify or update records, but because of the way that it makes such changes, it is useful to download and store locally the information. \n",
    "This should generally serve as a temporary local data store, which can be deleted later once updates are completed. \n",
    "So, create a local copy of the items.\n",
    "\n",
    "### First, create a list of the desired item IDs\n",
    "\n",
    "The below uses a list comprehension, which is a more compact way to create a list. In the below, the append function is assumed for each result of the iteration in the `for` loop. "
   ]
  },
  {
   "cell_type": "code",
   "execution_count": 46,
   "metadata": {},
   "outputs": [],
   "source": [
    "item_ids = [item['o:id'] for item in r.json()]"
   ]
  },
  {
   "cell_type": "markdown",
   "metadata": {},
   "source": [
    "Nota bene (NB):\n",
    "\n",
    "The above could also be written like this:\n",
    "\n",
    "```python\n",
    "item_ids = list()\n",
    "\n",
    "for item in r.json():\n",
    "    item_ids.append(item['o:id'])\n",
    "```\n",
    "\n",
    "However the list is created, you should be able to confirm it is a list (and in this case I know it has, or at least expect it to have, 25 items)."
   ]
  },
  {
   "cell_type": "code",
   "execution_count": 47,
   "metadata": {},
   "outputs": [
    {
     "name": "stdout",
     "output_type": "stream",
     "text": [
      "item_ids is a <class 'list'> with 25 items.\n"
     ]
    }
   ],
   "source": [
    "print(f'item_ids is a {type(item_ids)} with {len(item_ids)} items.')"
   ]
  },
  {
   "cell_type": "markdown",
   "metadata": {},
   "source": [
    "### Second, retrieve and save the data for each item\n",
    "\n",
    "This uses the previously created list as a source for the desired items. \n",
    "Using the API, it is possible to request the metadata for each item. \n",
    "Later, this will be the source for our changes or updates. \n",
    "\n",
    "For this step, construct an API endpoint that will query each item:"
   ]
  },
  {
   "cell_type": "code",
   "execution_count": 50,
   "metadata": {},
   "outputs": [],
   "source": [
    "api_resource = 'items'\n",
    "\n",
    "# test request\n",
    "r_test_item = requests.get(baseURL + api_resource + '/' + str(item_ids[0]), params=omekas_credentials)"
   ]
  },
  {
   "cell_type": "code",
   "execution_count": 51,
   "metadata": {},
   "outputs": [
    {
     "data": {
      "text/plain": [
       "200"
      ]
     },
     "execution_count": 51,
     "metadata": {},
     "output_type": "execute_result"
    }
   ],
   "source": [
    "r_test_item.status_code"
   ]
  },
  {
   "cell_type": "code",
   "execution_count": 52,
   "metadata": {},
   "outputs": [
    {
     "data": {
      "text/plain": [
       "{'@context': 'http://jajohnst.projectst.si.umich.edu/omekas/api-context',\n",
       " '@id': 'http://jajohnst.projectst.si.umich.edu/omekas/api/items/78',\n",
       " '@type': ['o:Item', 'dctype:Image'],\n",
       " 'o:id': 78,\n",
       " 'o:is_public': True,\n",
       " 'o:owner': {'@id': 'http://jajohnst.projectst.si.umich.edu/omekas/api/users/2',\n",
       "  'o:id': 2},\n",
       " 'o:resource_class': {'@id': 'http://jajohnst.projectst.si.umich.edu/omekas/api/resource_classes/26',\n",
       "  'o:id': 26},\n",
       " 'o:resource_template': {'@id': 'http://jajohnst.projectst.si.umich.edu/omekas/api/resource_templates/2',\n",
       "  'o:id': 2},\n",
       " 'o:thumbnail': None,\n",
       " 'o:title': 'Carnegie Library, Cordele, Georgia',\n",
       " 'thumbnail_display_urls': {'large': 'http://jajohnst.projectst.si.umich.edu/omekas/files/large/20fc57b62847f755144857d46104d980e7a42995.jpg',\n",
       "  'medium': 'http://jajohnst.projectst.si.umich.edu/omekas/files/medium/20fc57b62847f755144857d46104d980e7a42995.jpg',\n",
       "  'square': 'http://jajohnst.projectst.si.umich.edu/omekas/files/square/20fc57b62847f755144857d46104d980e7a42995.jpg'},\n",
       " 'o:created': {'@value': '2022-09-12T16:33:17+00:00',\n",
       "  '@type': 'http://www.w3.org/2001/XMLSchema#dateTime'},\n",
       " 'o:modified': {'@value': '2022-10-19T01:23:21+00:00',\n",
       "  '@type': 'http://www.w3.org/2001/XMLSchema#dateTime'},\n",
       " 'o:media': [{'@id': 'http://jajohnst.projectst.si.umich.edu/omekas/api/media/95',\n",
       "   'o:id': 95}],\n",
       " 'o:item_set': [{'@id': 'http://jajohnst.projectst.si.umich.edu/omekas/api/item_sets/1',\n",
       "   'o:id': 1},\n",
       "  {'@id': 'http://jajohnst.projectst.si.umich.edu/omekas/api/item_sets/146',\n",
       "   'o:id': 146}],\n",
       " 'o:site': [{'@id': 'http://jajohnst.projectst.si.umich.edu/omekas/api/sites/1',\n",
       "   'o:id': 1},\n",
       "  {'@id': 'http://jajohnst.projectst.si.umich.edu/omekas/api/sites/2',\n",
       "   'o:id': 2}],\n",
       " 'dcterms:title': [{'type': 'literal',\n",
       "   'property_id': 1,\n",
       "   'property_label': 'Title',\n",
       "   'is_public': True,\n",
       "   '@value': 'Carnegie Library, Cordele, Georgia'}],\n",
       " 'dcterms:dateSubmitted': [{'type': 'literal',\n",
       "   'property_id': 45,\n",
       "   'property_label': 'Date Submitted',\n",
       "   'is_public': True,\n",
       "   '@value': '2022-09-11'}],\n",
       " 'dcterms:format': [{'type': 'literal',\n",
       "   'property_id': 9,\n",
       "   'property_label': 'Format',\n",
       "   'is_public': True,\n",
       "   '@value': 'Image'}],\n",
       " 'dcterms:identifier': [{'type': 'literal',\n",
       "   'property_id': 10,\n",
       "   'property_label': 'Identifier',\n",
       "   'is_public': True,\n",
       "   '@value': '91787443'},\n",
       "  {'type': 'literal',\n",
       "   'property_id': 10,\n",
       "   'property_label': 'Identifier',\n",
       "   'is_public': True,\n",
       "   '@value': 'https://www.loc.gov/item/91787443/'}],\n",
       " 'dcterms:date': [{'type': 'literal',\n",
       "   'property_id': 7,\n",
       "   'property_label': 'Date',\n",
       "   'is_public': True,\n",
       "   '@value': '1916'}],\n",
       " 'dcterms:isFormatOf': [{'type': 'literal',\n",
       "   'property_id': 37,\n",
       "   'property_label': 'Is Format Of',\n",
       "   'is_public': True,\n",
       "   '@value': \"{'photo, print, drawing': 'https://www.loc.gov/search/?fa=original_format:photo,+print,+drawing&fo=json'}\"}],\n",
       " 'dcterms:rights': [{'type': 'literal',\n",
       "   'property_id': 15,\n",
       "   'property_label': 'Rights',\n",
       "   'is_public': True,\n",
       "   '@value': 'No known restrictions on publication.'}],\n",
       " 'dcterms:created': [{'type': 'literal',\n",
       "   'property_id': 20,\n",
       "   'property_label': 'Date Created',\n",
       "   'is_public': True,\n",
       "   '@value': '1916'}],\n",
       " 'mods:physicalForm': [{'type': 'literal',\n",
       "   'property_id': 278,\n",
       "   'property_label': 'Physical Form',\n",
       "   'is_public': True,\n",
       "   '@value': \"{'photo, print, drawing': 'https://www.loc.gov/search/?fa=original_format:photo,+print,+drawing&fo=json'}\"}]}"
      ]
     },
     "execution_count": 52,
     "metadata": {},
     "output_type": "execute_result"
    }
   ],
   "source": [
    "r_test_item.json()"
   ]
  },
  {
   "cell_type": "markdown",
   "metadata": {},
   "source": [
    "This looks like it is successfully retrieving each item, so to save them locally, it should be possible to retrieve each item, append it to a list, and save the list as a local JSON file. \n",
    "\n",
    "Make a list called `records` to store these items:"
   ]
  },
  {
   "cell_type": "code",
   "execution_count": 54,
   "metadata": {},
   "outputs": [
    {
     "name": "stdout",
     "output_type": "stream",
     "text": [
      "retrieving http://jajohnst.projectst.si.umich.edu/omekas/api/items/78?key_identity=JwGow8saqFgZlrmsA5dXwlqVB4XvrhWa&key_credential=FYbJFHUIsEbFjfKDioR70kvuX21le875&item_set_id=146\n",
      "retrieving http://jajohnst.projectst.si.umich.edu/omekas/api/items/79?key_identity=JwGow8saqFgZlrmsA5dXwlqVB4XvrhWa&key_credential=FYbJFHUIsEbFjfKDioR70kvuX21le875&item_set_id=146\n",
      "retrieving http://jajohnst.projectst.si.umich.edu/omekas/api/items/80?key_identity=JwGow8saqFgZlrmsA5dXwlqVB4XvrhWa&key_credential=FYbJFHUIsEbFjfKDioR70kvuX21le875&item_set_id=146\n",
      "retrieving http://jajohnst.projectst.si.umich.edu/omekas/api/items/81?key_identity=JwGow8saqFgZlrmsA5dXwlqVB4XvrhWa&key_credential=FYbJFHUIsEbFjfKDioR70kvuX21le875&item_set_id=146\n",
      "retrieving http://jajohnst.projectst.si.umich.edu/omekas/api/items/82?key_identity=JwGow8saqFgZlrmsA5dXwlqVB4XvrhWa&key_credential=FYbJFHUIsEbFjfKDioR70kvuX21le875&item_set_id=146\n",
      "retrieving http://jajohnst.projectst.si.umich.edu/omekas/api/items/83?key_identity=JwGow8saqFgZlrmsA5dXwlqVB4XvrhWa&key_credential=FYbJFHUIsEbFjfKDioR70kvuX21le875&item_set_id=146\n",
      "retrieving http://jajohnst.projectst.si.umich.edu/omekas/api/items/84?key_identity=JwGow8saqFgZlrmsA5dXwlqVB4XvrhWa&key_credential=FYbJFHUIsEbFjfKDioR70kvuX21le875&item_set_id=146\n",
      "retrieving http://jajohnst.projectst.si.umich.edu/omekas/api/items/85?key_identity=JwGow8saqFgZlrmsA5dXwlqVB4XvrhWa&key_credential=FYbJFHUIsEbFjfKDioR70kvuX21le875&item_set_id=146\n",
      "retrieving http://jajohnst.projectst.si.umich.edu/omekas/api/items/86?key_identity=JwGow8saqFgZlrmsA5dXwlqVB4XvrhWa&key_credential=FYbJFHUIsEbFjfKDioR70kvuX21le875&item_set_id=146\n",
      "retrieving http://jajohnst.projectst.si.umich.edu/omekas/api/items/87?key_identity=JwGow8saqFgZlrmsA5dXwlqVB4XvrhWa&key_credential=FYbJFHUIsEbFjfKDioR70kvuX21le875&item_set_id=146\n",
      "retrieving http://jajohnst.projectst.si.umich.edu/omekas/api/items/88?key_identity=JwGow8saqFgZlrmsA5dXwlqVB4XvrhWa&key_credential=FYbJFHUIsEbFjfKDioR70kvuX21le875&item_set_id=146\n",
      "retrieving http://jajohnst.projectst.si.umich.edu/omekas/api/items/89?key_identity=JwGow8saqFgZlrmsA5dXwlqVB4XvrhWa&key_credential=FYbJFHUIsEbFjfKDioR70kvuX21le875&item_set_id=146\n",
      "retrieving http://jajohnst.projectst.si.umich.edu/omekas/api/items/90?key_identity=JwGow8saqFgZlrmsA5dXwlqVB4XvrhWa&key_credential=FYbJFHUIsEbFjfKDioR70kvuX21le875&item_set_id=146\n",
      "retrieving http://jajohnst.projectst.si.umich.edu/omekas/api/items/91?key_identity=JwGow8saqFgZlrmsA5dXwlqVB4XvrhWa&key_credential=FYbJFHUIsEbFjfKDioR70kvuX21le875&item_set_id=146\n",
      "retrieving http://jajohnst.projectst.si.umich.edu/omekas/api/items/92?key_identity=JwGow8saqFgZlrmsA5dXwlqVB4XvrhWa&key_credential=FYbJFHUIsEbFjfKDioR70kvuX21le875&item_set_id=146\n",
      "retrieving http://jajohnst.projectst.si.umich.edu/omekas/api/items/93?key_identity=JwGow8saqFgZlrmsA5dXwlqVB4XvrhWa&key_credential=FYbJFHUIsEbFjfKDioR70kvuX21le875&item_set_id=146\n",
      "retrieving http://jajohnst.projectst.si.umich.edu/omekas/api/items/94?key_identity=JwGow8saqFgZlrmsA5dXwlqVB4XvrhWa&key_credential=FYbJFHUIsEbFjfKDioR70kvuX21le875&item_set_id=146\n",
      "retrieving http://jajohnst.projectst.si.umich.edu/omekas/api/items/112?key_identity=JwGow8saqFgZlrmsA5dXwlqVB4XvrhWa&key_credential=FYbJFHUIsEbFjfKDioR70kvuX21le875&item_set_id=146\n",
      "retrieving http://jajohnst.projectst.si.umich.edu/omekas/api/items/113?key_identity=JwGow8saqFgZlrmsA5dXwlqVB4XvrhWa&key_credential=FYbJFHUIsEbFjfKDioR70kvuX21le875&item_set_id=146\n",
      "retrieving http://jajohnst.projectst.si.umich.edu/omekas/api/items/114?key_identity=JwGow8saqFgZlrmsA5dXwlqVB4XvrhWa&key_credential=FYbJFHUIsEbFjfKDioR70kvuX21le875&item_set_id=146\n",
      "retrieving http://jajohnst.projectst.si.umich.edu/omekas/api/items/115?key_identity=JwGow8saqFgZlrmsA5dXwlqVB4XvrhWa&key_credential=FYbJFHUIsEbFjfKDioR70kvuX21le875&item_set_id=146\n",
      "retrieving http://jajohnst.projectst.si.umich.edu/omekas/api/items/116?key_identity=JwGow8saqFgZlrmsA5dXwlqVB4XvrhWa&key_credential=FYbJFHUIsEbFjfKDioR70kvuX21le875&item_set_id=146\n",
      "retrieving http://jajohnst.projectst.si.umich.edu/omekas/api/items/117?key_identity=JwGow8saqFgZlrmsA5dXwlqVB4XvrhWa&key_credential=FYbJFHUIsEbFjfKDioR70kvuX21le875&item_set_id=146\n",
      "retrieving http://jajohnst.projectst.si.umich.edu/omekas/api/items/118?key_identity=JwGow8saqFgZlrmsA5dXwlqVB4XvrhWa&key_credential=FYbJFHUIsEbFjfKDioR70kvuX21le875&item_set_id=146\n",
      "retrieving http://jajohnst.projectst.si.umich.edu/omekas/api/items/119?key_identity=JwGow8saqFgZlrmsA5dXwlqVB4XvrhWa&key_credential=FYbJFHUIsEbFjfKDioR70kvuX21le875&item_set_id=146\n"
     ]
    }
   ],
   "source": [
    "records = list()\n",
    "\n",
    "for item in item_ids:\n",
    "    item = requests.get(baseURL + 'items/' + str(item), params=omekas_credentials)\n",
    "    if item.status_code != 200:\n",
    "        print(f'Error: your request for {str(item)} was not successful. HTML response code: {item.status_code}')\n",
    "        continue\n",
    "    else:\n",
    "        print('retrieving', item.url)\n",
    "        item_metadata = item.json()\n",
    "        records.append(item_metadata)"
   ]
  },
  {
   "cell_type": "code",
   "execution_count": 55,
   "metadata": {},
   "outputs": [
    {
     "data": {
      "text/plain": [
       "25"
      ]
     },
     "execution_count": 55,
     "metadata": {},
     "output_type": "execute_result"
    }
   ],
   "source": [
    "len(records)"
   ]
  },
  {
   "cell_type": "code",
   "execution_count": 56,
   "metadata": {},
   "outputs": [
    {
     "name": "stdout",
     "output_type": "stream",
     "text": [
      "78\n",
      "79\n",
      "80\n",
      "81\n",
      "82\n",
      "83\n",
      "84\n",
      "85\n",
      "86\n",
      "87\n",
      "88\n",
      "89\n",
      "90\n",
      "91\n",
      "92\n",
      "93\n",
      "94\n",
      "112\n",
      "113\n",
      "114\n",
      "115\n",
      "116\n",
      "117\n",
      "118\n",
      "119\n"
     ]
    }
   ],
   "source": [
    "for item in records:\n",
    "    print(item['o:id'])"
   ]
  },
  {
   "cell_type": "markdown",
   "metadata": {},
   "source": [
    "Great. Now, write the metadata to a file."
   ]
  },
  {
   "cell_type": "code",
   "execution_count": 57,
   "metadata": {},
   "outputs": [],
   "source": [
    "fname = api_resource + '_set_' + str(item_set_id) + '.json'"
   ]
  },
  {
   "cell_type": "code",
   "execution_count": 58,
   "metadata": {},
   "outputs": [
    {
     "name": "stdout",
     "output_type": "stream",
     "text": [
      "wrote 25 items to items_set_146.json\n"
     ]
    }
   ],
   "source": [
    "with open(fname, 'w', encoding='utf-8') as f:\n",
    "    json.dump(records, f, indent=2)\n",
    "    print(f'wrote {len(item_metadata)} items to {fname}')"
   ]
  },
  {
   "cell_type": "markdown",
   "metadata": {},
   "source": [
    "To explore this data locally, open and parse that file using the `json` module.\n",
    "\n",
    "Or, if you are feeling ambitious, you may want to start exploring the `pyld` \n",
    "module, which provides some additional functions for working with JSON-LD. "
   ]
  },
  {
   "cell_type": "markdown",
   "metadata": {},
   "source": [
    "## Making a Change using the API\n",
    "\n",
    "Your user will require update permissions to do this. "
   ]
  },
  {
   "cell_type": "code",
   "execution_count": 62,
   "metadata": {},
   "outputs": [],
   "source": [
    "modification = open('data/json/omeka-s-title-example.json')"
   ]
  },
  {
   "cell_type": "code",
   "execution_count": 63,
   "metadata": {},
   "outputs": [],
   "source": [
    "modification.close()"
   ]
  }
 ],
 "metadata": {
  "kernelspec": {
   "display_name": "Python 3",
   "language": "python",
   "name": "python3"
  },
  "language_info": {
   "codemirror_mode": {
    "name": "ipython",
    "version": 3
   },
   "file_extension": ".py",
   "mimetype": "text/x-python",
   "name": "python",
   "nbconvert_exporter": "python",
   "pygments_lexer": "ipython3",
   "version": "3.9.18"
  },
  "orig_nbformat": 4
 },
 "nbformat": 4,
 "nbformat_minor": 2
}
