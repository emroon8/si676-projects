{
 "cells": [
  {
   "cell_type": "markdown",
   "metadata": {},
   "source": [
    "# XML: XPath and EAD examples\n",
    "\n",
    "Some additional examples using XPath to make queries to sample EAD documents stored as XML."
   ]
  },
  {
   "cell_type": "code",
   "execution_count": 1,
   "metadata": {},
   "outputs": [],
   "source": [
    "import xml.etree.ElementTree as ET"
   ]
  },
  {
   "cell_type": "markdown",
   "metadata": {},
   "source": [
    "The lxml library allows for greater use of XPath and also pretty printing. The lxml library also has some useful functions like `.subElement()` and `.getparent()`. So let's import lxml too:"
   ]
  },
  {
   "cell_type": "code",
   "execution_count": 2,
   "metadata": {},
   "outputs": [],
   "source": [
    "# depending on your VS Code setup or what python you're using, you may need to install lxml\n",
    "from lxml import etree"
   ]
  },
  {
   "cell_type": "code",
   "execution_count": 4,
   "metadata": {},
   "outputs": [],
   "source": [
    "tree = ET.parse('data/xml/superior-papers-complete.xml')\n",
    "root = tree.getroot()"
   ]
  },
  {
   "cell_type": "code",
   "execution_count": 5,
   "metadata": {},
   "outputs": [],
   "source": [
    "ns = {\n",
    "    'ead': 'http://ead3.archivists.org/schema/'\n",
    "}"
   ]
  },
  {
   "cell_type": "markdown",
   "metadata": {},
   "source": [
    "You can double check to see that `root` is an Element type. \n",
    "And, the name of the element (in this case it is the root `<ead></ead>` element): "
   ]
  },
  {
   "cell_type": "code",
   "execution_count": 11,
   "metadata": {},
   "outputs": [
    {
     "data": {
      "text/plain": [
       "'{http://ead3.archivists.org/schema/}ead'"
      ]
     },
     "execution_count": 11,
     "metadata": {},
     "output_type": "execute_result"
    }
   ],
   "source": [
    "root.tag"
   ]
  },
  {
   "cell_type": "markdown",
   "metadata": {},
   "source": [
    "Use a basic loop to see the children of the selected element \n",
    "(in this case any subelements of the `<ead></ead>` element):"
   ]
  },
  {
   "cell_type": "code",
   "execution_count": 6,
   "metadata": {},
   "outputs": [
    {
     "name": "stdout",
     "output_type": "stream",
     "text": [
      "{http://ead3.archivists.org/schema/}control\n",
      "{http://ead3.archivists.org/schema/}archdesc\n"
     ]
    }
   ],
   "source": [
    "for element in root:\n",
    "    print(element.tag)"
   ]
  },
  {
   "cell_type": "markdown",
   "metadata": {},
   "source": [
    "Use the `.iter()` function to look for all elements in the tree:"
   ]
  },
  {
   "cell_type": "code",
   "execution_count": 8,
   "metadata": {},
   "outputs": [
    {
     "name": "stdout",
     "output_type": "stream",
     "text": [
      "{http://ead3.archivists.org/schema/}ead\n",
      "{http://ead3.archivists.org/schema/}control\n",
      "{http://ead3.archivists.org/schema/}recordid\n",
      "{http://ead3.archivists.org/schema/}filedesc\n",
      "{http://ead3.archivists.org/schema/}titlestmt\n",
      "{http://ead3.archivists.org/schema/}titleproper\n",
      "{http://ead3.archivists.org/schema/}titleproper\n",
      "{http://ead3.archivists.org/schema/}author\n",
      "{http://ead3.archivists.org/schema/}publicationstmt\n",
      "{http://ead3.archivists.org/schema/}publisher\n",
      "{http://ead3.archivists.org/schema/}address\n",
      "{http://ead3.archivists.org/schema/}addressline\n",
      "{http://ead3.archivists.org/schema/}addressline\n",
      "{http://ead3.archivists.org/schema/}addressline\n",
      "{http://ead3.archivists.org/schema/}date\n",
      "{http://ead3.archivists.org/schema/}num\n",
      "{http://ead3.archivists.org/schema/}p\n",
      "{http://ead3.archivists.org/schema/}maintenancestatus\n",
      "{http://ead3.archivists.org/schema/}maintenanceagency\n",
      "{http://ead3.archivists.org/schema/}agencycode\n",
      "{http://ead3.archivists.org/schema/}agencyname\n",
      "{http://ead3.archivists.org/schema/}languagedeclaration\n",
      "{http://ead3.archivists.org/schema/}language\n",
      "{http://ead3.archivists.org/schema/}script\n",
      "{http://ead3.archivists.org/schema/}descriptivenote\n",
      "{http://ead3.archivists.org/schema/}p\n",
      "{http://ead3.archivists.org/schema/}conventiondeclaration\n",
      "{http://ead3.archivists.org/schema/}abbr\n",
      "{http://ead3.archivists.org/schema/}citation\n",
      "{http://ead3.archivists.org/schema/}localcontrol\n",
      "{http://ead3.archivists.org/schema/}term\n",
      "{http://ead3.archivists.org/schema/}maintenancehistory\n",
      "{http://ead3.archivists.org/schema/}maintenanceevent\n",
      "{http://ead3.archivists.org/schema/}eventtype\n",
      "{http://ead3.archivists.org/schema/}eventdatetime\n",
      "{http://ead3.archivists.org/schema/}agenttype\n",
      "{http://ead3.archivists.org/schema/}agent\n",
      "{http://ead3.archivists.org/schema/}eventdescription\n",
      "{http://ead3.archivists.org/schema/}archdesc\n",
      "{http://ead3.archivists.org/schema/}did\n",
      "{http://ead3.archivists.org/schema/}unittitle\n",
      "{http://ead3.archivists.org/schema/}unitid\n",
      "{http://ead3.archivists.org/schema/}unitid\n",
      "{http://ead3.archivists.org/schema/}repository\n",
      "{http://ead3.archivists.org/schema/}corpname\n",
      "{http://ead3.archivists.org/schema/}part\n",
      "{http://ead3.archivists.org/schema/}langmaterial\n",
      "{http://ead3.archivists.org/schema/}language\n",
      "{http://ead3.archivists.org/schema/}physdescstructured\n",
      "{http://ead3.archivists.org/schema/}quantity\n",
      "{http://ead3.archivists.org/schema/}unittype\n",
      "{http://ead3.archivists.org/schema/}physfacet\n",
      "{http://ead3.archivists.org/schema/}dimensions\n",
      "{http://ead3.archivists.org/schema/}physdesc\n",
      "{http://ead3.archivists.org/schema/}unitdatestructured\n",
      "{http://ead3.archivists.org/schema/}daterange\n",
      "{http://ead3.archivists.org/schema/}fromdate\n",
      "{http://ead3.archivists.org/schema/}todate\n",
      "{http://ead3.archivists.org/schema/}unitdate\n",
      "{http://ead3.archivists.org/schema/}controlaccess\n",
      "{http://ead3.archivists.org/schema/}subject\n",
      "{http://ead3.archivists.org/schema/}part\n",
      "{http://ead3.archivists.org/schema/}geogname\n",
      "{http://ead3.archivists.org/schema/}part\n",
      "{http://ead3.archivists.org/schema/}dsc\n",
      "{http://ead3.archivists.org/schema/}c\n",
      "{http://ead3.archivists.org/schema/}did\n",
      "{http://ead3.archivists.org/schema/}unittitle\n",
      "{http://ead3.archivists.org/schema/}unitid\n",
      "{http://ead3.archivists.org/schema/}unitid\n",
      "{http://ead3.archivists.org/schema/}unitdatestructured\n",
      "{http://ead3.archivists.org/schema/}daterange\n",
      "{http://ead3.archivists.org/schema/}fromdate\n",
      "{http://ead3.archivists.org/schema/}todate\n",
      "{http://ead3.archivists.org/schema/}c\n",
      "{http://ead3.archivists.org/schema/}did\n",
      "{http://ead3.archivists.org/schema/}unittitle\n",
      "{http://ead3.archivists.org/schema/}unitid\n",
      "{http://ead3.archivists.org/schema/}unitid\n",
      "{http://ead3.archivists.org/schema/}unitdatestructured\n",
      "{http://ead3.archivists.org/schema/}daterange\n",
      "{http://ead3.archivists.org/schema/}fromdate\n",
      "{http://ead3.archivists.org/schema/}todate\n",
      "{http://ead3.archivists.org/schema/}c\n",
      "{http://ead3.archivists.org/schema/}did\n",
      "{http://ead3.archivists.org/schema/}unittitle\n",
      "{http://ead3.archivists.org/schema/}unitid\n",
      "{http://ead3.archivists.org/schema/}unitid\n",
      "{http://ead3.archivists.org/schema/}scopecontent\n",
      "{http://ead3.archivists.org/schema/}head\n",
      "{http://ead3.archivists.org/schema/}p\n",
      "{http://ead3.archivists.org/schema/}c\n",
      "{http://ead3.archivists.org/schema/}did\n",
      "{http://ead3.archivists.org/schema/}unittitle\n",
      "{http://ead3.archivists.org/schema/}unitid\n",
      "{http://ead3.archivists.org/schema/}unitid\n",
      "{http://ead3.archivists.org/schema/}unitdatestructured\n",
      "{http://ead3.archivists.org/schema/}datesingle\n"
     ]
    }
   ],
   "source": [
    "for element in root.iter():\n",
    "    print(element.tag)"
   ]
  },
  {
   "cell_type": "markdown",
   "metadata": {},
   "source": [
    "Or you can combine these two to look at the two main elements (`control` and `archdesc`), then show all of the subelements of those two main sections:"
   ]
  },
  {
   "cell_type": "code",
   "execution_count": 12,
   "metadata": {},
   "outputs": [
    {
     "name": "stdout",
     "output_type": "stream",
     "text": [
      "{http://ead3.archivists.org/schema/}control\n",
      "   {http://ead3.archivists.org/schema/}control {'countryencoding': 'iso3166-1', 'dateencoding': 'iso8601', 'langencoding': 'iso639-2b', 'relatedencoding': 'marc', 'repositoryencoding': 'iso15511', 'scriptencoding': 'iso15924'}\n",
      "   {http://ead3.archivists.org/schema/}recordid {'instanceurl': 'Reading Room & website'}\n",
      "   {http://ead3.archivists.org/schema/}filedesc {}\n",
      "   {http://ead3.archivists.org/schema/}titlestmt {}\n",
      "   {http://ead3.archivists.org/schema/}titleproper {}\n",
      "   {http://ead3.archivists.org/schema/}titleproper {'localtype': 'filing'}\n",
      "   {http://ead3.archivists.org/schema/}author {}\n",
      "   {http://ead3.archivists.org/schema/}publicationstmt {}\n",
      "   {http://ead3.archivists.org/schema/}publisher {}\n",
      "   {http://ead3.archivists.org/schema/}address {}\n",
      "   {http://ead3.archivists.org/schema/}addressline {}\n",
      "   {http://ead3.archivists.org/schema/}addressline {}\n",
      "   {http://ead3.archivists.org/schema/}addressline {'localtype': 'email'}\n",
      "   {http://ead3.archivists.org/schema/}date {}\n",
      "   {http://ead3.archivists.org/schema/}num {}\n",
      "   {http://ead3.archivists.org/schema/}p {}\n",
      "   {http://ead3.archivists.org/schema/}maintenancestatus {'value': 'derived'}\n",
      "   {http://ead3.archivists.org/schema/}maintenanceagency {'countrycode': 'US'}\n",
      "   {http://ead3.archivists.org/schema/}agencycode {}\n",
      "   {http://ead3.archivists.org/schema/}agencyname {}\n",
      "   {http://ead3.archivists.org/schema/}languagedeclaration {}\n",
      "   {http://ead3.archivists.org/schema/}language {'langcode': 'eng'}\n",
      "   {http://ead3.archivists.org/schema/}script {'scriptcode': 'Zyyy'}\n",
      "   {http://ead3.archivists.org/schema/}descriptivenote {}\n",
      "   {http://ead3.archivists.org/schema/}p {}\n",
      "   {http://ead3.archivists.org/schema/}conventiondeclaration {}\n",
      "   {http://ead3.archivists.org/schema/}abbr {}\n",
      "   {http://ead3.archivists.org/schema/}citation {}\n",
      "   {http://ead3.archivists.org/schema/}localcontrol {'localtype': 'findaidstatus'}\n",
      "   {http://ead3.archivists.org/schema/}term {}\n",
      "   {http://ead3.archivists.org/schema/}maintenancehistory {}\n",
      "   {http://ead3.archivists.org/schema/}maintenanceevent {}\n",
      "   {http://ead3.archivists.org/schema/}eventtype {'value': 'derived'}\n",
      "   {http://ead3.archivists.org/schema/}eventdatetime {}\n",
      "   {http://ead3.archivists.org/schema/}agenttype {'value': 'machine'}\n",
      "   {http://ead3.archivists.org/schema/}agent {}\n",
      "   {http://ead3.archivists.org/schema/}eventdescription {}\n",
      "{http://ead3.archivists.org/schema/}archdesc\n",
      "   {http://ead3.archivists.org/schema/}archdesc {'level': 'collection'}\n",
      "   {http://ead3.archivists.org/schema/}did {}\n",
      "   {http://ead3.archivists.org/schema/}unittitle {}\n",
      "   {http://ead3.archivists.org/schema/}unitid {}\n",
      "   {http://ead3.archivists.org/schema/}unitid {'localtype': 'aspace_uri'}\n",
      "   {http://ead3.archivists.org/schema/}repository {}\n",
      "   {http://ead3.archivists.org/schema/}corpname {}\n",
      "   {http://ead3.archivists.org/schema/}part {}\n",
      "   {http://ead3.archivists.org/schema/}langmaterial {}\n",
      "   {http://ead3.archivists.org/schema/}language {'langcode': 'eng'}\n",
      "   {http://ead3.archivists.org/schema/}physdescstructured {'coverage': 'whole', 'physdescstructuredtype': 'spaceoccupied'}\n",
      "   {http://ead3.archivists.org/schema/}quantity {}\n",
      "   {http://ead3.archivists.org/schema/}unittype {}\n",
      "   {http://ead3.archivists.org/schema/}physfacet {}\n",
      "   {http://ead3.archivists.org/schema/}dimensions {}\n",
      "   {http://ead3.archivists.org/schema/}physdesc {'localtype': 'container_summary'}\n",
      "   {http://ead3.archivists.org/schema/}unitdatestructured {'certainty': 'approximate', 'datechar': 'creation', 'era': 'ce', 'unitdatetype': 'bulk'}\n",
      "   {http://ead3.archivists.org/schema/}daterange {}\n",
      "   {http://ead3.archivists.org/schema/}fromdate {'standarddate': '1850'}\n",
      "   {http://ead3.archivists.org/schema/}todate {'standarddate': '1975'}\n",
      "   {http://ead3.archivists.org/schema/}unitdate {'certainty': 'approximate', 'datechar': 'creation', 'era': 'ce', 'unitdatetype': 'bulk'}\n",
      "   {http://ead3.archivists.org/schema/}controlaccess {}\n",
      "   {http://ead3.archivists.org/schema/}subject {'identifier': 'https://id.loc.gov/authorities/subjects/sh85130609.html', 'source': 'lcsh'}\n",
      "   {http://ead3.archivists.org/schema/}part {}\n",
      "   {http://ead3.archivists.org/schema/}geogname {'identifier': 'https://id.loc.gov/authorities/subjects/sh93001909.html', 'source': 'lcsh'}\n",
      "   {http://ead3.archivists.org/schema/}part {}\n",
      "   {http://ead3.archivists.org/schema/}dsc {}\n",
      "   {http://ead3.archivists.org/schema/}c {'id': 'aspace_edab5fb678b5e37fcf34130da5836686', 'level': 'series'}\n",
      "   {http://ead3.archivists.org/schema/}did {}\n",
      "   {http://ead3.archivists.org/schema/}unittitle {}\n",
      "   {http://ead3.archivists.org/schema/}unitid {'localtype': 'aspace_uri'}\n",
      "   {http://ead3.archivists.org/schema/}unitid {}\n",
      "   {http://ead3.archivists.org/schema/}unitdatestructured {'datechar': 'creation', 'unitdatetype': 'bulk'}\n",
      "   {http://ead3.archivists.org/schema/}daterange {}\n",
      "   {http://ead3.archivists.org/schema/}fromdate {'standarddate': '1850'}\n",
      "   {http://ead3.archivists.org/schema/}todate {'standarddate': '1975'}\n",
      "   {http://ead3.archivists.org/schema/}c {'id': 'aspace_cf40ab6e8beda6e2fdb51e0a08d30e06', 'level': 'series'}\n",
      "   {http://ead3.archivists.org/schema/}did {}\n",
      "   {http://ead3.archivists.org/schema/}unittitle {}\n",
      "   {http://ead3.archivists.org/schema/}unitid {'localtype': 'aspace_uri'}\n",
      "   {http://ead3.archivists.org/schema/}unitid {}\n",
      "   {http://ead3.archivists.org/schema/}unitdatestructured {'certainty': 'questionable', 'datechar': 'creation', 'era': 'ce', 'unitdatetype': 'bulk'}\n",
      "   {http://ead3.archivists.org/schema/}daterange {}\n",
      "   {http://ead3.archivists.org/schema/}fromdate {'standarddate': '1850'}\n",
      "   {http://ead3.archivists.org/schema/}todate {'standarddate': '1975'}\n",
      "   {http://ead3.archivists.org/schema/}c {'id': 'aspace_5f14153a5cfd7f41c0b74cb59f429490', 'level': 'series'}\n",
      "   {http://ead3.archivists.org/schema/}did {}\n",
      "   {http://ead3.archivists.org/schema/}unittitle {}\n",
      "   {http://ead3.archivists.org/schema/}unitid {'localtype': 'aspace_uri'}\n",
      "   {http://ead3.archivists.org/schema/}unitid {}\n",
      "   {http://ead3.archivists.org/schema/}scopecontent {'id': 'aspace_7e625d5bbdb28c2317a6a28677ebbd83'}\n",
      "   {http://ead3.archivists.org/schema/}head {}\n",
      "   {http://ead3.archivists.org/schema/}p {}\n",
      "   {http://ead3.archivists.org/schema/}c {'id': 'aspace_0d77dcd4a4330f180ac372a192c51427', 'level': 'file'}\n",
      "   {http://ead3.archivists.org/schema/}did {}\n",
      "   {http://ead3.archivists.org/schema/}unittitle {}\n",
      "   {http://ead3.archivists.org/schema/}unitid {'localtype': 'aspace_uri'}\n",
      "   {http://ead3.archivists.org/schema/}unitid {}\n",
      "   {http://ead3.archivists.org/schema/}unitdatestructured {'datechar': 'creation', 'unitdatetype': 'inclusive'}\n",
      "   {http://ead3.archivists.org/schema/}datesingle {'standarddate': '1975-11-10'}\n"
     ]
    }
   ],
   "source": [
    "for element in root:\n",
    "    print(element.tag)\n",
    "    for el in element.iter():\n",
    "        print('  ', el.tag, el.attrib)"
   ]
  },
  {
   "cell_type": "markdown",
   "metadata": {},
   "source": [
    "## Prefix and asterisk\n",
    "\n",
    "Use the prefix and an asterisk to find all tags from a particular namespace:"
   ]
  },
  {
   "cell_type": "code",
   "execution_count": 51,
   "metadata": {},
   "outputs": [
    {
     "name": "stdout",
     "output_type": "stream",
     "text": [
      "{http://ead3.archivists.org/schema/}control {'countryencoding': 'iso3166-1', 'dateencoding': 'iso8601', 'langencoding': 'iso639-2b', 'relatedencoding': 'marc', 'repositoryencoding': 'iso15511', 'scriptencoding': 'iso15924'}\n",
      "{http://ead3.archivists.org/schema/}recordid {'instanceurl': 'Reading Room & website'}\n",
      "{http://ead3.archivists.org/schema/}filedesc {}\n",
      "{http://ead3.archivists.org/schema/}titlestmt {}\n",
      "{http://ead3.archivists.org/schema/}titleproper {}\n",
      "{http://ead3.archivists.org/schema/}titleproper {'localtype': 'filing'}\n",
      "{http://ead3.archivists.org/schema/}author {}\n",
      "{http://ead3.archivists.org/schema/}publicationstmt {}\n",
      "{http://ead3.archivists.org/schema/}publisher {}\n",
      "{http://ead3.archivists.org/schema/}address {}\n",
      "{http://ead3.archivists.org/schema/}addressline {}\n",
      "{http://ead3.archivists.org/schema/}addressline {}\n",
      "{http://ead3.archivists.org/schema/}addressline {'localtype': 'email'}\n",
      "{http://ead3.archivists.org/schema/}date {}\n",
      "{http://ead3.archivists.org/schema/}num {}\n",
      "{http://ead3.archivists.org/schema/}p {}\n",
      "{http://ead3.archivists.org/schema/}maintenancestatus {'value': 'derived'}\n",
      "{http://ead3.archivists.org/schema/}maintenanceagency {'countrycode': 'US'}\n",
      "{http://ead3.archivists.org/schema/}agencycode {}\n",
      "{http://ead3.archivists.org/schema/}agencyname {}\n",
      "{http://ead3.archivists.org/schema/}languagedeclaration {}\n",
      "{http://ead3.archivists.org/schema/}language {'langcode': 'eng'}\n",
      "{http://ead3.archivists.org/schema/}script {'scriptcode': 'Zyyy'}\n",
      "{http://ead3.archivists.org/schema/}descriptivenote {}\n",
      "{http://ead3.archivists.org/schema/}p {}\n",
      "{http://ead3.archivists.org/schema/}conventiondeclaration {}\n",
      "{http://ead3.archivists.org/schema/}abbr {}\n",
      "{http://ead3.archivists.org/schema/}citation {}\n",
      "{http://ead3.archivists.org/schema/}localcontrol {'localtype': 'findaidstatus'}\n",
      "{http://ead3.archivists.org/schema/}term {}\n",
      "{http://ead3.archivists.org/schema/}maintenancehistory {}\n",
      "{http://ead3.archivists.org/schema/}maintenanceevent {}\n",
      "{http://ead3.archivists.org/schema/}eventtype {'value': 'derived'}\n",
      "{http://ead3.archivists.org/schema/}eventdatetime {}\n",
      "{http://ead3.archivists.org/schema/}agenttype {'value': 'machine'}\n",
      "{http://ead3.archivists.org/schema/}agent {}\n",
      "{http://ead3.archivists.org/schema/}eventdescription {}\n",
      "{http://ead3.archivists.org/schema/}archdesc {'level': 'collection'}\n",
      "{http://ead3.archivists.org/schema/}did {}\n",
      "{http://ead3.archivists.org/schema/}unittitle {}\n",
      "{http://ead3.archivists.org/schema/}unitid {}\n",
      "{http://ead3.archivists.org/schema/}unitid {'localtype': 'aspace_uri'}\n",
      "{http://ead3.archivists.org/schema/}repository {}\n",
      "{http://ead3.archivists.org/schema/}corpname {}\n",
      "{http://ead3.archivists.org/schema/}part {}\n",
      "{http://ead3.archivists.org/schema/}langmaterial {}\n",
      "{http://ead3.archivists.org/schema/}language {'langcode': 'eng'}\n",
      "{http://ead3.archivists.org/schema/}physdescstructured {'coverage': 'whole', 'physdescstructuredtype': 'spaceoccupied'}\n",
      "{http://ead3.archivists.org/schema/}quantity {}\n",
      "{http://ead3.archivists.org/schema/}unittype {}\n",
      "{http://ead3.archivists.org/schema/}physfacet {}\n",
      "{http://ead3.archivists.org/schema/}dimensions {}\n",
      "{http://ead3.archivists.org/schema/}physdesc {'localtype': 'container_summary'}\n",
      "{http://ead3.archivists.org/schema/}unitdatestructured {'certainty': 'approximate', 'datechar': 'creation', 'era': 'ce', 'unitdatetype': 'bulk'}\n",
      "{http://ead3.archivists.org/schema/}daterange {}\n",
      "{http://ead3.archivists.org/schema/}fromdate {'standarddate': '1850'}\n",
      "{http://ead3.archivists.org/schema/}todate {'standarddate': '1975'}\n",
      "{http://ead3.archivists.org/schema/}unitdate {'certainty': 'approximate', 'datechar': 'creation', 'era': 'ce', 'unitdatetype': 'bulk'}\n",
      "{http://ead3.archivists.org/schema/}controlaccess {}\n",
      "{http://ead3.archivists.org/schema/}subject {'identifier': 'https://id.loc.gov/authorities/subjects/sh85130609.html', 'source': 'lcsh'}\n",
      "{http://ead3.archivists.org/schema/}part {}\n",
      "{http://ead3.archivists.org/schema/}geogname {'identifier': 'https://id.loc.gov/authorities/subjects/sh93001909.html', 'source': 'lcsh'}\n",
      "{http://ead3.archivists.org/schema/}part {}\n",
      "{http://ead3.archivists.org/schema/}dsc {}\n",
      "{http://ead3.archivists.org/schema/}c {'id': 'aspace_edab5fb678b5e37fcf34130da5836686', 'level': 'series'}\n",
      "{http://ead3.archivists.org/schema/}did {}\n",
      "{http://ead3.archivists.org/schema/}unittitle {}\n",
      "{http://ead3.archivists.org/schema/}unitid {'localtype': 'aspace_uri'}\n",
      "{http://ead3.archivists.org/schema/}unitid {}\n",
      "{http://ead3.archivists.org/schema/}unitdatestructured {'datechar': 'creation', 'unitdatetype': 'bulk'}\n",
      "{http://ead3.archivists.org/schema/}daterange {}\n",
      "{http://ead3.archivists.org/schema/}fromdate {'standarddate': '1850'}\n",
      "{http://ead3.archivists.org/schema/}todate {'standarddate': '1975'}\n",
      "{http://ead3.archivists.org/schema/}c {'id': 'aspace_cf40ab6e8beda6e2fdb51e0a08d30e06', 'level': 'series'}\n",
      "{http://ead3.archivists.org/schema/}did {}\n",
      "{http://ead3.archivists.org/schema/}unittitle {}\n",
      "{http://ead3.archivists.org/schema/}unitid {'localtype': 'aspace_uri'}\n",
      "{http://ead3.archivists.org/schema/}unitid {}\n",
      "{http://ead3.archivists.org/schema/}unitdatestructured {'certainty': 'questionable', 'datechar': 'creation', 'era': 'ce', 'unitdatetype': 'bulk'}\n",
      "{http://ead3.archivists.org/schema/}daterange {}\n",
      "{http://ead3.archivists.org/schema/}fromdate {'standarddate': '1850'}\n",
      "{http://ead3.archivists.org/schema/}todate {'standarddate': '1975'}\n",
      "{http://ead3.archivists.org/schema/}c {'id': 'aspace_5f14153a5cfd7f41c0b74cb59f429490', 'level': 'series'}\n",
      "{http://ead3.archivists.org/schema/}did {}\n",
      "{http://ead3.archivists.org/schema/}unittitle {}\n",
      "{http://ead3.archivists.org/schema/}unitid {'localtype': 'aspace_uri'}\n",
      "{http://ead3.archivists.org/schema/}unitid {}\n",
      "{http://ead3.archivists.org/schema/}scopecontent {'id': 'aspace_7e625d5bbdb28c2317a6a28677ebbd83'}\n",
      "{http://ead3.archivists.org/schema/}head {}\n",
      "{http://ead3.archivists.org/schema/}p {}\n",
      "{http://ead3.archivists.org/schema/}c {'id': 'aspace_0d77dcd4a4330f180ac372a192c51427', 'level': 'file'}\n",
      "{http://ead3.archivists.org/schema/}did {}\n",
      "{http://ead3.archivists.org/schema/}unittitle {}\n",
      "{http://ead3.archivists.org/schema/}unitid {'localtype': 'aspace_uri'}\n",
      "{http://ead3.archivists.org/schema/}unitid {}\n",
      "{http://ead3.archivists.org/schema/}unitdatestructured {'datechar': 'creation', 'unitdatetype': 'inclusive'}\n",
      "{http://ead3.archivists.org/schema/}datesingle {'standarddate': '1975-11-10'}\n"
     ]
    }
   ],
   "source": [
    "allEadTags = root.findall('.//ead:*', ns)\n",
    "\n",
    "for tag in allEadTags:\n",
    "    print(tag.tag, tag.attrib)"
   ]
  },
  {
   "cell_type": "markdown",
   "metadata": {},
   "source": [
    "## Prefix, asterisk, and attribute\n",
    "\n",
    "Use the prefix, an asterisk, and look for any matching tag wiht a particular attribute. In this case, `level=\"collection\"`:"
   ]
  },
  {
   "cell_type": "code",
   "execution_count": 65,
   "metadata": {},
   "outputs": [
    {
     "name": "stdout",
     "output_type": "stream",
     "text": [
      "{http://ead3.archivists.org/schema/}archdesc {'level': 'collection'}\n"
     ]
    }
   ],
   "source": [
    "levelTags = root.findall('.//ead:*[@level=\"collection\"]', ns)\n",
    "\n",
    "for tag in levelTags:\n",
    "    print(tag.tag, tag.attrib)"
   ]
  },
  {
   "cell_type": "markdown",
   "metadata": {},
   "source": [
    "Similar to above, but audience attribute with the value of \"series\", and \n",
    "add the attribute `checked=\"yes\"` as if you were going through to indicate a process had been undertaken. "
   ]
  },
  {
   "cell_type": "code",
   "execution_count": 66,
   "metadata": {},
   "outputs": [
    {
     "name": "stdout",
     "output_type": "stream",
     "text": [
      "{http://ead3.archivists.org/schema/}c {'id': 'aspace_edab5fb678b5e37fcf34130da5836686', 'level': 'series', 'checked': 'yes'}\n",
      "{http://ead3.archivists.org/schema/}c {'id': 'aspace_cf40ab6e8beda6e2fdb51e0a08d30e06', 'level': 'series', 'checked': 'yes'}\n",
      "{http://ead3.archivists.org/schema/}c {'id': 'aspace_5f14153a5cfd7f41c0b74cb59f429490', 'level': 'series', 'checked': 'yes'}\n"
     ]
    }
   ],
   "source": [
    "# find all tags that have a level attribute that is set to \"series\"\n",
    "levelTags = root.findall('.//ead:*[@level=\"series\"]', ns)\n",
    "\n",
    "for tag in levelTags:\n",
    "    tag.set('checked', 'yes')\n",
    "    print(tag.tag, tag.attrib)\n"
   ]
  },
  {
   "cell_type": "markdown",
   "metadata": {},
   "source": [
    "## Prefix with asterisk and a specific attribute, no specified value\n",
    "\n",
    "Here any tag from the EAD namespace that has an `level` attribute:"
   ]
  },
  {
   "cell_type": "code",
   "execution_count": 67,
   "metadata": {},
   "outputs": [
    {
     "name": "stdout",
     "output_type": "stream",
     "text": [
      "{http://ead3.archivists.org/schema/}archdesc {'level': 'collection'}\n",
      "{http://ead3.archivists.org/schema/}c {'id': 'aspace_edab5fb678b5e37fcf34130da5836686', 'level': 'series', 'checked': 'yes'}\n",
      "{http://ead3.archivists.org/schema/}c {'id': 'aspace_cf40ab6e8beda6e2fdb51e0a08d30e06', 'level': 'series', 'checked': 'yes'}\n",
      "{http://ead3.archivists.org/schema/}c {'id': 'aspace_5f14153a5cfd7f41c0b74cb59f429490', 'level': 'series', 'checked': 'yes'}\n",
      "{http://ead3.archivists.org/schema/}c {'id': 'aspace_0d77dcd4a4330f180ac372a192c51427', 'level': 'file'}\n"
     ]
    }
   ],
   "source": [
    "# look for any tags with level attribute\n",
    "levelTags = root.findall('.//ead:*[@level]', ns)\n",
    "\n",
    "for tag in levelTags:\n",
    "    print(tag.tag, tag.attrib)"
   ]
  },
  {
   "cell_type": "markdown",
   "metadata": {},
   "source": [
    "Using the asterisk, but only looking wihtin the `archdesc` element:"
   ]
  },
  {
   "cell_type": "code",
   "execution_count": 68,
   "metadata": {},
   "outputs": [
    {
     "name": "stdout",
     "output_type": "stream",
     "text": [
      "{http://ead3.archivists.org/schema/}did {}\n",
      "\n",
      "looking for subElements:\n",
      "{http://ead3.archivists.org/schema/}unittitle\n",
      "{http://ead3.archivists.org/schema/}unitid\n",
      "{http://ead3.archivists.org/schema/}unitid\n",
      "{http://ead3.archivists.org/schema/}repository\n",
      "{http://ead3.archivists.org/schema/}corpname\n",
      "{http://ead3.archivists.org/schema/}part\n",
      "{http://ead3.archivists.org/schema/}langmaterial\n",
      "{http://ead3.archivists.org/schema/}language\n",
      "{http://ead3.archivists.org/schema/}physdescstructured\n",
      "{http://ead3.archivists.org/schema/}quantity\n",
      "{http://ead3.archivists.org/schema/}unittype\n",
      "{http://ead3.archivists.org/schema/}physfacet\n",
      "{http://ead3.archivists.org/schema/}dimensions\n",
      "{http://ead3.archivists.org/schema/}physdesc\n",
      "{http://ead3.archivists.org/schema/}unitdatestructured\n",
      "{http://ead3.archivists.org/schema/}daterange\n",
      "{http://ead3.archivists.org/schema/}fromdate\n",
      "{http://ead3.archivists.org/schema/}todate\n",
      "{http://ead3.archivists.org/schema/}unitdate\n",
      "{http://ead3.archivists.org/schema/}controlaccess {}\n",
      "\n",
      "looking for subElements:\n",
      "{http://ead3.archivists.org/schema/}subject\n",
      "{http://ead3.archivists.org/schema/}part\n",
      "{http://ead3.archivists.org/schema/}geogname\n",
      "{http://ead3.archivists.org/schema/}part\n",
      "{http://ead3.archivists.org/schema/}dsc {}\n",
      "\n",
      "looking for subElements:\n",
      "{http://ead3.archivists.org/schema/}c\n",
      "{http://ead3.archivists.org/schema/}did\n",
      "{http://ead3.archivists.org/schema/}unittitle\n",
      "{http://ead3.archivists.org/schema/}unitid\n",
      "{http://ead3.archivists.org/schema/}unitid\n",
      "{http://ead3.archivists.org/schema/}unitdatestructured\n",
      "{http://ead3.archivists.org/schema/}daterange\n",
      "{http://ead3.archivists.org/schema/}fromdate\n",
      "{http://ead3.archivists.org/schema/}todate\n",
      "{http://ead3.archivists.org/schema/}c\n",
      "{http://ead3.archivists.org/schema/}did\n",
      "{http://ead3.archivists.org/schema/}unittitle\n",
      "{http://ead3.archivists.org/schema/}unitid\n",
      "{http://ead3.archivists.org/schema/}unitid\n",
      "{http://ead3.archivists.org/schema/}unitdatestructured\n",
      "{http://ead3.archivists.org/schema/}daterange\n",
      "{http://ead3.archivists.org/schema/}fromdate\n",
      "{http://ead3.archivists.org/schema/}todate\n",
      "{http://ead3.archivists.org/schema/}c\n",
      "{http://ead3.archivists.org/schema/}did\n",
      "{http://ead3.archivists.org/schema/}unittitle\n",
      "{http://ead3.archivists.org/schema/}unitid\n",
      "{http://ead3.archivists.org/schema/}unitid\n",
      "{http://ead3.archivists.org/schema/}scopecontent\n",
      "{http://ead3.archivists.org/schema/}head\n",
      "{http://ead3.archivists.org/schema/}p\n",
      "{http://ead3.archivists.org/schema/}c\n",
      "{http://ead3.archivists.org/schema/}did\n",
      "{http://ead3.archivists.org/schema/}unittitle\n",
      "{http://ead3.archivists.org/schema/}unitid\n",
      "{http://ead3.archivists.org/schema/}unitid\n",
      "{http://ead3.archivists.org/schema/}unitdatestructured\n",
      "{http://ead3.archivists.org/schema/}datesingle\n"
     ]
    }
   ],
   "source": [
    "archDesc = root.find('.//ead:archdesc', ns)\n",
    "\n",
    "for tag in archDesc:\n",
    "    print(tag.tag, tag.attrib)\n",
    "    print('\\nlooking for subElements:')\n",
    "    subElements = tag.findall('.//ead:*', ns)\n",
    "    for subE in subElements:\n",
    "        print(subE.tag)"
   ]
  },
  {
   "cell_type": "code",
   "execution_count": 69,
   "metadata": {},
   "outputs": [
    {
     "name": "stdout",
     "output_type": "stream",
     "text": [
      "{http://ead3.archivists.org/schema/}ead {}\n"
     ]
    }
   ],
   "source": [
    "# all top-level elements\n",
    "elements = root.findall('.', ns)\n",
    "for element in elements:\n",
    "    print(element.tag, element.attrib)"
   ]
  },
  {
   "cell_type": "code",
   "execution_count": 71,
   "metadata": {},
   "outputs": [
    {
     "name": "stdout",
     "output_type": "stream",
     "text": [
      "{http://ead3.archivists.org/schema/}c {'id': 'aspace_edab5fb678b5e37fcf34130da5836686', 'level': 'series', 'checked': 'yes'}\n",
      "{http://ead3.archivists.org/schema/}c {'id': 'aspace_cf40ab6e8beda6e2fdb51e0a08d30e06', 'level': 'series', 'checked': 'yes'}\n",
      "{http://ead3.archivists.org/schema/}c {'id': 'aspace_5f14153a5cfd7f41c0b74cb59f429490', 'level': 'series', 'checked': 'yes'}\n"
     ]
    }
   ],
   "source": [
    "# all elements with an level=series attibute that have a child element did\n",
    "elements = root.findall('.//ead:did/..[@level=\"series\"]', ns)\n",
    "for element in elements:\n",
    "    print(element.tag, element.attrib)"
   ]
  },
  {
   "cell_type": "code",
   "execution_count": 75,
   "metadata": {},
   "outputs": [
    {
     "name": "stdout",
     "output_type": "stream",
     "text": [
      "{http://ead3.archivists.org/schema/}unitid {'localtype': 'aspace_uri'} /repositories/2/archival_objects/3\n",
      "{http://ead3.archivists.org/schema/}unitid {} 00-1332-01\n",
      "{http://ead3.archivists.org/schema/}unitid {'localtype': 'aspace_uri'} /repositories/2/archival_objects/4\n",
      "{http://ead3.archivists.org/schema/}unitid {} 00-1332-02\n",
      "{http://ead3.archivists.org/schema/}unitid {'localtype': 'aspace_uri'} /repositories/2/archival_objects/1\n",
      "{http://ead3.archivists.org/schema/}unitid {} deep-six\n",
      "{http://ead3.archivists.org/schema/}unitid {'localtype': 'aspace_uri'} /repositories/2/archival_objects/2\n",
      "{http://ead3.archivists.org/schema/}unitid {} deep-six\n"
     ]
    }
   ],
   "source": [
    "# all unitid elements that are children of a node with an series level attribute\n",
    "elements = root.findall('.//ead:*[@level=\"series\"]//ead:unitid', ns)\n",
    "for element in elements:\n",
    "    print(element.tag, element.attrib, element.text)"
   ]
  },
  {
   "cell_type": "markdown",
   "metadata": {},
   "source": [
    "# Check and Correct or Remove based on criteria\n",
    "\n",
    "Using an XPath expression, check for certain conditions, then check or remove elements based on those conditions."
   ]
  },
  {
   "cell_type": "code",
   "execution_count": 83,
   "metadata": {},
   "outputs": [
    {
     "name": "stdout",
     "output_type": "stream",
     "text": [
      "{http://ead3.archivists.org/schema/}unitid {'localtype': 'aspace_uri'}\n",
      "localtype: aspace_uri\n",
      "removing...\n"
     ]
    },
    {
     "ename": "ValueError",
     "evalue": "list.remove(x): x not in list",
     "output_type": "error",
     "traceback": [
      "\u001b[0;31m---------------------------------------------------------------------------\u001b[0m",
      "\u001b[0;31mValueError\u001b[0m                                Traceback (most recent call last)",
      "\u001b[1;32m/Users/jajohnst/Desktop/networked-services-labs-2023/xml-xpath-examples-EAD.ipynb Cell 29\u001b[0m line \u001b[0;36m1\n\u001b[1;32m     <a href='vscode-notebook-cell:/Users/jajohnst/Desktop/networked-services-labs-2023/xml-xpath-examples-EAD.ipynb#X26sZmlsZQ%3D%3D?line=10'>11</a>\u001b[0m         count_removals \u001b[39m+\u001b[39m\u001b[39m=\u001b[39m \u001b[39m1\u001b[39m\n\u001b[1;32m     <a href='vscode-notebook-cell:/Users/jajohnst/Desktop/networked-services-labs-2023/xml-xpath-examples-EAD.ipynb#X26sZmlsZQ%3D%3D?line=11'>12</a>\u001b[0m         \u001b[39mprint\u001b[39m(\u001b[39m'\u001b[39m\u001b[39mremoving...\u001b[39m\u001b[39m'\u001b[39m)\n\u001b[0;32m---> <a href='vscode-notebook-cell:/Users/jajohnst/Desktop/networked-services-labs-2023/xml-xpath-examples-EAD.ipynb#X26sZmlsZQ%3D%3D?line=12'>13</a>\u001b[0m         root\u001b[39m.\u001b[39;49mremove(unitid)\n\u001b[1;32m     <a href='vscode-notebook-cell:/Users/jajohnst/Desktop/networked-services-labs-2023/xml-xpath-examples-EAD.ipynb#X26sZmlsZQ%3D%3D?line=14'>15</a>\u001b[0m \u001b[39m# report\u001b[39;00m\n\u001b[1;32m     <a href='vscode-notebook-cell:/Users/jajohnst/Desktop/networked-services-labs-2023/xml-xpath-examples-EAD.ipynb#X26sZmlsZQ%3D%3D?line=15'>16</a>\u001b[0m \u001b[39mprint\u001b[39m(\u001b[39mf\u001b[39m\u001b[39m'\u001b[39m\u001b[39mremoved \u001b[39m\u001b[39m{\u001b[39;00mcount_removals\u001b[39m}\u001b[39;00m\u001b[39m localtype elements.\u001b[39m\u001b[39m'\u001b[39m)\n",
      "\u001b[0;31mValueError\u001b[0m: list.remove(x): x not in list"
     ]
    }
   ],
   "source": [
    "# TODO: fix removals example; this follows an example in the ET documentation, but \n",
    "# presently, does not work:\n",
    "count_removals = 0\n",
    "\n",
    "# remove all unitid nodes with an localtype attrib\n",
    "for unitid in root.findall('.//ead:unitid[@localtype]', ns):\n",
    "    print(unitid.tag, unitid.attrib)\n",
    "    localtype = unitid.get('localtype')\n",
    "    print('localtype:',localtype)\n",
    "    if localtype == 'aspace_uri':\n",
    "        count_removals += 1\n",
    "        print('removing...')\n",
    "        root.remove(unitid)\n",
    "\n",
    "# report\n",
    "print(f'removed {count_removals} localtype elements.')"
   ]
  },
  {
   "cell_type": "markdown",
   "metadata": {},
   "source": [
    "# Write out / Save as XML\n",
    "\n",
    "Examples of how to save the modified tree as well-formed and valid XML with EAD namespace:"
   ]
  },
  {
   "cell_type": "code",
   "execution_count": 84,
   "metadata": {},
   "outputs": [],
   "source": [
    "ET.register_namespace('ead', 'http://ead3.archivists.org/schema/')"
   ]
  },
  {
   "cell_type": "code",
   "execution_count": 91,
   "metadata": {},
   "outputs": [
    {
     "name": "stdout",
     "output_type": "stream",
     "text": [
      "<?xml version='1.0' encoding='utf-8'?>\n",
      "<ead:ead xmlns:ead=\"http://ead3.archivists.org/schema/\">\n",
      "  <ead:control countryencoding=\"iso3166-1\" dateencoding=\"iso8601\" langencoding=\"iso639-2b\" relatedencoding=\"marc\" repositoryencoding=\"iso15511\" scriptencoding=\"iso15924\"><ead:recordid instanceurl=\"Reading Room &amp; website\">00-1332</ead:recordid><ead:filedesc><ead:titlestmt><ead:titleproper>The Superior Papers </ead:titleproper><ead:titleproper localtype=\"filing\">Superior Papers, The</ead:titleproper><ead:author>Jesse Johnston</ead:author></ead:titlestmt><ead:publicationstmt><ead:publisher>SI 667: Foundations of Digital Curation, winter 2023</ead:publisher><ead:address><ead:addressline>105 S State St</ead:addressline><ead:addressline>Ann Arbor, Michigan 48109</ead:addressline><ead:addressline localtype=\"email\">jajohnst@umich.edu</ead:addressline></ead:address><ead:date>July 10, 2023</ead:date><ead:num>00.1332</ead:num><ead:p /></ead:publicationstmt></ead:filedesc><ead:maintenancestatus value=\"derived\" /><ead:maintenanceagency countrycode=\"US\"><ead:agencycode>US-umsi</ead:agencycode><ead:agencyname>SI 667: Foundations of Digital Curation, winter 2023</ead:agencyname></ead:maintenanceagency><ead:languagedeclaration><ead:language langcode=\"eng\">English</ead:language><ead:script scriptcode=\"Zyyy\">Code for undetermined script</ead:script><ead:descriptivenote><ead:p>Described in English.</ead:p></ead:descriptivenote></ead:languagedeclaration><ead:conventiondeclaration><ead:abbr>dacs</ead:abbr><ead:citation>Describing Archives: A Content Standard</ead:citation></ead:conventiondeclaration><ead:localcontrol localtype=\"findaidstatus\"><ead:term>in_progress</ead:term></ead:localcontrol><ead:maintenancehistory><ead:maintenanceevent><ead:eventtype value=\"derived\" /><ead:eventdatetime>2023-09-26T09:31:50-04:00</ead:eventdatetime><ead:agenttype value=\"machine\" /><ead:agent>ArchivesSpace v3.4.1</ead:agent><ead:eventdescription>This finding aid was produced using ArchivesSpace on Tuesday September 26, 2023 at 09:31</ead:eventdescription></ead:maintenanceevent></ead:maintenancehistory></ead:control>\n",
      "  <ead:archdesc level=\"collection\">\n",
      "    <ead:did>\n",
      "      <ead:unittitle>The Superior Collection</ead:unittitle>\n",
      "      <ead:unitid>00.1332</ead:unitid>\n",
      "      <ead:unitid localtype=\"aspace_uri\">/repositories/2/resources/1</ead:unitid>\n",
      "      <ead:repository>\n",
      "        <ead:corpname>\n",
      "          <ead:part>SI 667: Foundations of Digital Curation, winter 2023</ead:part>\n",
      "        </ead:corpname>\n",
      "      </ead:repository>\n",
      "      <ead:langmaterial>\n",
      "        <ead:language langcode=\"eng\">English</ead:language>\n",
      "      </ead:langmaterial>\n",
      "      <ead:physdescstructured coverage=\"whole\" physdescstructuredtype=\"spaceoccupied\">\n",
      "        <ead:quantity>1332</ead:quantity>\n",
      "        <ead:unittype>Linear Feet</ead:unittype>\n",
      "        <ead:physfacet>These are standard sized file containers. </ead:physfacet>\n",
      "        <ead:dimensions>Please measure.</ead:dimensions>\n",
      "      </ead:physdescstructured>\n",
      "      <ead:physdesc localtype=\"container_summary\">Boxes occupying 1,332 linear feet. They reach the bottom of the lake.</ead:physdesc>\n",
      "      <ead:unitdatestructured certainty=\"approximate\" datechar=\"creation\" era=\"ce\" unitdatetype=\"bulk\">\n",
      "        <ead:daterange>\n",
      "          <ead:fromdate standarddate=\"1850\">1850</ead:fromdate>\n",
      "          <ead:todate standarddate=\"1975\">1975</ead:todate>\n",
      "        </ead:daterange>\n",
      "      </ead:unitdatestructured>\n",
      "      <ead:unitdate certainty=\"approximate\" datechar=\"creation\" era=\"ce\" unitdatetype=\"bulk\">The Lake was formed approximately 1.2 billion years before the current era, materials in this collection may pertain to any aspect of the Lake. Most of the materials date from 1850 to 1975.</ead:unitdate>\n",
      "    </ead:did>\n",
      "    <ead:controlaccess>\n",
      "      <ead:subject identifier=\"https://id.loc.gov/authorities/subjects/sh85130609.html\" source=\"lcsh\">\n",
      "        <ead:part>Superior, Lake</ead:part>\n",
      "      </ead:subject>\n",
      "      <ead:geogname identifier=\"https://id.loc.gov/authorities/subjects/sh93001909.html\" source=\"lcsh\">\n",
      "        <ead:part>Lake, Superior, Watershed</ead:part>\n",
      "      </ead:geogname>\n",
      "    </ead:controlaccess>\n",
      "    <ead:dsc><ead:c id=\"aspace_edab5fb678b5e37fcf34130da5836686\" level=\"series\" checked=\"yes\"><ead:did><ead:unittitle>Business Records</ead:unittitle><ead:unitid localtype=\"aspace_uri\">/repositories/2/archival_objects/3</ead:unitid><ead:unitid>00-1332-01</ead:unitid><ead:unitdatestructured datechar=\"creation\" unitdatetype=\"bulk\"><ead:daterange><ead:fromdate standarddate=\"1850\">1850</ead:fromdate><ead:todate standarddate=\"1975\">1975</ead:todate></ead:daterange></ead:unitdatestructured></ead:did></ead:c><ead:c id=\"aspace_cf40ab6e8beda6e2fdb51e0a08d30e06\" level=\"series\" checked=\"yes\"><ead:did><ead:unittitle>Correspondence</ead:unittitle><ead:unitid localtype=\"aspace_uri\">/repositories/2/archival_objects/4</ead:unitid><ead:unitid>00-1332-02</ead:unitid><ead:unitdatestructured certainty=\"questionable\" datechar=\"creation\" era=\"ce\" unitdatetype=\"bulk\"><ead:daterange><ead:fromdate standarddate=\"1850\">1850</ead:fromdate><ead:todate standarddate=\"1975\">1975</ead:todate></ead:daterange></ead:unitdatestructured></ead:did></ead:c><ead:c id=\"aspace_5f14153a5cfd7f41c0b74cb59f429490\" level=\"series\" checked=\"yes\"><ead:did><ead:unittitle>Shipwreck Files</ead:unittitle><ead:unitid localtype=\"aspace_uri\">/repositories/2/archival_objects/1</ead:unitid><ead:unitid>deep-six</ead:unitid></ead:did><ead:scopecontent id=\"aspace_7e625d5bbdb28c2317a6a28677ebbd83\"><ead:head>Scope and Contents</ead:head><ead:p>This series contains items (mostly boxes or individual folders) related to the investigation of and publicity about the destruction or disappearance of individual vesels (whether ships or smaller craft) on Lake Superior. The time period covered is any era of known wreckage, whether heavily documented or only known through story and lore. Information pertaining to individuals crewing or aboard a wrecked vessel may be filed separately and should be noted, if applicable.</ead:p></ead:scopecontent><ead:c id=\"aspace_0d77dcd4a4330f180ac372a192c51427\" level=\"file\"><ead:did><ead:unittitle>Edmund Fitzgerald, Wreck of the</ead:unittitle><ead:unitid localtype=\"aspace_uri\">/repositories/2/archival_objects/2</ead:unitid><ead:unitid>deep-six</ead:unitid><ead:unitdatestructured datechar=\"creation\" unitdatetype=\"inclusive\"><ead:datesingle standarddate=\"1975-11-10\">1975-11-10</ead:datesingle></ead:unitdatestructured></ead:did></ead:c></ead:c></ead:dsc>\n",
      "</ead:archdesc>\n",
      "</ead:ead>\n"
     ]
    }
   ],
   "source": [
    "print(ET.tostring(root, encoding='utf-8', xml_declaration=True).decode('utf-8'))"
   ]
  },
  {
   "cell_type": "code",
   "execution_count": 88,
   "metadata": {},
   "outputs": [],
   "source": [
    "tree.write('data/xml/superior-papers.xml', xml_declaration=True, encoding='utf-8')"
   ]
  }
 ],
 "metadata": {
  "kernelspec": {
   "display_name": "Python 3.9.12 ('base')",
   "language": "python",
   "name": "python3"
  },
  "language_info": {
   "codemirror_mode": {
    "name": "ipython",
    "version": 3
   },
   "file_extension": ".py",
   "mimetype": "text/x-python",
   "name": "python",
   "nbconvert_exporter": "python",
   "pygments_lexer": "ipython3",
   "version": "3.9.18"
  },
  "orig_nbformat": 4,
  "vscode": {
   "interpreter": {
    "hash": "433e84b6a98ffad52b36edc50e1a65f78fac85298e4e4f5ab24f4a24b9cfbcd2"
   }
  }
 },
 "nbformat": 4,
 "nbformat_minor": 2
}
